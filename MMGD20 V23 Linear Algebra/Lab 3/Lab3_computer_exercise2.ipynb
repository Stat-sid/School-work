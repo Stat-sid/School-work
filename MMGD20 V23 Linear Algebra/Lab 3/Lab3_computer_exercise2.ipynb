{
 "cells": [
  {
   "cell_type": "code",
   "execution_count": 1,
   "metadata": {},
   "outputs": [],
   "source": [
    "import numpy as np"
   ]
  },
  {
   "cell_type": "code",
   "execution_count": 22,
   "metadata": {},
   "outputs": [],
   "source": [
    "a1 = np.array([\n",
    "    [800, 7890, 56],\n",
    "    [195, 56, 9463],\n",
    "    [67, 98, 123432]\n",
    "])"
   ]
  },
  {
   "cell_type": "code",
   "execution_count": 6,
   "metadata": {},
   "outputs": [],
   "source": [
    "v0 = np.array([1/3, 1/3, 1/3])\n",
    "\n",
    "a = np.array([\n",
    "    [0.7, 0.1, 0.3],\n",
    "    [0.1, 0.6, 0.2],\n",
    "    [0.2, 0.3, 0.5]\n",
    "])\n",
    "\n",
    "n = [1, 10, 100, 1000, 10000, 100000]"
   ]
  },
  {
   "cell_type": "code",
   "execution_count": 20,
   "metadata": {},
   "outputs": [],
   "source": [
    "def calculate_cars(n, v, a):\n",
    "    remaining_cars = []\n",
    "\n",
    "    for i in n:\n",
    "        cars_n = np.linalg.matrix_power(a, i)\n",
    "        remaining_cars.append(np.matmul(cars_n, v))\n",
    "\n",
    "    return remaining_cars"
   ]
  },
  {
   "cell_type": "code",
   "execution_count": 24,
   "metadata": {},
   "outputs": [
    {
     "data": {
      "text/plain": [
       "[array([0.36666667, 0.3       , 0.33333333]),\n",
       " array([0.4115748 , 0.26484018, 0.32358502]),\n",
       " array([0.41176471, 0.26470588, 0.32352941]),\n",
       " array([0.41176471, 0.26470588, 0.32352941]),\n",
       " array([0.41176471, 0.26470588, 0.32352941]),\n",
       " array([0.41176471, 0.26470588, 0.32352941])]"
      ]
     },
     "execution_count": 24,
     "metadata": {},
     "output_type": "execute_result"
    }
   ],
   "source": [
    "calculate_cars(n, v=v0, a=a)"
   ]
  }
 ],
 "metadata": {
  "kernelspec": {
   "display_name": "Python 3",
   "language": "python",
   "name": "python3"
  },
  "language_info": {
   "codemirror_mode": {
    "name": "ipython",
    "version": 3
   },
   "file_extension": ".py",
   "mimetype": "text/x-python",
   "name": "python",
   "nbconvert_exporter": "python",
   "pygments_lexer": "ipython3",
   "version": "3.10.9"
  },
  "orig_nbformat": 4,
  "vscode": {
   "interpreter": {
    "hash": "89819e1d67d96602d7ae8598ec2b2f4f6b2cd5be6b4333e6ae2d1768cbea82d4"
   }
  }
 },
 "nbformat": 4,
 "nbformat_minor": 2
}
