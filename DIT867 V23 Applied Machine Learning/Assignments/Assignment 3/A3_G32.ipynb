{
 "cells": [
  {
   "attachments": {},
   "cell_type": "markdown",
   "metadata": {},
   "source": [
    "# DIT867 V23 Applied Machine Learning \n",
    "# Programming assignment 3: Stance classification\n",
    "\n",
    "Students: \n",
    "- Leo Carlsson\n",
    "- Efstathios Sidiropoulos"
   ]
  },
  {
   "attachments": {},
   "cell_type": "markdown",
   "metadata": {},
   "source": [
    "## Part 1: Crowdsourcing the data"
   ]
  },
  {
   "attachments": {},
   "cell_type": "markdown",
   "metadata": {},
   "source": [
    "Excel file submitted individually."
   ]
  },
  {
   "attachments": {},
   "cell_type": "markdown",
   "metadata": {},
   "source": [
    "## Part 2: Second round of annotation"
   ]
  }
 ],
 "metadata": {
  "kernelspec": {
   "display_name": "Python 3",
   "language": "python",
   "name": "python3"
  },
  "language_info": {
   "name": "python",
   "version": "3.10.9 (tags/v3.10.9:1dd9be6, Dec  6 2022, 20:01:21) [MSC v.1934 64 bit (AMD64)]"
  },
  "orig_nbformat": 4,
  "vscode": {
   "interpreter": {
    "hash": "89819e1d67d96602d7ae8598ec2b2f4f6b2cd5be6b4333e6ae2d1768cbea82d4"
   }
  }
 },
 "nbformat": 4,
 "nbformat_minor": 2
}
