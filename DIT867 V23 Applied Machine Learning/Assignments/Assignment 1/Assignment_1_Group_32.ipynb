{
  "cells": [
    {
      "attachments": {},
      "cell_type": "markdown",
      "metadata": {
        "id": "3SrmeiTUqxoD"
      },
      "source": [
        "# Programming assignment 1: introductory tour and decision trees\n",
        "Leo Carlsson and Efstathios Sidiropoulos. "
      ]
    },
    {
      "cell_type": "markdown",
      "metadata": {
        "id": "ie5aJHxqqxoF"
      },
      "source": [
        "## Task 0: Making sure that you have the required libraries"
      ]
    },
    {
      "cell_type": "code",
      "execution_count": 1,
      "metadata": {
        "id": "MJ7pvX-dqxoG"
      },
      "outputs": [],
      "source": [
        "import numpy as np\n",
        "import pandas as pd\n",
        "from sklearn.dummy import DummyClassifier\n",
        "from sklearn.model_selection import train_test_split, cross_val_score, cross_validate, GridSearchCV\n",
        "from sklearn.metrics import accuracy_score, f1_score, mean_squared_error\n",
        "\n",
        "import matplotlib.pyplot as plt"
      ]
    },
    {
      "cell_type": "markdown",
      "metadata": {
        "id": "7EnJvx7oqxoH"
      },
      "source": [
        "## Task 1: A classification example: fetal heart condition diagnosis"
      ]
    },
    {
      "cell_type": "markdown",
      "metadata": {
        "id": "XVUSZI-KqxoH"
      },
      "source": [
        "### Step 1. Reading the data"
      ]
    },
    {
      "cell_type": "code",
      "execution_count": 2,
      "metadata": {
        "id": "7uRqMiheqxoH"
      },
      "outputs": [],
      "source": [
        "# Read the CSV file.\n",
        "url = \"https://www.cse.chalmers.se/~richajo/dit866/data/CTG.csv\"\n",
        "data = pd.read_csv(url, skiprows=1)"
      ]
    },
    {
      "cell_type": "code",
      "execution_count": 3,
      "metadata": {
        "colab": {
          "base_uri": "https://localhost:8080/",
          "height": 236
        },
        "id": "JYW74jflqxoH",
        "outputId": "6137262a-3251-48b4-e0ba-161c561c8de4"
      },
      "outputs": [
        {
          "data": {
            "text/html": [
              "<div>\n",
              "<style scoped>\n",
              "    .dataframe tbody tr th:only-of-type {\n",
              "        vertical-align: middle;\n",
              "    }\n",
              "\n",
              "    .dataframe tbody tr th {\n",
              "        vertical-align: top;\n",
              "    }\n",
              "\n",
              "    .dataframe thead th {\n",
              "        text-align: right;\n",
              "    }\n",
              "</style>\n",
              "<table border=\"1\" class=\"dataframe\">\n",
              "  <thead>\n",
              "    <tr style=\"text-align: right;\">\n",
              "      <th></th>\n",
              "      <th>b</th>\n",
              "      <th>e</th>\n",
              "      <th>AC</th>\n",
              "      <th>FM</th>\n",
              "      <th>UC</th>\n",
              "      <th>DL</th>\n",
              "      <th>DS</th>\n",
              "      <th>DP</th>\n",
              "      <th>DR</th>\n",
              "      <th>Unnamed: 9</th>\n",
              "      <th>...</th>\n",
              "      <th>E</th>\n",
              "      <th>AD</th>\n",
              "      <th>DE</th>\n",
              "      <th>LD</th>\n",
              "      <th>FS</th>\n",
              "      <th>SUSP</th>\n",
              "      <th>Unnamed: 42</th>\n",
              "      <th>CLASS</th>\n",
              "      <th>Unnamed: 44</th>\n",
              "      <th>NSP</th>\n",
              "    </tr>\n",
              "  </thead>\n",
              "  <tbody>\n",
              "    <tr>\n",
              "      <th>0</th>\n",
              "      <td>240.0</td>\n",
              "      <td>357.0</td>\n",
              "      <td>0.0</td>\n",
              "      <td>0.0</td>\n",
              "      <td>0.0</td>\n",
              "      <td>0.0</td>\n",
              "      <td>0.0</td>\n",
              "      <td>0.0</td>\n",
              "      <td>0.0</td>\n",
              "      <td>NaN</td>\n",
              "      <td>...</td>\n",
              "      <td>-1.0</td>\n",
              "      <td>-1.0</td>\n",
              "      <td>-1.0</td>\n",
              "      <td>-1.0</td>\n",
              "      <td>1.0</td>\n",
              "      <td>-1.0</td>\n",
              "      <td>NaN</td>\n",
              "      <td>9.0</td>\n",
              "      <td>NaN</td>\n",
              "      <td>2.0</td>\n",
              "    </tr>\n",
              "    <tr>\n",
              "      <th>1</th>\n",
              "      <td>5.0</td>\n",
              "      <td>632.0</td>\n",
              "      <td>4.0</td>\n",
              "      <td>0.0</td>\n",
              "      <td>4.0</td>\n",
              "      <td>2.0</td>\n",
              "      <td>0.0</td>\n",
              "      <td>0.0</td>\n",
              "      <td>0.0</td>\n",
              "      <td>NaN</td>\n",
              "      <td>...</td>\n",
              "      <td>-1.0</td>\n",
              "      <td>1.0</td>\n",
              "      <td>-1.0</td>\n",
              "      <td>-1.0</td>\n",
              "      <td>-1.0</td>\n",
              "      <td>-1.0</td>\n",
              "      <td>NaN</td>\n",
              "      <td>6.0</td>\n",
              "      <td>NaN</td>\n",
              "      <td>1.0</td>\n",
              "    </tr>\n",
              "    <tr>\n",
              "      <th>2</th>\n",
              "      <td>177.0</td>\n",
              "      <td>779.0</td>\n",
              "      <td>2.0</td>\n",
              "      <td>0.0</td>\n",
              "      <td>5.0</td>\n",
              "      <td>2.0</td>\n",
              "      <td>0.0</td>\n",
              "      <td>0.0</td>\n",
              "      <td>0.0</td>\n",
              "      <td>NaN</td>\n",
              "      <td>...</td>\n",
              "      <td>-1.0</td>\n",
              "      <td>1.0</td>\n",
              "      <td>-1.0</td>\n",
              "      <td>-1.0</td>\n",
              "      <td>-1.0</td>\n",
              "      <td>-1.0</td>\n",
              "      <td>NaN</td>\n",
              "      <td>6.0</td>\n",
              "      <td>NaN</td>\n",
              "      <td>1.0</td>\n",
              "    </tr>\n",
              "    <tr>\n",
              "      <th>3</th>\n",
              "      <td>411.0</td>\n",
              "      <td>1192.0</td>\n",
              "      <td>2.0</td>\n",
              "      <td>0.0</td>\n",
              "      <td>6.0</td>\n",
              "      <td>2.0</td>\n",
              "      <td>0.0</td>\n",
              "      <td>0.0</td>\n",
              "      <td>0.0</td>\n",
              "      <td>NaN</td>\n",
              "      <td>...</td>\n",
              "      <td>-1.0</td>\n",
              "      <td>1.0</td>\n",
              "      <td>-1.0</td>\n",
              "      <td>-1.0</td>\n",
              "      <td>-1.0</td>\n",
              "      <td>-1.0</td>\n",
              "      <td>NaN</td>\n",
              "      <td>6.0</td>\n",
              "      <td>NaN</td>\n",
              "      <td>1.0</td>\n",
              "    </tr>\n",
              "    <tr>\n",
              "      <th>4</th>\n",
              "      <td>533.0</td>\n",
              "      <td>1147.0</td>\n",
              "      <td>4.0</td>\n",
              "      <td>0.0</td>\n",
              "      <td>5.0</td>\n",
              "      <td>0.0</td>\n",
              "      <td>0.0</td>\n",
              "      <td>0.0</td>\n",
              "      <td>0.0</td>\n",
              "      <td>NaN</td>\n",
              "      <td>...</td>\n",
              "      <td>-1.0</td>\n",
              "      <td>-1.0</td>\n",
              "      <td>-1.0</td>\n",
              "      <td>-1.0</td>\n",
              "      <td>-1.0</td>\n",
              "      <td>-1.0</td>\n",
              "      <td>NaN</td>\n",
              "      <td>2.0</td>\n",
              "      <td>NaN</td>\n",
              "      <td>1.0</td>\n",
              "    </tr>\n",
              "  </tbody>\n",
              "</table>\n",
              "<p>5 rows × 46 columns</p>\n",
              "</div>"
            ],
            "text/plain": [
              "       b       e   AC   FM   UC   DL   DS   DP   DR  Unnamed: 9  ...    E  \\\n",
              "0  240.0   357.0  0.0  0.0  0.0  0.0  0.0  0.0  0.0         NaN  ... -1.0   \n",
              "1    5.0   632.0  4.0  0.0  4.0  2.0  0.0  0.0  0.0         NaN  ... -1.0   \n",
              "2  177.0   779.0  2.0  0.0  5.0  2.0  0.0  0.0  0.0         NaN  ... -1.0   \n",
              "3  411.0  1192.0  2.0  0.0  6.0  2.0  0.0  0.0  0.0         NaN  ... -1.0   \n",
              "4  533.0  1147.0  4.0  0.0  5.0  0.0  0.0  0.0  0.0         NaN  ... -1.0   \n",
              "\n",
              "    AD   DE   LD   FS  SUSP  Unnamed: 42  CLASS  Unnamed: 44  NSP  \n",
              "0 -1.0 -1.0 -1.0  1.0  -1.0          NaN    9.0          NaN  2.0  \n",
              "1  1.0 -1.0 -1.0 -1.0  -1.0          NaN    6.0          NaN  1.0  \n",
              "2  1.0 -1.0 -1.0 -1.0  -1.0          NaN    6.0          NaN  1.0  \n",
              "3  1.0 -1.0 -1.0 -1.0  -1.0          NaN    6.0          NaN  1.0  \n",
              "4 -1.0 -1.0 -1.0 -1.0  -1.0          NaN    2.0          NaN  1.0  \n",
              "\n",
              "[5 rows x 46 columns]"
            ]
          },
          "execution_count": 3,
          "metadata": {},
          "output_type": "execute_result"
        }
      ],
      "source": [
        "data.head()"
      ]
    },
    {
      "cell_type": "code",
      "execution_count": 4,
      "metadata": {
        "id": "Aet20bPqqxoI"
      },
      "outputs": [],
      "source": [
        "# Select the relevant numerical columns.\n",
        "selected_cols = ['LB', 'AC', 'FM', 'UC', 'DL', 'DS', 'DP', 'ASTV', 'MSTV', 'ALTV',\n",
        "                 'MLTV', 'Width', 'Min', 'Max', 'Nmax', 'Nzeros', 'Mode', 'Mean',\n",
        "                 'Median', 'Variance', 'Tendency', 'NSP']\n",
        "data = data[selected_cols].dropna()\n",
        "\n",
        "# Shuffle the dataset.\n",
        "data_shuffled = data.sample(frac=1.0, random_state=0)"
      ]
    },
    {
      "cell_type": "code",
      "execution_count": 5,
      "metadata": {
        "colab": {
          "base_uri": "https://localhost:8080/",
          "height": 424
        },
        "id": "vVSJdfxVqxoJ",
        "outputId": "6c2e57b1-1d3f-4659-9349-518b451ea3ba"
      },
      "outputs": [
        {
          "data": {
            "text/html": [
              "<div>\n",
              "<style scoped>\n",
              "    .dataframe tbody tr th:only-of-type {\n",
              "        vertical-align: middle;\n",
              "    }\n",
              "\n",
              "    .dataframe tbody tr th {\n",
              "        vertical-align: top;\n",
              "    }\n",
              "\n",
              "    .dataframe thead th {\n",
              "        text-align: right;\n",
              "    }\n",
              "</style>\n",
              "<table border=\"1\" class=\"dataframe\">\n",
              "  <thead>\n",
              "    <tr style=\"text-align: right;\">\n",
              "      <th></th>\n",
              "      <th>LB</th>\n",
              "      <th>AC</th>\n",
              "      <th>FM</th>\n",
              "      <th>UC</th>\n",
              "      <th>DL</th>\n",
              "      <th>DS</th>\n",
              "      <th>DP</th>\n",
              "      <th>ASTV</th>\n",
              "      <th>MSTV</th>\n",
              "      <th>ALTV</th>\n",
              "      <th>...</th>\n",
              "      <th>Width</th>\n",
              "      <th>Min</th>\n",
              "      <th>Max</th>\n",
              "      <th>Nmax</th>\n",
              "      <th>Nzeros</th>\n",
              "      <th>Mode</th>\n",
              "      <th>Mean</th>\n",
              "      <th>Median</th>\n",
              "      <th>Variance</th>\n",
              "      <th>Tendency</th>\n",
              "    </tr>\n",
              "  </thead>\n",
              "  <tbody>\n",
              "    <tr>\n",
              "      <th>658</th>\n",
              "      <td>130.0</td>\n",
              "      <td>1.0</td>\n",
              "      <td>0.0</td>\n",
              "      <td>3.0</td>\n",
              "      <td>0.0</td>\n",
              "      <td>0.0</td>\n",
              "      <td>0.0</td>\n",
              "      <td>24.0</td>\n",
              "      <td>1.2</td>\n",
              "      <td>12.0</td>\n",
              "      <td>...</td>\n",
              "      <td>35.0</td>\n",
              "      <td>120.0</td>\n",
              "      <td>155.0</td>\n",
              "      <td>1.0</td>\n",
              "      <td>0.0</td>\n",
              "      <td>134.0</td>\n",
              "      <td>133.0</td>\n",
              "      <td>135.0</td>\n",
              "      <td>1.0</td>\n",
              "      <td>0.0</td>\n",
              "    </tr>\n",
              "    <tr>\n",
              "      <th>1734</th>\n",
              "      <td>134.0</td>\n",
              "      <td>9.0</td>\n",
              "      <td>1.0</td>\n",
              "      <td>8.0</td>\n",
              "      <td>5.0</td>\n",
              "      <td>0.0</td>\n",
              "      <td>0.0</td>\n",
              "      <td>59.0</td>\n",
              "      <td>1.2</td>\n",
              "      <td>0.0</td>\n",
              "      <td>...</td>\n",
              "      <td>109.0</td>\n",
              "      <td>80.0</td>\n",
              "      <td>189.0</td>\n",
              "      <td>6.0</td>\n",
              "      <td>0.0</td>\n",
              "      <td>150.0</td>\n",
              "      <td>146.0</td>\n",
              "      <td>150.0</td>\n",
              "      <td>33.0</td>\n",
              "      <td>0.0</td>\n",
              "    </tr>\n",
              "    <tr>\n",
              "      <th>1226</th>\n",
              "      <td>125.0</td>\n",
              "      <td>1.0</td>\n",
              "      <td>0.0</td>\n",
              "      <td>4.0</td>\n",
              "      <td>0.0</td>\n",
              "      <td>0.0</td>\n",
              "      <td>0.0</td>\n",
              "      <td>43.0</td>\n",
              "      <td>0.7</td>\n",
              "      <td>31.0</td>\n",
              "      <td>...</td>\n",
              "      <td>21.0</td>\n",
              "      <td>120.0</td>\n",
              "      <td>141.0</td>\n",
              "      <td>0.0</td>\n",
              "      <td>0.0</td>\n",
              "      <td>131.0</td>\n",
              "      <td>130.0</td>\n",
              "      <td>132.0</td>\n",
              "      <td>1.0</td>\n",
              "      <td>0.0</td>\n",
              "    </tr>\n",
              "    <tr>\n",
              "      <th>1808</th>\n",
              "      <td>143.0</td>\n",
              "      <td>0.0</td>\n",
              "      <td>0.0</td>\n",
              "      <td>1.0</td>\n",
              "      <td>0.0</td>\n",
              "      <td>0.0</td>\n",
              "      <td>0.0</td>\n",
              "      <td>69.0</td>\n",
              "      <td>0.3</td>\n",
              "      <td>6.0</td>\n",
              "      <td>...</td>\n",
              "      <td>27.0</td>\n",
              "      <td>132.0</td>\n",
              "      <td>159.0</td>\n",
              "      <td>1.0</td>\n",
              "      <td>0.0</td>\n",
              "      <td>145.0</td>\n",
              "      <td>144.0</td>\n",
              "      <td>146.0</td>\n",
              "      <td>1.0</td>\n",
              "      <td>0.0</td>\n",
              "    </tr>\n",
              "    <tr>\n",
              "      <th>825</th>\n",
              "      <td>152.0</td>\n",
              "      <td>0.0</td>\n",
              "      <td>0.0</td>\n",
              "      <td>4.0</td>\n",
              "      <td>0.0</td>\n",
              "      <td>0.0</td>\n",
              "      <td>0.0</td>\n",
              "      <td>62.0</td>\n",
              "      <td>0.4</td>\n",
              "      <td>59.0</td>\n",
              "      <td>...</td>\n",
              "      <td>25.0</td>\n",
              "      <td>136.0</td>\n",
              "      <td>161.0</td>\n",
              "      <td>0.0</td>\n",
              "      <td>0.0</td>\n",
              "      <td>159.0</td>\n",
              "      <td>156.0</td>\n",
              "      <td>158.0</td>\n",
              "      <td>1.0</td>\n",
              "      <td>1.0</td>\n",
              "    </tr>\n",
              "    <tr>\n",
              "      <th>...</th>\n",
              "      <td>...</td>\n",
              "      <td>...</td>\n",
              "      <td>...</td>\n",
              "      <td>...</td>\n",
              "      <td>...</td>\n",
              "      <td>...</td>\n",
              "      <td>...</td>\n",
              "      <td>...</td>\n",
              "      <td>...</td>\n",
              "      <td>...</td>\n",
              "      <td>...</td>\n",
              "      <td>...</td>\n",
              "      <td>...</td>\n",
              "      <td>...</td>\n",
              "      <td>...</td>\n",
              "      <td>...</td>\n",
              "      <td>...</td>\n",
              "      <td>...</td>\n",
              "      <td>...</td>\n",
              "      <td>...</td>\n",
              "      <td>...</td>\n",
              "    </tr>\n",
              "    <tr>\n",
              "      <th>1033</th>\n",
              "      <td>135.0</td>\n",
              "      <td>3.0</td>\n",
              "      <td>0.0</td>\n",
              "      <td>2.0</td>\n",
              "      <td>3.0</td>\n",
              "      <td>0.0</td>\n",
              "      <td>0.0</td>\n",
              "      <td>25.0</td>\n",
              "      <td>1.5</td>\n",
              "      <td>0.0</td>\n",
              "      <td>...</td>\n",
              "      <td>68.0</td>\n",
              "      <td>90.0</td>\n",
              "      <td>158.0</td>\n",
              "      <td>3.0</td>\n",
              "      <td>0.0</td>\n",
              "      <td>136.0</td>\n",
              "      <td>134.0</td>\n",
              "      <td>136.0</td>\n",
              "      <td>10.0</td>\n",
              "      <td>0.0</td>\n",
              "    </tr>\n",
              "    <tr>\n",
              "      <th>1731</th>\n",
              "      <td>134.0</td>\n",
              "      <td>9.0</td>\n",
              "      <td>1.0</td>\n",
              "      <td>11.0</td>\n",
              "      <td>6.0</td>\n",
              "      <td>0.0</td>\n",
              "      <td>0.0</td>\n",
              "      <td>61.0</td>\n",
              "      <td>1.1</td>\n",
              "      <td>0.0</td>\n",
              "      <td>...</td>\n",
              "      <td>109.0</td>\n",
              "      <td>80.0</td>\n",
              "      <td>189.0</td>\n",
              "      <td>10.0</td>\n",
              "      <td>0.0</td>\n",
              "      <td>156.0</td>\n",
              "      <td>144.0</td>\n",
              "      <td>151.0</td>\n",
              "      <td>61.0</td>\n",
              "      <td>0.0</td>\n",
              "    </tr>\n",
              "    <tr>\n",
              "      <th>763</th>\n",
              "      <td>129.0</td>\n",
              "      <td>3.0</td>\n",
              "      <td>1.0</td>\n",
              "      <td>0.0</td>\n",
              "      <td>0.0</td>\n",
              "      <td>0.0</td>\n",
              "      <td>0.0</td>\n",
              "      <td>59.0</td>\n",
              "      <td>0.9</td>\n",
              "      <td>21.0</td>\n",
              "      <td>...</td>\n",
              "      <td>118.0</td>\n",
              "      <td>66.0</td>\n",
              "      <td>184.0</td>\n",
              "      <td>18.0</td>\n",
              "      <td>0.0</td>\n",
              "      <td>133.0</td>\n",
              "      <td>135.0</td>\n",
              "      <td>137.0</td>\n",
              "      <td>7.0</td>\n",
              "      <td>0.0</td>\n",
              "    </tr>\n",
              "    <tr>\n",
              "      <th>835</th>\n",
              "      <td>128.0</td>\n",
              "      <td>3.0</td>\n",
              "      <td>0.0</td>\n",
              "      <td>1.0</td>\n",
              "      <td>5.0</td>\n",
              "      <td>0.0</td>\n",
              "      <td>0.0</td>\n",
              "      <td>16.0</td>\n",
              "      <td>3.3</td>\n",
              "      <td>0.0</td>\n",
              "      <td>...</td>\n",
              "      <td>114.0</td>\n",
              "      <td>57.0</td>\n",
              "      <td>171.0</td>\n",
              "      <td>6.0</td>\n",
              "      <td>1.0</td>\n",
              "      <td>136.0</td>\n",
              "      <td>130.0</td>\n",
              "      <td>136.0</td>\n",
              "      <td>26.0</td>\n",
              "      <td>1.0</td>\n",
              "    </tr>\n",
              "    <tr>\n",
              "      <th>1653</th>\n",
              "      <td>114.0</td>\n",
              "      <td>0.0</td>\n",
              "      <td>0.0</td>\n",
              "      <td>8.0</td>\n",
              "      <td>0.0</td>\n",
              "      <td>0.0</td>\n",
              "      <td>0.0</td>\n",
              "      <td>65.0</td>\n",
              "      <td>0.4</td>\n",
              "      <td>0.0</td>\n",
              "      <td>...</td>\n",
              "      <td>22.0</td>\n",
              "      <td>104.0</td>\n",
              "      <td>126.0</td>\n",
              "      <td>1.0</td>\n",
              "      <td>0.0</td>\n",
              "      <td>115.0</td>\n",
              "      <td>115.0</td>\n",
              "      <td>116.0</td>\n",
              "      <td>0.0</td>\n",
              "      <td>0.0</td>\n",
              "    </tr>\n",
              "  </tbody>\n",
              "</table>\n",
              "<p>2126 rows × 21 columns</p>\n",
              "</div>"
            ],
            "text/plain": [
              "         LB   AC   FM    UC   DL   DS   DP  ASTV  MSTV  ALTV  ...  Width  \\\n",
              "658   130.0  1.0  0.0   3.0  0.0  0.0  0.0  24.0   1.2  12.0  ...   35.0   \n",
              "1734  134.0  9.0  1.0   8.0  5.0  0.0  0.0  59.0   1.2   0.0  ...  109.0   \n",
              "1226  125.0  1.0  0.0   4.0  0.0  0.0  0.0  43.0   0.7  31.0  ...   21.0   \n",
              "1808  143.0  0.0  0.0   1.0  0.0  0.0  0.0  69.0   0.3   6.0  ...   27.0   \n",
              "825   152.0  0.0  0.0   4.0  0.0  0.0  0.0  62.0   0.4  59.0  ...   25.0   \n",
              "...     ...  ...  ...   ...  ...  ...  ...   ...   ...   ...  ...    ...   \n",
              "1033  135.0  3.0  0.0   2.0  3.0  0.0  0.0  25.0   1.5   0.0  ...   68.0   \n",
              "1731  134.0  9.0  1.0  11.0  6.0  0.0  0.0  61.0   1.1   0.0  ...  109.0   \n",
              "763   129.0  3.0  1.0   0.0  0.0  0.0  0.0  59.0   0.9  21.0  ...  118.0   \n",
              "835   128.0  3.0  0.0   1.0  5.0  0.0  0.0  16.0   3.3   0.0  ...  114.0   \n",
              "1653  114.0  0.0  0.0   8.0  0.0  0.0  0.0  65.0   0.4   0.0  ...   22.0   \n",
              "\n",
              "        Min    Max  Nmax  Nzeros   Mode   Mean  Median  Variance  Tendency  \n",
              "658   120.0  155.0   1.0     0.0  134.0  133.0   135.0       1.0       0.0  \n",
              "1734   80.0  189.0   6.0     0.0  150.0  146.0   150.0      33.0       0.0  \n",
              "1226  120.0  141.0   0.0     0.0  131.0  130.0   132.0       1.0       0.0  \n",
              "1808  132.0  159.0   1.0     0.0  145.0  144.0   146.0       1.0       0.0  \n",
              "825   136.0  161.0   0.0     0.0  159.0  156.0   158.0       1.0       1.0  \n",
              "...     ...    ...   ...     ...    ...    ...     ...       ...       ...  \n",
              "1033   90.0  158.0   3.0     0.0  136.0  134.0   136.0      10.0       0.0  \n",
              "1731   80.0  189.0  10.0     0.0  156.0  144.0   151.0      61.0       0.0  \n",
              "763    66.0  184.0  18.0     0.0  133.0  135.0   137.0       7.0       0.0  \n",
              "835    57.0  171.0   6.0     1.0  136.0  130.0   136.0      26.0       1.0  \n",
              "1653  104.0  126.0   1.0     0.0  115.0  115.0   116.0       0.0       0.0  \n",
              "\n",
              "[2126 rows x 21 columns]"
            ]
          },
          "execution_count": 5,
          "metadata": {},
          "output_type": "execute_result"
        }
      ],
      "source": [
        "# Split into input part X and output part Y.\n",
        "X = data_shuffled.drop('NSP', axis=1)\n",
        "X"
      ]
    },
    {
      "cell_type": "code",
      "execution_count": 6,
      "metadata": {
        "colab": {
          "base_uri": "https://localhost:8080/"
        },
        "id": "Q6SzkJnsqxoJ",
        "outputId": "d6a33b21-cfbe-403e-e7ca-487daa3ff47a"
      },
      "outputs": [
        {
          "data": {
            "text/plain": [
              "658      normal\n",
              "1734     normal\n",
              "1226     normal\n",
              "1808     normal\n",
              "825     suspect\n",
              "         ...   \n",
              "1033     normal\n",
              "1731     normal\n",
              "763      normal\n",
              "835      normal\n",
              "1653     normal\n",
              "Name: NSP, Length: 2126, dtype: object"
            ]
          },
          "execution_count": 6,
          "metadata": {},
          "output_type": "execute_result"
        }
      ],
      "source": [
        "# Map the diagnosis code to a human-readable label.\n",
        "def to_label(y):\n",
        "    return [None, 'normal', 'suspect', 'pathologic'][(int(y))]\n",
        "\n",
        "Y = data_shuffled['NSP'].apply(to_label)\n",
        "Y"
      ]
    },
    {
      "cell_type": "code",
      "execution_count": 7,
      "metadata": {
        "id": "wUX2_EkXqxoJ"
      },
      "outputs": [],
      "source": [
        "# Partition the data into training and test sets.\n",
        "Xtrain, Xtest, Ytrain, Ytest = train_test_split(X, Y, test_size=0.2, random_state=0)"
      ]
    },
    {
      "cell_type": "markdown",
      "metadata": {
        "id": "7eJrgtirqxoK"
      },
      "source": [
        "### Step 2. Training the baseline classifier"
      ]
    },
    {
      "cell_type": "code",
      "execution_count": 8,
      "metadata": {
        "id": "L8SQSiiBqxoK"
      },
      "outputs": [],
      "source": [
        "#Initialize dummy classifier\n",
        "clf = DummyClassifier(strategy='most_frequent')"
      ]
    },
    {
      "cell_type": "code",
      "execution_count": 9,
      "metadata": {
        "colab": {
          "base_uri": "https://localhost:8080/"
        },
        "id": "rm4StWDfqxoK",
        "outputId": "4f0980d5-8b0b-4e92-d428-480588723cf6"
      },
      "outputs": [
        {
          "data": {
            "text/plain": [
              "array([0.78235294, 0.78235294, 0.77941176, 0.77941176, 0.77941176])"
            ]
          },
          "execution_count": 9,
          "metadata": {},
          "output_type": "execute_result"
        }
      ],
      "source": [
        "cross_val_scores = cross_val_score(clf, Xtrain, Ytrain)\n",
        "cross_val_scores"
      ]
    },
    {
      "cell_type": "code",
      "execution_count": 10,
      "metadata": {
        "colab": {
          "base_uri": "https://localhost:8080/"
        },
        "id": "7fCV7PF2qxoK",
        "outputId": "e2dfcb3b-51af-4a5f-e57c-3901bc9c0107"
      },
      "outputs": [
        {
          "data": {
            "text/plain": [
              "0.7805882352941176"
            ]
          },
          "execution_count": 10,
          "metadata": {},
          "output_type": "execute_result"
        }
      ],
      "source": [
        "cross_val_score_agg = cross_val_scores.mean()\n",
        "cross_val_score_agg"
      ]
    },
    {
      "cell_type": "markdown",
      "metadata": {
        "id": "_CfwFRE5qxoL"
      },
      "source": [
        "### Step 3. Trying out some different classifiers"
      ]
    },
    {
      "cell_type": "code",
      "execution_count": 11,
      "metadata": {
        "id": "cCUdAjSdqxoL"
      },
      "outputs": [],
      "source": [
        "#Decision tree based classifiers\n",
        "from sklearn.tree import DecisionTreeClassifier\n",
        "from sklearn.ensemble import RandomForestClassifier\n",
        "from sklearn.ensemble import GradientBoostingClassifier\n",
        "\n",
        "#Linear classifiers\n",
        "from sklearn.linear_model import Perceptron\n",
        "from sklearn.linear_model import LogisticRegression\n",
        "from sklearn.svm import LinearSVC"
      ]
    },
    {
      "cell_type": "code",
      "execution_count": 12,
      "metadata": {
        "colab": {
          "base_uri": "https://localhost:8080/"
        },
        "id": "qU3Ef1HjqxoL",
        "outputId": "f5051e99-8a41-4749-ba26-de1b4c9739e2"
      },
      "outputs": [
        {
          "name": "stderr",
          "output_type": "stream",
          "text": [
            "/Users/leocarlsson/opt/anaconda3/lib/python3.9/site-packages/sklearn/linear_model/_logistic.py:444: ConvergenceWarning: lbfgs failed to converge (status=1):\n",
            "STOP: TOTAL NO. of ITERATIONS REACHED LIMIT.\n",
            "\n",
            "Increase the number of iterations (max_iter) or scale the data as shown in:\n",
            "    https://scikit-learn.org/stable/modules/preprocessing.html\n",
            "Please also refer to the documentation for alternative solver options:\n",
            "    https://scikit-learn.org/stable/modules/linear_model.html#logistic-regression\n",
            "  n_iter_i = _check_optimize_result(\n",
            "/Users/leocarlsson/opt/anaconda3/lib/python3.9/site-packages/sklearn/linear_model/_logistic.py:444: ConvergenceWarning: lbfgs failed to converge (status=1):\n",
            "STOP: TOTAL NO. of ITERATIONS REACHED LIMIT.\n",
            "\n",
            "Increase the number of iterations (max_iter) or scale the data as shown in:\n",
            "    https://scikit-learn.org/stable/modules/preprocessing.html\n",
            "Please also refer to the documentation for alternative solver options:\n",
            "    https://scikit-learn.org/stable/modules/linear_model.html#logistic-regression\n",
            "  n_iter_i = _check_optimize_result(\n",
            "/Users/leocarlsson/opt/anaconda3/lib/python3.9/site-packages/sklearn/linear_model/_logistic.py:444: ConvergenceWarning: lbfgs failed to converge (status=1):\n",
            "STOP: TOTAL NO. of ITERATIONS REACHED LIMIT.\n",
            "\n",
            "Increase the number of iterations (max_iter) or scale the data as shown in:\n",
            "    https://scikit-learn.org/stable/modules/preprocessing.html\n",
            "Please also refer to the documentation for alternative solver options:\n",
            "    https://scikit-learn.org/stable/modules/linear_model.html#logistic-regression\n",
            "  n_iter_i = _check_optimize_result(\n",
            "/Users/leocarlsson/opt/anaconda3/lib/python3.9/site-packages/sklearn/linear_model/_logistic.py:444: ConvergenceWarning: lbfgs failed to converge (status=1):\n",
            "STOP: TOTAL NO. of ITERATIONS REACHED LIMIT.\n",
            "\n",
            "Increase the number of iterations (max_iter) or scale the data as shown in:\n",
            "    https://scikit-learn.org/stable/modules/preprocessing.html\n",
            "Please also refer to the documentation for alternative solver options:\n",
            "    https://scikit-learn.org/stable/modules/linear_model.html#logistic-regression\n",
            "  n_iter_i = _check_optimize_result(\n",
            "/Users/leocarlsson/opt/anaconda3/lib/python3.9/site-packages/sklearn/linear_model/_logistic.py:444: ConvergenceWarning: lbfgs failed to converge (status=1):\n",
            "STOP: TOTAL NO. of ITERATIONS REACHED LIMIT.\n",
            "\n",
            "Increase the number of iterations (max_iter) or scale the data as shown in:\n",
            "    https://scikit-learn.org/stable/modules/preprocessing.html\n",
            "Please also refer to the documentation for alternative solver options:\n",
            "    https://scikit-learn.org/stable/modules/linear_model.html#logistic-regression\n",
            "  n_iter_i = _check_optimize_result(\n",
            "/Users/leocarlsson/opt/anaconda3/lib/python3.9/site-packages/sklearn/linear_model/_logistic.py:444: ConvergenceWarning: lbfgs failed to converge (status=1):\n",
            "STOP: TOTAL NO. of ITERATIONS REACHED LIMIT.\n",
            "\n",
            "Increase the number of iterations (max_iter) or scale the data as shown in:\n",
            "    https://scikit-learn.org/stable/modules/preprocessing.html\n",
            "Please also refer to the documentation for alternative solver options:\n",
            "    https://scikit-learn.org/stable/modules/linear_model.html#logistic-regression\n",
            "  n_iter_i = _check_optimize_result(\n",
            "/Users/leocarlsson/opt/anaconda3/lib/python3.9/site-packages/sklearn/svm/_base.py:1225: ConvergenceWarning: Liblinear failed to converge, increase the number of iterations.\n",
            "  warnings.warn(\n",
            "/Users/leocarlsson/opt/anaconda3/lib/python3.9/site-packages/sklearn/svm/_base.py:1225: ConvergenceWarning: Liblinear failed to converge, increase the number of iterations.\n",
            "  warnings.warn(\n",
            "/Users/leocarlsson/opt/anaconda3/lib/python3.9/site-packages/sklearn/svm/_base.py:1225: ConvergenceWarning: Liblinear failed to converge, increase the number of iterations.\n",
            "  warnings.warn(\n",
            "/Users/leocarlsson/opt/anaconda3/lib/python3.9/site-packages/sklearn/svm/_base.py:1225: ConvergenceWarning: Liblinear failed to converge, increase the number of iterations.\n",
            "  warnings.warn(\n",
            "/Users/leocarlsson/opt/anaconda3/lib/python3.9/site-packages/sklearn/svm/_base.py:1225: ConvergenceWarning: Liblinear failed to converge, increase the number of iterations.\n",
            "  warnings.warn(\n",
            "/Users/leocarlsson/opt/anaconda3/lib/python3.9/site-packages/sklearn/svm/_base.py:1225: ConvergenceWarning: Liblinear failed to converge, increase the number of iterations.\n",
            "  warnings.warn(\n"
          ]
        }
      ],
      "source": [
        "#Test the basic classifiers\n",
        "classifiers = [DecisionTreeClassifier, RandomForestClassifier, GradientBoostingClassifier, Perceptron, LogisticRegression, LinearSVC]\n",
        "model_accuracies = {}\n",
        "\n",
        "for classifier in classifiers:\n",
        "    model = classifier()\n",
        "    model.fit(Xtrain, Ytrain)\n",
        "    model_accuracies[type(model).__name__]  = np.mean(cross_val_score(model, Xtrain, Ytrain))\n",
        "\n"
      ]
    },
    {
      "cell_type": "markdown",
      "metadata": {
        "id": "x9VuobOzqxoL"
      },
      "source": [
        "### Step 4. Final evaluation"
      ]
    },
    {
      "cell_type": "code",
      "execution_count": 13,
      "metadata": {
        "colab": {
          "base_uri": "https://localhost:8080/"
        },
        "id": "mVA-qQqYqxoM",
        "outputId": "749c824e-3777-4d35-971f-8a712c8b6390"
      },
      "outputs": [
        {
          "name": "stdout",
          "output_type": "stream",
          "text": [
            "The best classifier is GradientBoostingClassifier with accuracy 0.949.\n"
          ]
        }
      ],
      "source": [
        "best_classifier = max(model_accuracies, key=model_accuracies.get)\n",
        "print('The best classifier is {} with accuracy {:.3f}.'.format(best_classifier, model_accuracies[best_classifier]))"
      ]
    },
    {
      "cell_type": "code",
      "execution_count": 14,
      "metadata": {
        "colab": {
          "base_uri": "https://localhost:8080/"
        },
        "id": "2OjEXpa2J9vo",
        "outputId": "fd59ace0-9651-44a4-88ed-87b09d167876"
      },
      "outputs": [
        {
          "name": "stdout",
          "output_type": "stream",
          "text": [
            "0.9295774647887324\n"
          ]
        }
      ],
      "source": [
        "# unsure how to do your fancy automatic selection, is it possibe to select it from best_classifier?\n",
        "best_model = GradientBoostingClassifier()\n",
        "best_model.fit(Xtrain, Ytrain)\n",
        "Ypred = best_model.predict(Xtest)\n",
        "print(accuracy_score(Ytest, Ypred))"
      ]
    },
    {
      "cell_type": "markdown",
      "metadata": {
        "id": "MKNOo-3DNrcs"
      },
      "source": [
        "When we evaluate the model with the best cross validation score, we get a slightly lower score on the test set. "
      ]
    },
    {
      "cell_type": "markdown",
      "metadata": {
        "id": "z6gYZiRKqxoM"
      },
      "source": [
        "## Task 2: Decision trees for classification"
      ]
    },
    {
      "cell_type": "code",
      "execution_count": 15,
      "metadata": {
        "id": "BaCCcN38MHxy"
      },
      "outputs": [],
      "source": [
        "from collections import Counter\n",
        "\n",
        "from graphviz import Digraph\n",
        "from sklearn.base import BaseEstimator, ClassifierMixin\n",
        "from abc import ABC, abstractmethod\n",
        "\n",
        "class DecisionTreeLeaf:\n",
        "\n",
        "    def __init__(self, value):\n",
        "        self.value = value\n",
        "\n",
        "    # This method computes the prediction for this leaf node. This will just return a constant value.\n",
        "    def predict(self, x):\n",
        "        return self.value\n",
        "\n",
        "    # Utility function to draw a tree visually using graphviz.\n",
        "    def draw_tree(self, graph, node_counter, names):\n",
        "        node_id = str(node_counter)\n",
        "        val_str = f'{self.value:.4g}' if isinstance(self.value, float) else str(self.value)\n",
        "        graph.node(node_id, val_str, style='filled')\n",
        "        return node_counter+1, node_id\n",
        "        \n",
        "    def __eq__(self, other):\n",
        "        if isinstance(other, DecisionTreeLeaf):\n",
        "            return self.value == other.value\n",
        "        else:\n",
        "            return False\n",
        "\n",
        "class DecisionTreeBranch:\n",
        "\n",
        "    def __init__(self, feature, threshold, low_subtree, high_subtree):\n",
        "        self.feature = feature\n",
        "        self.threshold = threshold\n",
        "        self.low_subtree = low_subtree\n",
        "        self.high_subtree = high_subtree\n",
        "\n",
        "    # For a branch node, we compute the prediction by first considering the feature, and then \n",
        "    # calling the upper or lower subtree, depending on whether the feature is or isn't greater\n",
        "    # than the threshold.\n",
        "    def predict(self, x):\n",
        "        if x[self.feature] <= self.threshold:\n",
        "            return self.low_subtree.predict(x)\n",
        "        else:\n",
        "            return self.high_subtree.predict(x)\n",
        "\n",
        "    # Utility function to draw a tree visually using graphviz.\n",
        "    def draw_tree(self, graph, node_counter, names):\n",
        "        node_counter, low_id = self.low_subtree.draw_tree(graph, node_counter, names)\n",
        "        node_counter, high_id = self.high_subtree.draw_tree(graph, node_counter, names)\n",
        "        node_id = str(node_counter)\n",
        "        fname = f'F{self.feature}' if names is None else names[self.feature]\n",
        "        lbl = f'{fname} > {self.threshold:.4g}?'\n",
        "        graph.node(node_id, lbl, shape='box', fillcolor='yellow', style='filled, rounded')\n",
        "        graph.edge(node_id, low_id, 'False')\n",
        "        graph.edge(node_id, high_id, 'True')\n",
        "        return node_counter+1, node_id\n",
        "\n",
        "class DecisionTree(ABC, BaseEstimator):\n",
        "\n",
        "    def __init__(self, max_depth):\n",
        "        super().__init__()\n",
        "        self.max_depth = max_depth\n",
        "        \n",
        "    # As usual in scikit-learn, the training method is called *fit*. We first process the dataset so that\n",
        "    # we're sure that it's represented as a NumPy matrix. Then we call the recursive tree-building method\n",
        "    # called make_tree (see below).\n",
        "    def fit(self, X, Y):\n",
        "        if isinstance(X, pd.DataFrame):\n",
        "            self.names = X.columns\n",
        "            X = X.to_numpy()\n",
        "        elif isinstance(X, list):\n",
        "            self.names = None\n",
        "            X = np.array(X)\n",
        "        else:\n",
        "            self.names = None\n",
        "        Y = np.array(Y)        \n",
        "        self.root = self.make_tree(X, Y, self.max_depth)\n",
        "        \n",
        "    def draw_tree(self):\n",
        "        graph = Digraph()\n",
        "        self.root.draw_tree(graph, 0, self.names)\n",
        "        return graph\n",
        "    \n",
        "    # By scikit-learn convention, the method *predict* computes the classification or regression output\n",
        "    # for a set of instances.\n",
        "    # To implement it, we call a separate method that carries out the prediction for one instance.\n",
        "    def predict(self, X):\n",
        "        if isinstance(X, pd.DataFrame):\n",
        "            X = X.to_numpy()\n",
        "        return [self.predict_one(x) for x in X]\n",
        "\n",
        "    # Predicting the output for one instance.\n",
        "    def predict_one(self, x):\n",
        "        return self.root.predict(x)        \n",
        "\n",
        "    # This is the recursive training \n",
        "    def make_tree(self, X, Y, max_depth):\n",
        "\n",
        "        # We start by computing the default value that will be used if we'll return a leaf node.\n",
        "        # For classifiers, this will be the most common value in Y.\n",
        "        default_value = self.get_default_value(Y)\n",
        "\n",
        "        # First the two base cases in the recursion: is the training set completely\n",
        "        # homogeneous, or have we reached the maximum depth? Then we need to return a leaf.\n",
        "\n",
        "        # If we have reached the maximum depth, return a leaf with the majority value.\n",
        "        if max_depth == 0:\n",
        "            return DecisionTreeLeaf(default_value)\n",
        "\n",
        "        # If all the instances in the remaining training set have the same output value,\n",
        "        # return a leaf with this value.\n",
        "        if self.is_homogeneous(Y):\n",
        "            return DecisionTreeLeaf(default_value)\n",
        "\n",
        "        # Select the \"most useful\" feature and split threshold. To rank the \"usefulness\" of features,\n",
        "        # we use one of the classification or regression criteria.\n",
        "        # For each feature, we call best_split (defined in a subclass). We then maximize over the features.\n",
        "        n_features = X.shape[1]\n",
        "        _, best_feature, best_threshold = max(self.best_split(X, Y, feature) for feature in range(n_features))\n",
        "        \n",
        "        if best_feature is None:\n",
        "            return DecisionTreeLeaf(default_value)\n",
        "\n",
        "        # Split the training set into subgroups, based on whether the selected feature is greater than\n",
        "        # the threshold or not\n",
        "        X_low, X_high, Y_low, Y_high = self.split_by_feature(X, Y, best_feature, best_threshold)\n",
        "\n",
        "        # Build the subtrees using a recursive call. Each subtree is associated\n",
        "        # with a value of the feature.\n",
        "        low_subtree = self.make_tree(X_low, Y_low, max_depth-1)\n",
        "        high_subtree = self.make_tree(X_high, Y_high, max_depth-1)\n",
        "\n",
        "        if low_subtree == high_subtree:\n",
        "            return low_subtree\n",
        "\n",
        "        # Return a decision tree branch containing the result.\n",
        "        return DecisionTreeBranch(best_feature, best_threshold, low_subtree, high_subtree)\n",
        "    \n",
        "    # Utility method that splits the data into the \"upper\" and \"lower\" part, based on a feature\n",
        "    # and a threshold.\n",
        "    def split_by_feature(self, X, Y, feature, threshold):\n",
        "        low = X[:,feature] <= threshold\n",
        "        high = ~low\n",
        "        return X[low], X[high], Y[low], Y[high]\n",
        "    \n",
        "    # The following three methods need to be implemented by the classification and regression subclasses.\n",
        "    \n",
        "    @abstractmethod\n",
        "    def get_default_value(self, Y):\n",
        "        pass\n",
        "\n",
        "    @abstractmethod\n",
        "    def is_homogeneous(self, Y):\n",
        "        pass\n",
        "\n",
        "    @abstractmethod\n",
        "    def best_split(self, X, Y, feature):\n",
        "        pass\n",
        "\n",
        "class TreeClassifier(DecisionTree, ClassifierMixin):\n",
        "\n",
        "    def __init__(self, max_depth=10, criterion='maj_sum'):\n",
        "        super().__init__(max_depth)\n",
        "        self.criterion = criterion\n",
        "        \n",
        "    def fit(self, X, Y):\n",
        "        # For decision tree classifiers, there are some different ways to measure\n",
        "        # the homogeneity of subsets.\n",
        "        if self.criterion == 'maj_sum':\n",
        "            self.criterion_function = majority_sum_scorer\n",
        "        elif self.criterion == 'info_gain':\n",
        "            self.criterion_function = info_gain_scorer\n",
        "        elif self.criterion == 'gini':\n",
        "            self.criterion_function = gini_scorer\n",
        "        else:\n",
        "            raise Exception(f'Unknown criterion: {self.criterion}')\n",
        "        super().fit(X, Y)\n",
        "        self.classes_ = sorted(set(Y))\n",
        "\n",
        "    # Select a default value that is going to be used if we decide to make a leaf.\n",
        "    # We will select the most common value.\n",
        "    def get_default_value(self, Y):\n",
        "        self.class_distribution = Counter(Y)\n",
        "        return self.class_distribution.most_common(1)[0][0]\n",
        "    \n",
        "    # Checks whether a set of output values is homogeneous. In the classification case, \n",
        "    # this means that all output values are identical.\n",
        "    # We assume that we called get_default_value just before, so that we can access\n",
        "    # the class_distribution attribute. If the class distribution contains just one item,\n",
        "    # this means that the set is homogeneous.\n",
        "    def is_homogeneous(self, Y):\n",
        "        return len(self.class_distribution) == 1\n",
        "        \n",
        "    # Finds the best splitting point for a given feature. We'll keep frequency tables (Counters)\n",
        "    # for the upper and lower parts, and then compute the impurity criterion using these tables.\n",
        "    # In the end, we return a triple consisting of\n",
        "    # - the best score we found, according to the criterion we're using\n",
        "    # - the id of the feature\n",
        "    # - the threshold for the best split\n",
        "    def best_split(self, X, Y, feature):\n",
        "\n",
        "        # Create a list of input-output pairs, where we have sorted\n",
        "        # in ascending order by the input feature we're considering.\n",
        "        sorted_indices = np.argsort(X[:, feature])        \n",
        "        X_sorted = list(X[sorted_indices, feature])\n",
        "        Y_sorted = list(Y[sorted_indices])\n",
        "\n",
        "        n = len(Y)\n",
        "\n",
        "        # The frequency tables corresponding to the parts *before and including*\n",
        "        # and *after* the current element.\n",
        "        low_distr = Counter()\n",
        "        high_distr = Counter(Y)\n",
        "\n",
        "        # Keep track of the best result we've seen so far.\n",
        "        max_score = -np.inf\n",
        "        max_i = None\n",
        "\n",
        "        # Go through all the positions (excluding the last position).\n",
        "        for i in range(0, n-1):\n",
        "\n",
        "            # Input and output at the current position.\n",
        "            x_i = X_sorted[i]\n",
        "            y_i = Y_sorted[i]\n",
        "            \n",
        "            # Update the frequency tables.\n",
        "            low_distr[y_i] += 1\n",
        "            high_distr[y_i] -= 1\n",
        "\n",
        "            # If the input is equal to the input at the next position, we will\n",
        "            # not consider a split here.\n",
        "            #x_next = XY[i+1][0]\n",
        "            x_next = X_sorted[i+1]\n",
        "            if x_i == x_next:\n",
        "                continue\n",
        "\n",
        "            # Compute the homogeneity criterion for a split at this position.\n",
        "            score = self.criterion_function(i+1, low_distr, n-i-1, high_distr)\n",
        "\n",
        "            # If this is the best split, remember it.\n",
        "            if score > max_score:\n",
        "                max_score = score\n",
        "                max_i = i\n",
        "\n",
        "        # If we didn't find any split (meaning that all inputs are identical), return\n",
        "        # a dummy value.\n",
        "        if max_i is None:\n",
        "            return -np.inf, None, None\n",
        "\n",
        "        # Otherwise, return the best split we found and its score.\n",
        "        split_point = 0.5*(X_sorted[max_i] + X_sorted[max_i+1])\n",
        "        return max_score, feature, split_point\n",
        "  \n",
        "\n",
        "def majority_sum_scorer(n_low, low_distr, n_high, high_distr):\n",
        "    maj_sum_low = low_distr.most_common(1)[0][1]\n",
        "    maj_sum_high = high_distr.most_common(1)[0][1]\n",
        "    return maj_sum_low + maj_sum_high\n",
        "    \n",
        "def entropy(distr):\n",
        "    n = sum(distr.values())\n",
        "    ps = [n_i/n for n_i in distr.values()]\n",
        "    return -sum(p*np.log2(p) if p > 0 else 0 for p in ps)\n",
        "\n",
        "def info_gain_scorer(n_low, low_distr, n_high, high_distr):\n",
        "    return -(n_low*entropy(low_distr)+n_high*entropy(high_distr))/(n_low+n_high)\n",
        "\n",
        "def gini_impurity(distr):\n",
        "    n = sum(distr.values())\n",
        "    ps = [n_i/n for n_i in distr.values()]\n",
        "    return 1-sum(p**2 for p in ps)\n",
        "    \n",
        "def gini_scorer(n_low, low_distr, n_high, high_distr):\n",
        "    return -(n_low*gini_impurity(low_distr)+n_high*gini_impurity(high_distr))/(n_low+n_high)"
      ]
    },
    {
      "cell_type": "code",
      "execution_count": 16,
      "metadata": {
        "colab": {
          "base_uri": "https://localhost:8080/"
        },
        "id": "e87jeS99MMix",
        "outputId": "2f6f4c53-60c9-4d00-81a3-d021d1e3d0a9"
      },
      "outputs": [
        {
          "name": "stdout",
          "output_type": "stream",
          "text": [
            "Best max_depth is: 6\n",
            "Test Accuracy is 0.885\n"
          ]
        }
      ],
      "source": [
        "best_depth = []\n",
        "\n",
        "for i in range(10):\n",
        "  cls = TreeClassifier(max_depth=i)\n",
        "\n",
        "  val_score = cross_val_score(cls, Xtrain, Ytrain)\n",
        "  best_depth.append(np.mean(val_score))\n",
        "\n",
        "max_val = max(best_depth)\n",
        "index = best_depth.index(max_val)\n",
        "print(\"Best max_depth is:\", index+1)\n",
        "\n",
        "cls = TreeClassifier(max_depth=index+1)\n",
        "cls.fit(Xtrain, Ytrain)\n",
        "Ypred = cls.predict(Xtest)\n",
        "print(f\"Test Accuracy is {np.round(accuracy_score(Ytest, Ypred), 3)}\")"
      ]
    },
    {
      "attachments": {},
      "cell_type": "markdown",
      "metadata": {
        "id": "MSlVtLqWOKq2"
      },
      "source": [
        "This method is not the best tuning method, since it results in different results each time. I've gotten everything from 1 to 6 in best depth. Most often though, 6 is chosen as the best depth.\n",
        "\n",
        "For illustrative purposes a max depth of 3 is chosen:"
      ]
    },
    {
      "cell_type": "code",
      "execution_count": 17,
      "metadata": {
        "colab": {
          "base_uri": "https://localhost:8080/",
          "height": 428
        },
        "id": "NFTJp5arMpag",
        "outputId": "a671f507-22eb-4d57-8b02-80a193de8d15"
      },
      "outputs": [
        {
          "data": {
            "image/svg+xml": "<?xml version=\"1.0\" encoding=\"UTF-8\" standalone=\"no\"?>\n<!DOCTYPE svg PUBLIC \"-//W3C//DTD SVG 1.1//EN\"\n \"http://www.w3.org/Graphics/SVG/1.1/DTD/svg11.dtd\">\n<!-- Generated by graphviz version 2.50.0 (0)\n -->\n<!-- Pages: 1 -->\n<svg width=\"807pt\" height=\"305pt\"\n viewBox=\"0.00 0.00 807.49 305.00\" xmlns=\"http://www.w3.org/2000/svg\" xmlns:xlink=\"http://www.w3.org/1999/xlink\">\n<g id=\"graph0\" class=\"graph\" transform=\"scale(1 1) rotate(0) translate(4 301)\">\n<polygon fill=\"white\" stroke=\"transparent\" points=\"-4,4 -4,-301 803.49,-301 803.49,4 -4,4\"/>\n<!-- 0 -->\n<g id=\"node1\" class=\"node\">\n<title>0</title>\n<ellipse fill=\"lightgrey\" stroke=\"black\" cx=\"36.4\" cy=\"-18\" rx=\"36.29\" ry=\"18\"/>\n<text text-anchor=\"middle\" x=\"36.4\" y=\"-14.3\" font-family=\"Times,serif\" font-size=\"14.00\">suspect</text>\n</g>\n<!-- 1 -->\n<g id=\"node2\" class=\"node\">\n<title>1</title>\n<ellipse fill=\"lightgrey\" stroke=\"black\" cx=\"138.4\" cy=\"-18\" rx=\"48.19\" ry=\"18\"/>\n<text text-anchor=\"middle\" x=\"138.4\" y=\"-14.3\" font-family=\"Times,serif\" font-size=\"14.00\">pathologic</text>\n</g>\n<!-- 2 -->\n<g id=\"node3\" class=\"node\">\n<title>2</title>\n<path fill=\"yellow\" stroke=\"black\" d=\"M174.9,-123C174.9,-123 101.9,-123 101.9,-123 95.9,-123 89.9,-117 89.9,-111 89.9,-111 89.9,-99 89.9,-99 89.9,-93 95.9,-87 101.9,-87 101.9,-87 174.9,-87 174.9,-87 180.9,-87 186.9,-93 186.9,-99 186.9,-99 186.9,-111 186.9,-111 186.9,-117 180.9,-123 174.9,-123\"/>\n<text text-anchor=\"middle\" x=\"138.4\" y=\"-101.3\" font-family=\"Times,serif\" font-size=\"14.00\">ASTV &gt; 79.5?</text>\n</g>\n<!-- 2&#45;&gt;0 -->\n<g id=\"edge1\" class=\"edge\">\n<title>2&#45;&gt;0</title>\n<path fill=\"none\" stroke=\"black\" d=\"M117.76,-86.8C101.75,-73.46 79.46,-54.89 62.27,-40.56\"/>\n<polygon fill=\"black\" stroke=\"black\" points=\"64.2,-37.62 54.28,-33.9 59.72,-42.99 64.2,-37.62\"/>\n<text text-anchor=\"middle\" x=\"108.9\" y=\"-57.8\" font-family=\"Times,serif\" font-size=\"14.00\">False</text>\n</g>\n<!-- 2&#45;&gt;1 -->\n<g id=\"edge2\" class=\"edge\">\n<title>2&#45;&gt;1</title>\n<path fill=\"none\" stroke=\"black\" d=\"M138.4,-86.8C138.4,-75.16 138.4,-59.55 138.4,-46.24\"/>\n<polygon fill=\"black\" stroke=\"black\" points=\"141.9,-46.18 138.4,-36.18 134.9,-46.18 141.9,-46.18\"/>\n<text text-anchor=\"middle\" x=\"151.4\" y=\"-57.8\" font-family=\"Times,serif\" font-size=\"14.00\">True</text>\n</g>\n<!-- 3 -->\n<g id=\"node4\" class=\"node\">\n<title>3</title>\n<ellipse fill=\"lightgrey\" stroke=\"black\" cx=\"240.4\" cy=\"-18\" rx=\"36.29\" ry=\"18\"/>\n<text text-anchor=\"middle\" x=\"240.4\" y=\"-14.3\" font-family=\"Times,serif\" font-size=\"14.00\">normal</text>\n</g>\n<!-- 4 -->\n<g id=\"node5\" class=\"node\">\n<title>4</title>\n<ellipse fill=\"lightgrey\" stroke=\"black\" cx=\"342.4\" cy=\"-18\" rx=\"48.19\" ry=\"18\"/>\n<text text-anchor=\"middle\" x=\"342.4\" y=\"-14.3\" font-family=\"Times,serif\" font-size=\"14.00\">pathologic</text>\n</g>\n<!-- 5 -->\n<g id=\"node6\" class=\"node\">\n<title>5</title>\n<path fill=\"yellow\" stroke=\"black\" d=\"M344.9,-123C344.9,-123 255.9,-123 255.9,-123 249.9,-123 243.9,-117 243.9,-111 243.9,-111 243.9,-99 243.9,-99 243.9,-93 249.9,-87 255.9,-87 255.9,-87 344.9,-87 344.9,-87 350.9,-87 356.9,-93 356.9,-99 356.9,-99 356.9,-111 356.9,-111 356.9,-117 350.9,-123 344.9,-123\"/>\n<text text-anchor=\"middle\" x=\"300.4\" y=\"-101.3\" font-family=\"Times,serif\" font-size=\"14.00\">Tendency &gt; &#45;0.5?</text>\n</g>\n<!-- 5&#45;&gt;3 -->\n<g id=\"edge3\" class=\"edge\">\n<title>5&#45;&gt;3</title>\n<path fill=\"none\" stroke=\"black\" d=\"M288.25,-86.8C279.55,-74.46 267.68,-57.66 257.95,-43.86\"/>\n<polygon fill=\"black\" stroke=\"black\" points=\"260.54,-41.46 251.91,-35.31 254.82,-45.5 260.54,-41.46\"/>\n<text text-anchor=\"middle\" x=\"288.9\" y=\"-57.8\" font-family=\"Times,serif\" font-size=\"14.00\">False</text>\n</g>\n<!-- 5&#45;&gt;4 -->\n<g id=\"edge4\" class=\"edge\">\n<title>5&#45;&gt;4</title>\n<path fill=\"none\" stroke=\"black\" d=\"M308.9,-86.8C314.8,-74.85 322.77,-58.72 329.46,-45.18\"/>\n<polygon fill=\"black\" stroke=\"black\" points=\"332.76,-46.4 334.05,-35.89 326.49,-43.3 332.76,-46.4\"/>\n<text text-anchor=\"middle\" x=\"337.4\" y=\"-57.8\" font-family=\"Times,serif\" font-size=\"14.00\">True</text>\n</g>\n<!-- 6 -->\n<g id=\"node7\" class=\"node\">\n<title>6</title>\n<path fill=\"yellow\" stroke=\"black\" d=\"M337.4,-210C337.4,-210 263.4,-210 263.4,-210 257.4,-210 251.4,-204 251.4,-198 251.4,-198 251.4,-186 251.4,-186 251.4,-180 257.4,-174 263.4,-174 263.4,-174 337.4,-174 337.4,-174 343.4,-174 349.4,-180 349.4,-186 349.4,-186 349.4,-198 349.4,-198 349.4,-204 343.4,-210 337.4,-210\"/>\n<text text-anchor=\"middle\" x=\"300.4\" y=\"-188.3\" font-family=\"Times,serif\" font-size=\"14.00\">ALTV &gt; 68.5?</text>\n</g>\n<!-- 6&#45;&gt;2 -->\n<g id=\"edge5\" class=\"edge\">\n<title>6&#45;&gt;2</title>\n<path fill=\"none\" stroke=\"black\" d=\"M267.61,-173.8C242.28,-160.51 207.05,-142.02 179.77,-127.71\"/>\n<polygon fill=\"black\" stroke=\"black\" points=\"181.34,-124.58 170.85,-123.03 178.08,-130.78 181.34,-124.58\"/>\n<text text-anchor=\"middle\" x=\"243.9\" y=\"-144.8\" font-family=\"Times,serif\" font-size=\"14.00\">False</text>\n</g>\n<!-- 6&#45;&gt;5 -->\n<g id=\"edge6\" class=\"edge\">\n<title>6&#45;&gt;5</title>\n<path fill=\"none\" stroke=\"black\" d=\"M300.4,-173.8C300.4,-162.16 300.4,-146.55 300.4,-133.24\"/>\n<polygon fill=\"black\" stroke=\"black\" points=\"303.9,-133.18 300.4,-123.18 296.9,-133.18 303.9,-133.18\"/>\n<text text-anchor=\"middle\" x=\"313.4\" y=\"-144.8\" font-family=\"Times,serif\" font-size=\"14.00\">True</text>\n</g>\n<!-- 7 -->\n<g id=\"node8\" class=\"node\">\n<title>7</title>\n<ellipse fill=\"lightgrey\" stroke=\"black\" cx=\"456.4\" cy=\"-18\" rx=\"48.19\" ry=\"18\"/>\n<text text-anchor=\"middle\" x=\"456.4\" y=\"-14.3\" font-family=\"Times,serif\" font-size=\"14.00\">pathologic</text>\n</g>\n<!-- 8 -->\n<g id=\"node9\" class=\"node\">\n<title>8</title>\n<ellipse fill=\"lightgrey\" stroke=\"black\" cx=\"558.4\" cy=\"-18\" rx=\"36.29\" ry=\"18\"/>\n<text text-anchor=\"middle\" x=\"558.4\" y=\"-14.3\" font-family=\"Times,serif\" font-size=\"14.00\">normal</text>\n</g>\n<!-- 9 -->\n<g id=\"node10\" class=\"node\">\n<title>9</title>\n<path fill=\"yellow\" stroke=\"black\" d=\"M495.9,-123C495.9,-123 424.9,-123 424.9,-123 418.9,-123 412.9,-117 412.9,-111 412.9,-111 412.9,-99 412.9,-99 412.9,-93 418.9,-87 424.9,-87 424.9,-87 495.9,-87 495.9,-87 501.9,-87 507.9,-93 507.9,-99 507.9,-99 507.9,-111 507.9,-111 507.9,-117 501.9,-123 495.9,-123\"/>\n<text text-anchor=\"middle\" x=\"460.4\" y=\"-101.3\" font-family=\"Times,serif\" font-size=\"14.00\">Max &gt; 220.5?</text>\n</g>\n<!-- 9&#45;&gt;7 -->\n<g id=\"edge7\" class=\"edge\">\n<title>9&#45;&gt;7</title>\n<path fill=\"none\" stroke=\"black\" d=\"M459.59,-86.8C459.04,-75.16 458.3,-59.55 457.68,-46.24\"/>\n<polygon fill=\"black\" stroke=\"black\" points=\"461.17,-46 457.21,-36.18 454.18,-46.33 461.17,-46\"/>\n<text text-anchor=\"middle\" x=\"473.9\" y=\"-57.8\" font-family=\"Times,serif\" font-size=\"14.00\">False</text>\n</g>\n<!-- 9&#45;&gt;8 -->\n<g id=\"edge8\" class=\"edge\">\n<title>9&#45;&gt;8</title>\n<path fill=\"none\" stroke=\"black\" d=\"M480.23,-86.8C495.61,-73.46 517.02,-54.89 533.54,-40.56\"/>\n<polygon fill=\"black\" stroke=\"black\" points=\"535.95,-43.1 541.21,-33.9 531.37,-37.81 535.95,-43.1\"/>\n<text text-anchor=\"middle\" x=\"528.4\" y=\"-57.8\" font-family=\"Times,serif\" font-size=\"14.00\">True</text>\n</g>\n<!-- 10 -->\n<g id=\"node11\" class=\"node\">\n<title>10</title>\n<ellipse fill=\"lightgrey\" stroke=\"black\" cx=\"649.4\" cy=\"-18\" rx=\"36.29\" ry=\"18\"/>\n<text text-anchor=\"middle\" x=\"649.4\" y=\"-14.3\" font-family=\"Times,serif\" font-size=\"14.00\">normal</text>\n</g>\n<!-- 11 -->\n<g id=\"node12\" class=\"node\">\n<title>11</title>\n<ellipse fill=\"lightgrey\" stroke=\"black\" cx=\"751.4\" cy=\"-18\" rx=\"48.19\" ry=\"18\"/>\n<text text-anchor=\"middle\" x=\"751.4\" y=\"-14.3\" font-family=\"Times,serif\" font-size=\"14.00\">pathologic</text>\n</g>\n<!-- 12 -->\n<g id=\"node13\" class=\"node\">\n<title>12</title>\n<path fill=\"yellow\" stroke=\"black\" d=\"M673.4,-123C673.4,-123 625.4,-123 625.4,-123 619.4,-123 613.4,-117 613.4,-111 613.4,-111 613.4,-99 613.4,-99 613.4,-93 619.4,-87 625.4,-87 625.4,-87 673.4,-87 673.4,-87 679.4,-87 685.4,-93 685.4,-99 685.4,-99 685.4,-111 685.4,-111 685.4,-117 679.4,-123 673.4,-123\"/>\n<text text-anchor=\"middle\" x=\"649.4\" y=\"-101.3\" font-family=\"Times,serif\" font-size=\"14.00\">DP &gt; 1.5?</text>\n</g>\n<!-- 12&#45;&gt;10 -->\n<g id=\"edge9\" class=\"edge\">\n<title>12&#45;&gt;10</title>\n<path fill=\"none\" stroke=\"black\" d=\"M649.4,-86.8C649.4,-75.16 649.4,-59.55 649.4,-46.24\"/>\n<polygon fill=\"black\" stroke=\"black\" points=\"652.9,-46.18 649.4,-36.18 645.9,-46.18 652.9,-46.18\"/>\n<text text-anchor=\"middle\" x=\"663.9\" y=\"-57.8\" font-family=\"Times,serif\" font-size=\"14.00\">False</text>\n</g>\n<!-- 12&#45;&gt;11 -->\n<g id=\"edge10\" class=\"edge\">\n<title>12&#45;&gt;11</title>\n<path fill=\"none\" stroke=\"black\" d=\"M670.04,-86.8C685.75,-73.71 707.5,-55.58 724.56,-41.37\"/>\n<polygon fill=\"black\" stroke=\"black\" points=\"727.06,-43.83 732.51,-34.74 722.58,-38.46 727.06,-43.83\"/>\n<text text-anchor=\"middle\" x=\"719.4\" y=\"-57.8\" font-family=\"Times,serif\" font-size=\"14.00\">True</text>\n</g>\n<!-- 13 -->\n<g id=\"node14\" class=\"node\">\n<title>13</title>\n<path fill=\"yellow\" stroke=\"black\" d=\"M498.9,-210C498.9,-210 421.9,-210 421.9,-210 415.9,-210 409.9,-204 409.9,-198 409.9,-198 409.9,-186 409.9,-186 409.9,-180 415.9,-174 421.9,-174 421.9,-174 498.9,-174 498.9,-174 504.9,-174 510.9,-180 510.9,-186 510.9,-186 510.9,-198 510.9,-198 510.9,-204 504.9,-210 498.9,-210\"/>\n<text text-anchor=\"middle\" x=\"460.4\" y=\"-188.3\" font-family=\"Times,serif\" font-size=\"14.00\">Mean &gt; 107.5?</text>\n</g>\n<!-- 13&#45;&gt;9 -->\n<g id=\"edge11\" class=\"edge\">\n<title>13&#45;&gt;9</title>\n<path fill=\"none\" stroke=\"black\" d=\"M460.4,-173.8C460.4,-162.16 460.4,-146.55 460.4,-133.24\"/>\n<polygon fill=\"black\" stroke=\"black\" points=\"463.9,-133.18 460.4,-123.18 456.9,-133.18 463.9,-133.18\"/>\n<text text-anchor=\"middle\" x=\"474.9\" y=\"-144.8\" font-family=\"Times,serif\" font-size=\"14.00\">False</text>\n</g>\n<!-- 13&#45;&gt;12 -->\n<g id=\"edge12\" class=\"edge\">\n<title>13&#45;&gt;12</title>\n<path fill=\"none\" stroke=\"black\" d=\"M498.64,-173.8C529.08,-160.11 571.75,-140.92 603.93,-126.45\"/>\n<polygon fill=\"black\" stroke=\"black\" points=\"605.45,-129.6 613.13,-122.31 602.57,-123.22 605.45,-129.6\"/>\n<text text-anchor=\"middle\" x=\"579.4\" y=\"-144.8\" font-family=\"Times,serif\" font-size=\"14.00\">True</text>\n</g>\n<!-- 14 -->\n<g id=\"node15\" class=\"node\">\n<title>14</title>\n<path fill=\"yellow\" stroke=\"black\" d=\"M399.4,-297C399.4,-297 323.4,-297 323.4,-297 317.4,-297 311.4,-291 311.4,-285 311.4,-285 311.4,-273 311.4,-273 311.4,-267 317.4,-261 323.4,-261 323.4,-261 399.4,-261 399.4,-261 405.4,-261 411.4,-267 411.4,-273 411.4,-273 411.4,-285 411.4,-285 411.4,-291 405.4,-297 399.4,-297\"/>\n<text text-anchor=\"middle\" x=\"361.4\" y=\"-275.3\" font-family=\"Times,serif\" font-size=\"14.00\">MSTV &gt; 0.45?</text>\n</g>\n<!-- 14&#45;&gt;6 -->\n<g id=\"edge13\" class=\"edge\">\n<title>14&#45;&gt;6</title>\n<path fill=\"none\" stroke=\"black\" d=\"M349.05,-260.8C340.37,-248.7 328.6,-232.3 318.82,-218.67\"/>\n<polygon fill=\"black\" stroke=\"black\" points=\"321.4,-216.26 312.72,-210.18 315.71,-220.34 321.4,-216.26\"/>\n<text text-anchor=\"middle\" x=\"349.9\" y=\"-231.8\" font-family=\"Times,serif\" font-size=\"14.00\">False</text>\n</g>\n<!-- 14&#45;&gt;13 -->\n<g id=\"edge14\" class=\"edge\">\n<title>14&#45;&gt;13</title>\n<path fill=\"none\" stroke=\"black\" d=\"M381.43,-260.8C396.19,-248.13 416.45,-230.73 432.75,-216.74\"/>\n<polygon fill=\"black\" stroke=\"black\" points=\"435.09,-219.35 440.39,-210.18 430.53,-214.03 435.09,-219.35\"/>\n<text text-anchor=\"middle\" x=\"430.4\" y=\"-231.8\" font-family=\"Times,serif\" font-size=\"14.00\">True</text>\n</g>\n</g>\n</svg>\n",
            "text/plain": [
              "<graphviz.graphs.Digraph at 0x7fe307a3e220>"
            ]
          },
          "execution_count": 17,
          "metadata": {},
          "output_type": "execute_result"
        }
      ],
      "source": [
        "cls = TreeClassifier(max_depth=3)\n",
        "cls.fit(Xtrain, Ytrain)\n",
        "cls.draw_tree()"
      ]
    },
    {
      "cell_type": "markdown",
      "metadata": {
        "id": "dAW2sLmoqxoO"
      },
      "source": [
        "## Task 3: A regression example: predicting apartment prices"
      ]
    },
    {
      "cell_type": "code",
      "execution_count": 18,
      "metadata": {
        "id": "Dy9yedB_qxoO"
      },
      "outputs": [],
      "source": [
        "# Read the CSV file using Pandas.\n",
        "url2 = \"https://www.cse.chalmers.se/~richajo/dit866/data/sberbank.csv\"\n",
        "alldata = pd.read_csv(url2)\n",
        "\n",
        "# Convert the timestamp string to an integer representing the year.\n",
        "def get_year(timestamp):\n",
        "    return int(timestamp[:4])\n",
        "alldata['year'] = alldata.timestamp.apply(get_year)\n",
        "\n",
        "# Select the 9 input columns and the output column.\n",
        "selected_columns = ['price_doc', 'year', 'full_sq', 'life_sq', 'floor', 'num_room', 'kitch_sq', 'full_all']\n",
        "alldata = alldata[selected_columns]\n",
        "alldata = alldata.dropna()\n",
        "\n",
        "# Shuffle.\n",
        "alldata_shuffled = alldata.sample(frac=1.0, random_state=0)\n",
        "\n",
        "# Separate the input and output columns.\n",
        "X = alldata_shuffled.drop('price_doc', axis=1)\n",
        "# For the output, we'll use the log of the sales price.\n",
        "Y = alldata_shuffled['price_doc'].apply(np.log)\n",
        "\n",
        "# Split into training and test sets.\n",
        "Xtrain, Xtest, Ytrain, Ytest = train_test_split(X, Y, test_size=0.2, random_state=0)"
      ]
    },
    {
      "cell_type": "code",
      "execution_count": 19,
      "metadata": {
        "colab": {
          "base_uri": "https://localhost:8080/"
        },
        "id": "qbsxy2g_qxoO",
        "outputId": "6713c1cc-22f5-4aec-ae8f-10fecee971cc"
      },
      "outputs": [
        {
          "data": {
            "text/plain": [
              "{'fit_time': array([0.0017972 , 0.0010922 , 0.00095987, 0.00121808, 0.00147295]),\n",
              " 'score_time': array([0.00035596, 0.00031686, 0.00033522, 0.00032783, 0.00037503]),\n",
              " 'test_score': array([-0.39897319, -0.37113485, -0.38083108, -0.39057156, -0.40475168])}"
            ]
          },
          "execution_count": 19,
          "metadata": {},
          "output_type": "execute_result"
        }
      ],
      "source": [
        "from sklearn.dummy import DummyRegressor\n",
        "from sklearn.model_selection import cross_validate\n",
        "m1 = DummyRegressor()\n",
        "cross_validate(m1, Xtrain, Ytrain, scoring='neg_mean_squared_error')"
      ]
    },
    {
      "cell_type": "code",
      "execution_count": 20,
      "metadata": {
        "id": "ieYVAOxWqxoP"
      },
      "outputs": [],
      "source": [
        "# Create a Linear Regression model\n",
        "from sklearn.linear_model import LinearRegression\n",
        "m1 = LinearRegression()\n",
        "\n",
        "# Create a Ridge Regression model\n",
        "from sklearn.linear_model import Ridge\n",
        "m2 = Ridge()\n",
        "\n",
        "# Create a Lasso Regression model\n",
        "from sklearn.linear_model import Lasso\n",
        "m3 = Lasso()\n",
        "\n",
        "# Create a Decision Tree Regressor model\n",
        "from sklearn.tree import DecisionTreeRegressor\n",
        "m4 = DecisionTreeRegressor()\n",
        "\n",
        "# Create a Random Forest Regressor model\n",
        "from sklearn.ensemble import RandomForestRegressor\n",
        "m5 = RandomForestRegressor()\n",
        "\n",
        "# Create a Gradient Boosting Regressor model\n",
        "from sklearn.ensemble import GradientBoostingRegressor\n",
        "m6 = GradientBoostingRegressor()\n",
        "\n",
        "# Create a MLP Regressor model\n",
        "from sklearn.neural_network import MLPRegressor\n",
        "m7 = MLPRegressor()\n",
        "\n",
        "\n",
        "models = [m1, m2, m3, m4, m5, m6, m7]"
      ]
    },
    {
      "cell_type": "code",
      "execution_count": 21,
      "metadata": {
        "id": "yW1Zzc_JqxoP"
      },
      "outputs": [],
      "source": [
        "mses = {}\n",
        "\n",
        "for model in models:\n",
        "    model_name = type(model).__name__\n",
        "    cv_score = cross_val_score(model, Xtrain, Ytrain, scoring='neg_mean_squared_error', cv=5)\n",
        "\n",
        "    #Get MSE\n",
        "    mse = abs(cv_score.mean())\n",
        "    \n",
        "    mses[model_name] = mse"
      ]
    },
    {
      "cell_type": "code",
      "execution_count": 22,
      "metadata": {
        "colab": {
          "base_uri": "https://localhost:8080/"
        },
        "id": "XkkMXRbPqxoP",
        "outputId": "a07cb644-36e7-4d81-b970-1935d814db2e"
      },
      "outputs": [
        {
          "data": {
            "text/plain": [
              "{'LinearRegression': 0.3013986588767211,\n",
              " 'Ridge': 0.3013978423217976,\n",
              " 'Lasso': 0.30104706717488716,\n",
              " 'DecisionTreeRegressor': 0.5250637308659749,\n",
              " 'RandomForestRegressor': 0.28319044087736933,\n",
              " 'GradientBoostingRegressor': 0.26456855647896405,\n",
              " 'MLPRegressor': 22033.922841253057}"
            ]
          },
          "execution_count": 22,
          "metadata": {},
          "output_type": "execute_result"
        }
      ],
      "source": [
        "mses"
      ]
    },
    {
      "cell_type": "code",
      "execution_count": 23,
      "metadata": {
        "colab": {
          "base_uri": "https://localhost:8080/"
        },
        "id": "2u7NT4CaqxoP",
        "outputId": "d192fd32-ceaf-4e5a-902b-3a6a7064ee25"
      },
      "outputs": [
        {
          "name": "stdout",
          "output_type": "stream",
          "text": [
            "The best regressor is GradientBoostingRegressor with MSE 0.265.\n"
          ]
        }
      ],
      "source": [
        "best_regressor = min(mses, key=mses.get)\n",
        "print('The best regressor is {} with MSE {:.3f}.'.format(best_regressor, mses[best_regressor]))"
      ]
    },
    {
      "cell_type": "code",
      "execution_count": 24,
      "metadata": {
        "colab": {
          "base_uri": "https://localhost:8080/"
        },
        "id": "O77JYz1sM4Jf",
        "outputId": "506e677d-efe1-4af2-a3a9-3e329d4b4072"
      },
      "outputs": [
        {
          "data": {
            "text/plain": [
              "0.2714725886671619"
            ]
          },
          "execution_count": 24,
          "metadata": {},
          "output_type": "execute_result"
        }
      ],
      "source": [
        "from sklearn.metrics import mean_squared_error\n",
        "\n",
        "best_model = GradientBoostingRegressor()\n",
        "best_model.fit(Xtrain, Ytrain)\n",
        "mean_squared_error(Ytest, best_model.predict(Xtest))"
      ]
    },
    {
      "cell_type": "markdown",
      "metadata": {
        "id": "xjpw7B6zPYGH"
      },
      "source": [
        "Which, again, perform slightly worse on the test set than in the cross validation."
      ]
    },
    {
      "cell_type": "markdown",
      "metadata": {
        "id": "hWFu8OTMqxoP"
      },
      "source": [
        "## Task 4: Decision trees for regression"
      ]
    },
    {
      "cell_type": "code",
      "execution_count": 25,
      "metadata": {
        "id": "6yao3PE1qxoP"
      },
      "outputs": [],
      "source": [
        "class DecisionTreeLeaf:\n",
        "\n",
        "    def __init__(self, value):\n",
        "        self.value = value\n",
        "\n",
        "    # This method computes the prediction for this leaf node. This will just return a constant value.\n",
        "    def predict(self, x):\n",
        "        return self.value\n",
        "\n",
        "    # Utility function to draw a tree visually using graphviz.\n",
        "    def draw_tree(self, graph, node_counter, names):\n",
        "        node_id = str(node_counter)\n",
        "        val_str = f'{self.value:.4g}' if isinstance(self.value, float) else str(self.value)\n",
        "        graph.node(node_id, val_str, style='filled')\n",
        "        return node_counter+1, node_id\n",
        "        \n",
        "    def __eq__(self, other):\n",
        "        if isinstance(other, DecisionTreeLeaf):\n",
        "            return self.value == other.value\n",
        "        else:\n",
        "            return False\n",
        "        \n",
        "    def to_str(self, indent, lines, names):\n",
        "        val_str = f'{self.value:.4g}' if isinstance(self.value, float) else str(self.value)\n",
        "        lines.append(' '*indent + val_str)"
      ]
    },
    {
      "cell_type": "code",
      "execution_count": 26,
      "metadata": {
        "id": "rNKrNpzkqxoQ"
      },
      "outputs": [],
      "source": [
        "class DecisionTreeBranch:\n",
        "\n",
        "    def __init__(self, feature, threshold, low_subtree, high_subtree):\n",
        "        self.feature = feature\n",
        "        self.threshold = threshold\n",
        "        self.low_subtree = low_subtree\n",
        "        self.high_subtree = high_subtree\n",
        "\n",
        "    # For a branch node, we compute the prediction by first considering the feature, and then \n",
        "    # calling the upper or lower subtree, depending on whether the feature is or isn't greater\n",
        "    # than the threshold.\n",
        "    def predict(self, x):\n",
        "        if x[self.feature] <= self.threshold:\n",
        "            return self.low_subtree.predict(x)\n",
        "        else:\n",
        "            return self.high_subtree.predict(x)\n",
        "\n",
        "    # Utility function to draw a tree visually using graphviz.\n",
        "    def draw_tree(self, graph, node_counter, names):\n",
        "        node_counter, low_id = self.low_subtree.draw_tree(graph, node_counter, names)\n",
        "        node_counter, high_id = self.high_subtree.draw_tree(graph, node_counter, names)\n",
        "        node_id = str(node_counter)\n",
        "        fname = f'F{self.feature}' if names is None else names[self.feature]\n",
        "        lbl = f'{fname} > {self.threshold:.4g}?'\n",
        "        graph.node(node_id, lbl, shape='box', fillcolor='yellow', style='filled, rounded')\n",
        "        graph.edge(node_id, low_id, 'False')\n",
        "        graph.edge(node_id, high_id, 'True')\n",
        "        return node_counter+1, node_id\n",
        "        \n",
        "    def to_str(self, indent, lines, names):\n",
        "        pad = ' '*indent\n",
        "        fname = f'F{self.feature}' if names is None else names[self.feature]\n",
        "        lines.append(pad + f'{fname} <= {self.threshold:.3g}?')\n",
        "        lines.append(pad + '  True =>')\n",
        "        self.low_subtree.to_str(indent+4, lines, names)\n",
        "        lines.append(pad + '  False =>')\n",
        "        self.high_subtree.to_str(indent+4, lines, names)\n",
        "        "
      ]
    },
    {
      "cell_type": "code",
      "execution_count": 27,
      "metadata": {
        "id": "iNl32ncSqxoQ"
      },
      "outputs": [],
      "source": [
        "from graphviz import Digraph\n",
        "from sklearn.base import BaseEstimator, ClassifierMixin\n",
        "from abc import ABC, abstractmethod\n",
        "\n",
        "class DecisionTree(ABC, BaseEstimator):\n",
        "\n",
        "    def __init__(self, max_depth):\n",
        "        super().__init__()\n",
        "        self.max_depth = max_depth\n",
        "        \n",
        "    # As usual in scikit-learn, the training method is called *fit*. We first process the dataset so that\n",
        "    # we're sure that it's represented as a NumPy matrix. Then we call the recursive tree-building method\n",
        "    # called make_tree (see below).\n",
        "    def fit(self, X, Y):\n",
        "        if isinstance(X, pd.DataFrame):\n",
        "            self.names = X.columns\n",
        "            X = X.to_numpy()\n",
        "        elif isinstance(X, list):\n",
        "            self.names = None\n",
        "            X = np.array(X)\n",
        "        else:\n",
        "            self.names = None\n",
        "        Y = np.array(Y)        \n",
        "        self.root = self.make_tree(X, Y, self.max_depth)\n",
        "        \n",
        "    def draw_tree(self):\n",
        "        graph = Digraph()\n",
        "        self.root.draw_tree(graph, 0, self.names)\n",
        "        return graph\n",
        "    \n",
        "    # By scikit-learn convention, the method *predict* computes the classification or regression output\n",
        "    # for a set of instances.\n",
        "    # To implement it, we call a separate method that carries out the prediction for one instance.\n",
        "    def predict(self, X):\n",
        "        if isinstance(X, pd.DataFrame):\n",
        "            X = X.to_numpy()\n",
        "        return [self.predict_one(x) for x in X]\n",
        "\n",
        "    # Predicting the output for one instance.\n",
        "    def predict_one(self, x):\n",
        "        return self.root.predict(x)        \n",
        "\n",
        "    # This is the recursive training \n",
        "    def make_tree(self, X, Y, max_depth):\n",
        "\n",
        "        # We start by computing the default value that will be used if we'll return a leaf node.\n",
        "        # For classifiers, this will be the most common value in Y.\n",
        "        default_value = self.get_default_value(Y)\n",
        "\n",
        "        # First the two base cases in the recursion: is the training set completely\n",
        "        # homogeneous, or have we reached the maximum depth? Then we need to return a leaf.\n",
        "\n",
        "        # If we have reached the maximum depth, return a leaf with the majority value.\n",
        "        if max_depth == 0:\n",
        "            return DecisionTreeLeaf(default_value)\n",
        "\n",
        "        # If all the instances in the remaining training set have the same output value,\n",
        "        # return a leaf with this value.\n",
        "        if self.is_homogeneous(Y):\n",
        "            return DecisionTreeLeaf(default_value)\n",
        "\n",
        "        # Select the \"most useful\" feature and split threshold. To rank the \"usefulness\" of features,\n",
        "        # we use one of the classification or regression criteria.\n",
        "        # For each feature, we call best_split (defined in a subclass). We then maximize over the features.\n",
        "        n_features = X.shape[1]\n",
        "        \n",
        "        _, best_feature, best_threshold = \\\n",
        "            max(self.best_split(X, Y, feature) \n",
        "                for feature in range(n_features))\n",
        "        \n",
        "        if best_feature is None:\n",
        "            return DecisionTreeLeaf(default_value)\n",
        "\n",
        "        # Split the training set into subgroups, based on whether the selected feature is greater than\n",
        "        # the threshold or not\n",
        "        X_low, X_high, Y_low, Y_high = \\\n",
        "            self.split_by_feature(X, Y, best_feature, best_threshold)\n",
        "\n",
        "        # Build the subtrees using a recursive call. Each subtree is associated\n",
        "        # with a value of the feature.\n",
        "        low_subtree = self.make_tree(X_low, Y_low, max_depth-1)\n",
        "        high_subtree = self.make_tree(X_high, Y_high, max_depth-1)\n",
        "\n",
        "        if low_subtree == high_subtree:\n",
        "            return low_subtree\n",
        "\n",
        "        # Return a decision tree branch containing the result.\n",
        "        return DecisionTreeBranch(best_feature, best_threshold, low_subtree, high_subtree)\n",
        "    \n",
        "    # Utility method that splits the data into the \"upper\" and \"lower\" part, based on a feature\n",
        "    # and a threshold.\n",
        "    def split_by_feature(self, X, Y, feature, threshold):\n",
        "        low = X[:,feature] <= threshold\n",
        "        high = ~low\n",
        "        return X[low], X[high], Y[low], Y[high]\n",
        "    \n",
        "    def __str__(self):\n",
        "        lines = []\n",
        "        self.root.to_str(0, lines, self.names)\n",
        "        return '\\n'.join(lines)\n",
        "    \n",
        "    # The following three methods need to be implemented by the classification and regression subclasses.\n",
        "    \n",
        "    @abstractmethod\n",
        "    def get_default_value(self, Y):\n",
        "        pass\n",
        "\n",
        "    @abstractmethod\n",
        "    def is_homogeneous(self, Y):\n",
        "        pass\n",
        "\n",
        "    @abstractmethod\n",
        "    def best_split(self, X, Y, feature):\n",
        "        pass"
      ]
    },
    {
      "cell_type": "code",
      "execution_count": 28,
      "metadata": {
        "id": "DdOmu7yjqxoQ"
      },
      "outputs": [],
      "source": [
        "def majority_sum_scorer(n_low, low_distr, n_high, high_distr):\n",
        "    maj_sum_low = low_distr.most_common(1)[0][1]\n",
        "    maj_sum_high = high_distr.most_common(1)[0][1]\n",
        "    return maj_sum_low + maj_sum_high\n",
        "    \n",
        "def entropy(distr):\n",
        "    n = sum(distr.values())\n",
        "    ps = [n_i/n for n_i in distr.values()]\n",
        "    return -sum(p*np.log2(p) if p > 0 else 0 for p in ps)\n",
        "\n",
        "def info_gain_scorer(n_low, low_distr, n_high, high_distr):\n",
        "    return -(n_low*entropy(low_distr)+n_high*entropy(high_distr))/(n_low+n_high)\n",
        "\n",
        "def gini_impurity(distr):\n",
        "    n = sum(distr.values())\n",
        "    ps = [n_i/n for n_i in distr.values()]\n",
        "    return 1-sum(p**2 for p in ps)\n",
        "    \n",
        "def gini_scorer(n_low, low_distr, n_high, high_distr):\n",
        "    return -(n_low*gini_impurity(low_distr)+n_high*gini_impurity(high_distr))/(n_low+n_high)"
      ]
    },
    {
      "cell_type": "code",
      "execution_count": 29,
      "metadata": {
        "id": "H4uNIk0TqxoQ"
      },
      "outputs": [],
      "source": [
        "from collections import Counter\n",
        "\n",
        "class TreeClassifier(DecisionTree, ClassifierMixin):\n",
        "\n",
        "    def __init__(self, max_depth=10, criterion='maj_sum'):\n",
        "        super().__init__(max_depth)\n",
        "        self.criterion = criterion\n",
        "        \n",
        "    def fit(self, X, Y):\n",
        "        # For decision tree classifiers, there are some different ways to measure\n",
        "        # the homogeneity of subsets.\n",
        "        if self.criterion == 'maj_sum':\n",
        "            self.criterion_function = majority_sum_scorer\n",
        "        elif self.criterion == 'info_gain':\n",
        "            self.criterion_function = info_gain_scorer\n",
        "        elif self.criterion == 'gini':\n",
        "            self.criterion_function = gini_scorer\n",
        "        else:\n",
        "            raise Exception(f'Unknown criterion: {self.criterion}')\n",
        "        super().fit(X, Y)\n",
        "        self.classes_ = sorted(set(Y))\n",
        "\n",
        "    # Select a default value that is going to be used if we decide to make a leaf.\n",
        "    # We will select the most common value.\n",
        "    def get_default_value(self, Y):\n",
        "        self.class_distribution = Counter(Y)\n",
        "        return self.class_distribution.most_common(1)[0][0]\n",
        "    \n",
        "    # Checks whether a set of output values is homogeneous. In the classification case, \n",
        "    # this means that all output values are identical.\n",
        "    # We assume that we called get_default_value just before, so that we can access\n",
        "    # the class_distribution attribute. If the class distribution contains just one item,\n",
        "    # this means that the set is homogeneous.\n",
        "    def is_homogeneous(self, Y):\n",
        "        return len(self.class_distribution) == 1\n",
        "        \n",
        "    # Finds the best splitting point for a given feature. We'll keep frequency tables (Counters)\n",
        "    # for the upper and lower parts, and then compute the impurity criterion using these tables.\n",
        "    # In the end, we return a triple consisting of\n",
        "    # - the best score we found, according to the criterion we're using\n",
        "    # - the id of the feature\n",
        "    # - the threshold for the best split\n",
        "    def best_split(self, X, Y, feature):\n",
        "\n",
        "        # Create a list of input-output pairs, where we have sorted\n",
        "        # in ascending order by the input feature we're considering.\n",
        "        sorted_indices = np.argsort(X[:, feature])        \n",
        "        X_sorted = list(X[sorted_indices, feature])\n",
        "        Y_sorted = list(Y[sorted_indices])\n",
        "\n",
        "        n = len(Y)\n",
        "\n",
        "        # The frequency tables corresponding to the parts *before and including*\n",
        "        # and *after* the current element.\n",
        "        low_distr = Counter()\n",
        "        high_distr = Counter(Y)\n",
        "\n",
        "        # Keep track of the best result we've seen so far.\n",
        "        max_score = -np.inf\n",
        "        max_i = None\n",
        "\n",
        "        # Go through all the positions (excluding the last position).\n",
        "        for i in range(0, n-1):\n",
        "\n",
        "            # Input and output at the current position.\n",
        "            x_i = X_sorted[i]\n",
        "            y_i = Y_sorted[i]\n",
        "            \n",
        "            # Update the frequency tables.\n",
        "            low_distr[y_i] += 1\n",
        "            high_distr[y_i] -= 1\n",
        "\n",
        "            # If the input is equal to the input at the next position, we will\n",
        "            # not consider a split here.\n",
        "            #x_next = XY[i+1][0]\n",
        "            x_next = X_sorted[i+1]\n",
        "            if x_i == x_next:\n",
        "                continue\n",
        "\n",
        "            # Compute the homogeneity criterion for a split at this position.\n",
        "            score = self.criterion_function(i+1, low_distr, n-i-1, high_distr)\n",
        "\n",
        "            # If this is the best split, remember it.\n",
        "            if score > max_score:\n",
        "                max_score = score\n",
        "                max_i = i\n",
        "\n",
        "        # If we didn't find any split (meaning that all inputs are identical), return\n",
        "        # a dummy value.\n",
        "        if max_i is None:\n",
        "            return -np.inf, None, None\n",
        "\n",
        "        # Otherwise, return the best split we found and its score.\n",
        "        split_point = 0.5*(X_sorted[max_i] + X_sorted[max_i+1])\n",
        "        return max_score, feature, split_point\n"
      ]
    },
    {
      "cell_type": "markdown",
      "metadata": {
        "id": "7Jji_pqR8nym"
      },
      "source": [
        "### Step 1. Implementing the regression model"
      ]
    },
    {
      "cell_type": "code",
      "execution_count": 30,
      "metadata": {
        "id": "LvxZwGbJqxoR"
      },
      "outputs": [],
      "source": [
        "def mse_scorer(i, low_distr, n_high, high_distr):\n",
        "    \"\"\"\n",
        "    i: the number of samples in the lower subset\n",
        "    low_distr: a Counter containing the output values of the lower subset\n",
        "    n_high: the number of samples in the upper subset\n",
        "    high_distr: a Counter containing the output values of the upper subset\n",
        "    \"\"\"\n",
        "    low_mean = sum(low_distr.values()) / i\n",
        "    high_mean = sum(high_distr.values()) / n_high\n",
        "    low_mse = sum((low_mean - k) ** 2 * v for k, v in low_distr.items())\n",
        "    high_mse = sum((high_mean - k) ** 2 * v for k, v in high_distr.items())\n",
        "    total_mse = low_mse + high_mse\n",
        "    return total_mse\n",
        "\n",
        "def variance_scorer(i, low_distr, n_high, high_distr):\n",
        "    \"\"\"\n",
        "    i: the number of samples in the lower subset\n",
        "    low_distr: a Counter containing the output values of the lower subset\n",
        "    n_high: the number of samples in the upper subset\n",
        "    high_distr: a Counter containing the output values of the upper subset\n",
        "    \"\"\"\n",
        "    low_mean = sum(low_distr.values()) / i\n",
        "    high_mean = sum(high_distr.values()) / n_high\n",
        "    low_var = sum((low_mean - k) ** 2 * v for k, v in low_distr.items()) / i\n",
        "    high_var = sum((high_mean - k) ** 2 * v for k, v in high_distr.items()) / n_high\n",
        "    total_var = low_var + high_var\n",
        "    return total_var"
      ]
    },
    {
      "cell_type": "code",
      "execution_count": 31,
      "metadata": {
        "id": "FK0tMMtEqxoR"
      },
      "outputs": [],
      "source": [
        "from collections import Counter\n",
        "from sklearn.base import RegressorMixin\n",
        "\n",
        "class TreeRegressor(DecisionTree, RegressorMixin):\n",
        "\n",
        "    def __init__(self, max_depth=10, criterion='mse'):\n",
        "        super().__init__(max_depth)\n",
        "        self.criterion = criterion\n",
        "\n",
        "    def fit(self, X, Y):\n",
        "        # For decision tree regressor, there are some different ways to measure\n",
        "        # the homogeneity of subsets.\n",
        "        if self.criterion == 'mse':\n",
        "            self.criterion_function = mse_scorer\n",
        "        elif self.criterion == 'variance':\n",
        "            self.criterion_function = variance_scorer\n",
        "        else:\n",
        "            raise Exception(f'Unknown criterion: {self.criterion}')\n",
        "        super().fit(X, Y)\n",
        "\n",
        "    # Select a default value that is going to be used if we decide to make a leaf.\n",
        "    # We will select the mean value.\n",
        "    def get_default_value(self, Y):\n",
        "        return np.mean(Y)\n",
        "\n",
        "    # Checks whether a set of output values is homogeneous. In the regression case, \n",
        "    # this means that the variance of the output values is small. \n",
        "    \n",
        "    # Epsilon is an arbitrarily chosen small value.\n",
        "    def is_homogeneous(self, Y, epsilon = 1e-5):\n",
        "        return np.var(Y) < epsilon\n",
        "\n",
        "    # Finds the best splitting point for a given feature. We'll keep frequency tables (Counters)\n",
        "    # for the upper and lower parts, and then compute the impurity criterion using these tables.\n",
        "    # In the end, we return a triple consisting of\n",
        "    # - the best score we found, according to the criterion we're using\n",
        "    # - the id of the feature\n",
        "    # - the threshold for the best split\n",
        "    def best_split(self, X, Y, feature):\n",
        "        sorted_indices = np.argsort(X[:, feature])        \n",
        "        X_sorted = list(X[sorted_indices, feature])\n",
        "        Y_sorted = list(Y[sorted_indices])\n",
        "\n",
        "        n = len(Y)\n",
        "        low_distr = Counter()\n",
        "        high_distr = Counter(Y)\n",
        "\n",
        "        max_score = -np.inf\n",
        "        max_i = None\n",
        "\n",
        "        for i in range(0, n-1):\n",
        "            x_i = X_sorted[i]\n",
        "            y_i = Y_sorted[i]\n",
        "            low_distr[y_i] += 1\n",
        "            high_distr[y_i] -= 1\n",
        "\n",
        "            x_next = X_sorted[i+1]\n",
        "            if x_i == x_next:\n",
        "                continue\n",
        "\n",
        "            score = self.criterion_function(i+1, low_distr, n-i-1, high_distr)\n",
        "\n",
        "            if score > max_score:\n",
        "                max_score = score\n",
        "                max_i = i\n",
        "\n",
        "        if max_i is None:\n",
        "            return -np.inf, None, None\n",
        "        else:\n",
        "            threshold = (X_sorted[max_i] + X_sorted[max_i+1]) / 2\n",
        "            return max_score, feature, threshold\n"
      ]
    },
    {
      "cell_type": "markdown",
      "metadata": {
        "id": "n_BMpGumA7am"
      },
      "source": [
        "The criterion parameter, which can be either 'mse' or 'variance', is used to specify the function that will be used to measure the homogeneity of subsets in the dataset.\n",
        "\n",
        "Because the MSE criterion is a widely used and recognized indicator of model performance for regression issues, we have decided to incorporate it in our approach. MSE is a well-known criterion since it can be used in optimization methods and is differentiable. This makes it an appropriate criterion for assessing the homogeneity of dataset subsets."
      ]
    },
    {
      "cell_type": "markdown",
      "metadata": {
        "id": "GplgN7B78q6m"
      },
      "source": [
        "### Step 2. Sanity check"
      ]
    },
    {
      "cell_type": "code",
      "execution_count": 32,
      "metadata": {
        "id": "aQqNLzJSqxoR"
      },
      "outputs": [
        {
          "data": {
            "text/plain": [
              "<matplotlib.collections.PathCollection at 0x7fe2eeb5d6d0>"
            ]
          },
          "execution_count": 32,
          "metadata": {},
          "output_type": "execute_result"
        },
        {
          "data": {
            "image/png": "[encoded data removed]",
            "text/plain": [
              "<Figure size 640x480 with 1 Axes>"
            ]
          },
          "metadata": {},
          "output_type": "display_data"
        }
      ],
      "source": [
        "def make_some_data(n):\n",
        "    x = np.random.uniform(-5, 5, size=n)\n",
        "    Y = (x > 1) + 0.1*np.random.normal(size=n)\n",
        "    X = x.reshape(n, 1) # X needs to be a 2-dimensional matrix\n",
        "    return X, Y\n",
        "\n",
        "X, Y = make_some_data(100)\n",
        "plt.scatter(X, Y)"
      ]
    },
    {
      "attachments": {},
      "cell_type": "markdown",
      "metadata": {
        "id": "hhgZSvde83NX"
      },
      "source": [
        "Given this data, a split around the maybe X = 0.1, where if X < 0.1 it would predict 0, else 1."
      ]
    },
    {
      "cell_type": "code",
      "execution_count": 33,
      "metadata": {
        "colab": {
          "base_uri": "https://localhost:8080/",
          "height": 313
        },
        "id": "xY8TZcoeuMs8",
        "outputId": "f5a65dd1-37f8-4881-98c7-c90d7ea0d7e9"
      },
      "outputs": [
        {
          "data": {
            "image/svg+xml": "<?xml version=\"1.0\" encoding=\"UTF-8\" standalone=\"no\"?>\n<!DOCTYPE svg PUBLIC \"-//W3C//DTD SVG 1.1//EN\"\n \"http://www.w3.org/Graphics/SVG/1.1/DTD/svg11.dtd\">\n<!-- Generated by graphviz version 2.50.0 (0)\n -->\n<!-- Pages: 1 -->\n<svg width=\"180pt\" height=\"131pt\"\n viewBox=\"0.00 0.00 180.34 131.00\" xmlns=\"http://www.w3.org/2000/svg\" xmlns:xlink=\"http://www.w3.org/1999/xlink\">\n<g id=\"graph0\" class=\"graph\" transform=\"scale(1 1) rotate(0) translate(4 127)\">\n<polygon fill=\"white\" stroke=\"transparent\" points=\"-4,4 -4,-127 176.34,-127 176.34,4 -4,4\"/>\n<!-- 0 -->\n<g id=\"node1\" class=\"node\">\n<title>0</title>\n<ellipse fill=\"lightgrey\" stroke=\"black\" cx=\"42.25\" cy=\"-18\" rx=\"42.49\" ry=\"18\"/>\n<text text-anchor=\"middle\" x=\"42.25\" y=\"-14.3\" font-family=\"Times,serif\" font-size=\"14.00\">&#45;0.07177</text>\n</g>\n<!-- 1 -->\n<g id=\"node2\" class=\"node\">\n<title>1</title>\n<ellipse fill=\"lightgrey\" stroke=\"black\" cx=\"137.25\" cy=\"-18\" rx=\"35.19\" ry=\"18\"/>\n<text text-anchor=\"middle\" x=\"137.25\" y=\"-14.3\" font-family=\"Times,serif\" font-size=\"14.00\">0.3563</text>\n</g>\n<!-- 2 -->\n<g id=\"node3\" class=\"node\">\n<title>2</title>\n<path fill=\"yellow\" stroke=\"black\" d=\"M121.25,-123C121.25,-123 57.25,-123 57.25,-123 51.25,-123 45.25,-117 45.25,-111 45.25,-111 45.25,-99 45.25,-99 45.25,-93 51.25,-87 57.25,-87 57.25,-87 121.25,-87 121.25,-87 127.25,-87 133.25,-93 133.25,-99 133.25,-99 133.25,-111 133.25,-111 133.25,-117 127.25,-123 121.25,-123\"/>\n<text text-anchor=\"middle\" x=\"89.25\" y=\"-101.3\" font-family=\"Times,serif\" font-size=\"14.00\">F0 &gt; &#45;4.958?</text>\n</g>\n<!-- 2&#45;&gt;0 -->\n<g id=\"edge1\" class=\"edge\">\n<title>2&#45;&gt;0</title>\n<path fill=\"none\" stroke=\"black\" d=\"M79.74,-86.8C73.02,-74.66 63.92,-58.19 56.36,-44.52\"/>\n<polygon fill=\"black\" stroke=\"black\" points=\"59.33,-42.65 51.42,-35.6 53.2,-46.04 59.33,-42.65\"/>\n<text text-anchor=\"middle\" x=\"83.75\" y=\"-57.8\" font-family=\"Times,serif\" font-size=\"14.00\">False</text>\n</g>\n<!-- 2&#45;&gt;1 -->\n<g id=\"edge2\" class=\"edge\">\n<title>2&#45;&gt;1</title>\n<path fill=\"none\" stroke=\"black\" d=\"M98.96,-86.8C105.82,-74.66 115.12,-58.19 122.83,-44.52\"/>\n<polygon fill=\"black\" stroke=\"black\" points=\"126,-46.03 127.87,-35.6 119.91,-42.58 126,-46.03\"/>\n<text text-anchor=\"middle\" x=\"128.25\" y=\"-57.8\" font-family=\"Times,serif\" font-size=\"14.00\">True</text>\n</g>\n</g>\n</svg>\n",
            "text/plain": [
              "<graphviz.graphs.Digraph at 0x7fe30e368520>"
            ]
          },
          "execution_count": 33,
          "metadata": {},
          "output_type": "execute_result"
        }
      ],
      "source": [
        "tree= TreeRegressor(criterion= \"variance\", max_depth= 1)\n",
        "tree.fit(X, Y)\n",
        "tree.draw_tree()"
      ]
    },
    {
      "attachments": {},
      "cell_type": "markdown",
      "metadata": {},
      "source": [
        "At this stage we realised we calculated the variance reduction wrong, and we used an older, but slower, TreeRegressor class instead, as seen below. The negative thing with this is that it takes way to long to be practically usefull for the real dataset, since we never understood the alternative variance reduction hint. \n",
        "\n",
        "Therefore, we will use a sample of 20 % of the data in the tasks following, just so it still completes in a managable time. "
      ]
    },
    {
      "cell_type": "code",
      "execution_count": 34,
      "metadata": {},
      "outputs": [
        {
          "name": "stderr",
          "output_type": "stream",
          "text": [
            "/Users/leocarlsson/opt/anaconda3/lib/python3.9/site-packages/numpy/core/fromnumeric.py:3723: RuntimeWarning: Degrees of freedom <= 0 for slice\n",
            "  return _methods._var(a, axis=axis, dtype=dtype, out=out, ddof=ddof,\n",
            "/Users/leocarlsson/opt/anaconda3/lib/python3.9/site-packages/numpy/core/_methods.py:222: RuntimeWarning: invalid value encountered in true_divide\n",
            "  arrmean = um.true_divide(arrmean, div, out=arrmean, casting='unsafe',\n",
            "/Users/leocarlsson/opt/anaconda3/lib/python3.9/site-packages/numpy/core/_methods.py:254: RuntimeWarning: invalid value encountered in double_scalars\n",
            "  ret = ret.dtype.type(ret / rcount)\n"
          ]
        },
        {
          "data": {
            "image/svg+xml": "<?xml version=\"1.0\" encoding=\"UTF-8\" standalone=\"no\"?>\n<!DOCTYPE svg PUBLIC \"-//W3C//DTD SVG 1.1//EN\"\n \"http://www.w3.org/Graphics/SVG/1.1/DTD/svg11.dtd\">\n<!-- Generated by graphviz version 2.50.0 (0)\n -->\n<!-- Pages: 1 -->\n<svg width=\"190pt\" height=\"131pt\"\n viewBox=\"0.00 0.00 189.89 131.00\" xmlns=\"http://www.w3.org/2000/svg\" xmlns:xlink=\"http://www.w3.org/1999/xlink\">\n<g id=\"graph0\" class=\"graph\" transform=\"scale(1 1) rotate(0) translate(4 127)\">\n<polygon fill=\"white\" stroke=\"transparent\" points=\"-4,4 -4,-127 185.89,-127 185.89,4 -4,4\"/>\n<!-- 0 -->\n<g id=\"node1\" class=\"node\">\n<title>0</title>\n<ellipse fill=\"lightgrey\" stroke=\"black\" cx=\"46.8\" cy=\"-18\" rx=\"46.59\" ry=\"18\"/>\n<text text-anchor=\"middle\" x=\"46.8\" y=\"-14.3\" font-family=\"Times,serif\" font-size=\"14.00\">&#45;0.008847</text>\n</g>\n<!-- 1 -->\n<g id=\"node2\" class=\"node\">\n<title>1</title>\n<ellipse fill=\"lightgrey\" stroke=\"black\" cx=\"146.8\" cy=\"-18\" rx=\"35.19\" ry=\"18\"/>\n<text text-anchor=\"middle\" x=\"146.8\" y=\"-14.3\" font-family=\"Times,serif\" font-size=\"14.00\">0.6987</text>\n</g>\n<!-- 2 -->\n<g id=\"node3\" class=\"node\">\n<title>2</title>\n<path fill=\"yellow\" stroke=\"black\" d=\"M128.8,-123C128.8,-123 64.8,-123 64.8,-123 58.8,-123 52.8,-117 52.8,-111 52.8,-111 52.8,-99 52.8,-99 52.8,-93 58.8,-87 64.8,-87 64.8,-87 128.8,-87 128.8,-87 134.8,-87 140.8,-93 140.8,-99 140.8,-99 140.8,-111 140.8,-111 140.8,-117 134.8,-123 128.8,-123\"/>\n<text text-anchor=\"middle\" x=\"96.8\" y=\"-101.3\" font-family=\"Times,serif\" font-size=\"14.00\">F0 &gt; &#45;0.308?</text>\n</g>\n<!-- 2&#45;&gt;0 -->\n<g id=\"edge1\" class=\"edge\">\n<title>2&#45;&gt;0</title>\n<path fill=\"none\" stroke=\"black\" d=\"M86.68,-86.8C79.58,-74.74 69.97,-58.4 61.97,-44.79\"/>\n<polygon fill=\"black\" stroke=\"black\" points=\"64.82,-42.73 56.73,-35.89 58.78,-46.28 64.82,-42.73\"/>\n<text text-anchor=\"middle\" x=\"89.3\" y=\"-57.8\" font-family=\"Times,serif\" font-size=\"14.00\">False</text>\n</g>\n<!-- 2&#45;&gt;1 -->\n<g id=\"edge2\" class=\"edge\">\n<title>2&#45;&gt;1</title>\n<path fill=\"none\" stroke=\"black\" d=\"M106.91,-86.8C114.06,-74.66 123.74,-58.19 131.78,-44.52\"/>\n<polygon fill=\"black\" stroke=\"black\" points=\"134.98,-45.99 137.03,-35.6 128.95,-42.44 134.98,-45.99\"/>\n<text text-anchor=\"middle\" x=\"136.8\" y=\"-57.8\" font-family=\"Times,serif\" font-size=\"14.00\">True</text>\n</g>\n</g>\n</svg>\n",
            "text/plain": [
              "<graphviz.graphs.Digraph at 0x7fe30c854ac0>"
            ]
          },
          "execution_count": 34,
          "metadata": {},
          "output_type": "execute_result"
        }
      ],
      "source": [
        "from sklearn.base import RegressorMixin\n",
        "import numpy as np\n",
        "\n",
        "class TreeRegressor(DecisionTree, RegressorMixin):\n",
        "    def __init__(self, max_depth=10, min_var = 1e-5):\n",
        "        super().__init__(max_depth)\n",
        "        self.min_var = min_var\n",
        "        \n",
        "    def fit(self, X, Y):\n",
        "        super().fit(X, Y)\n",
        "        self.classes_ = sorted(set(Y))\n",
        "\n",
        "    # Select a default value that is going to be used if we decide to make a leaf, using the mean\n",
        "    def get_default_value(self, Y):\n",
        "        return np.mean(Y)\n",
        "    \n",
        "    # Checks whether a set of output values is homogeneous. \n",
        "    def is_homogeneous(self, Y):\n",
        "        return np.var(Y) < self.min_var    \n",
        "        \n",
        "    # Finds the best splitting point for a given feature using minimising variance\n",
        "    def best_split(self, X, Y, feature):\n",
        "\n",
        "        # Create a list of input-output pairs, where we have sorted\n",
        "        # in ascending order by the input feature we're considering.\n",
        "        sorted_indices = np.argsort(X[:, feature])        \n",
        "        X_sorted = list(X[sorted_indices, feature])\n",
        "        Y_sorted = list(Y[sorted_indices])\n",
        "\n",
        "        n = len(Y)\n",
        "\n",
        "        # Keep track of the best result we've seen so far.\n",
        "        max_score = -np.inf\n",
        "        max_i = None\n",
        "\n",
        "        # Go through all the positions (excluding the last position).\n",
        "        for i in range(0, n-1):\n",
        "\n",
        "            # Split in High and low parts at index of the set\n",
        "            S = X_sorted\n",
        "            S_h = X_sorted[i:]\n",
        "            S_l = X_sorted[:i]\n",
        "\n",
        "            sq_high = np.sum(np.power(S_h, 2))\n",
        "            sq_low = high = np.sum(np.power(S_h, 2))\n",
        "            \n",
        "            sum_low = np.sum(S_l)\n",
        "            sum_high = np.sum(S_h)\n",
        "\n",
        "            \n",
        "\n",
        "            score = np.var(S) - np.size(S_h) / np.size(S) * np.var(S_h) - np.size(S_l) / np.size(S) * np.var(S_l)\n",
        "\n",
        "            # If this is the best split, remember it.\n",
        "            if score > max_score:\n",
        "                max_score = score\n",
        "                max_i = i\n",
        "\n",
        "        # If we didn't find any split (meaning that all inputs are identical), return\n",
        "        # a dummy value.\n",
        "        if max_i is None:\n",
        "            return -np.inf, None, None\n",
        "\n",
        "        # Otherwise, return the best split we found and its score.\n",
        "        split_point = 0.5*(X_sorted[max_i] + X_sorted[max_i+1])\n",
        "        return max_score, feature, split_point\n",
        "\n",
        "tree = TreeRegressor(max_depth= 1)\n",
        "tree.fit(X, Y)\n",
        "tree.draw_tree()"
      ]
    },
    {
      "cell_type": "markdown",
      "metadata": {
        "id": "rM0_jxIK86lO"
      },
      "source": [
        "### Step 3. Predicting apartment prices using decision tree regression"
      ]
    },
    {
      "cell_type": "code",
      "execution_count": 35,
      "metadata": {
        "id": "v_EiB9tmuoMD"
      },
      "outputs": [],
      "source": [
        "url = \"https://www.cse.chalmers.se/~richajo/dit866/data/sberbank.csv\"\n",
        "\n",
        "# Read the CSV file using Pandas.\n",
        "alldata = pd.read_csv(url)\n",
        "\n",
        "# Convert the timestamp string to an integer representing the year.\n",
        "def get_year(timestamp):\n",
        "    return int(timestamp[:4])\n",
        "alldata['year'] = alldata.timestamp.apply(get_year)\n",
        "\n",
        "# Select the 9 input columns and the output column.\n",
        "selected_columns = ['price_doc', 'year', 'full_sq', 'life_sq', 'floor', 'num_room', 'kitch_sq', 'full_all']\n",
        "alldata = alldata[selected_columns]\n",
        "alldata = alldata.dropna()\n",
        "\n",
        "# Shuffle.\n",
        "alldata_shuffled = alldata.sample(frac=0.2, random_state=0)\n",
        "\n",
        "# Separate the input and output columns.\n",
        "X = alldata_shuffled.drop('price_doc', axis=1)\n",
        "# For the output, we'll use the log of the sales price.\n",
        "Y = alldata_shuffled['price_doc'].apply(np.log)\n",
        "\n",
        "# Split into training and test sets.\n",
        "Xtrain, Xtest, Ytrain, Ytest = train_test_split(X, Y, test_size=0.2, random_state=0)"
      ]
    },
    {
      "cell_type": "code",
      "execution_count": 36,
      "metadata": {
        "colab": {
          "base_uri": "https://localhost:8080/",
          "height": 681
        },
        "id": "e-OtOIc03TXR",
        "outputId": "2bfc2b25-9dc8-4d6f-eb6d-eb80c6139009"
      },
      "outputs": [
        {
          "name": "stderr",
          "output_type": "stream",
          "text": [
            "/Users/leocarlsson/opt/anaconda3/lib/python3.9/site-packages/numpy/core/fromnumeric.py:3723: RuntimeWarning: Degrees of freedom <= 0 for slice\n",
            "  return _methods._var(a, axis=axis, dtype=dtype, out=out, ddof=ddof,\n",
            "/Users/leocarlsson/opt/anaconda3/lib/python3.9/site-packages/numpy/core/_methods.py:222: RuntimeWarning: invalid value encountered in true_divide\n",
            "  arrmean = um.true_divide(arrmean, div, out=arrmean, casting='unsafe',\n",
            "/Users/leocarlsson/opt/anaconda3/lib/python3.9/site-packages/numpy/core/_methods.py:254: RuntimeWarning: invalid value encountered in double_scalars\n",
            "  ret = ret.dtype.type(ret / rcount)\n",
            "/Users/leocarlsson/opt/anaconda3/lib/python3.9/site-packages/numpy/core/fromnumeric.py:3440: RuntimeWarning: Mean of empty slice.\n",
            "  return _methods._mean(a, axis=axis, dtype=dtype,\n",
            "/Users/leocarlsson/opt/anaconda3/lib/python3.9/site-packages/numpy/core/_methods.py:189: RuntimeWarning: invalid value encountered in double_scalars\n",
            "  ret = ret.dtype.type(ret / rcount)\n"
          ]
        },
        {
          "data": {
            "image/svg+xml": "<?xml version=\"1.0\" encoding=\"UTF-8\" standalone=\"no\"?>\n<!DOCTYPE svg PUBLIC \"-//W3C//DTD SVG 1.1//EN\"\n \"http://www.w3.org/Graphics/SVG/1.1/DTD/svg11.dtd\">\n<!-- Generated by graphviz version 2.50.0 (0)\n -->\n<!-- Pages: 1 -->\n<svg width=\"1334pt\" height=\"479pt\"\n viewBox=\"0.00 0.00 1333.55 479.00\" xmlns=\"http://www.w3.org/2000/svg\" xmlns:xlink=\"http://www.w3.org/1999/xlink\">\n<g id=\"graph0\" class=\"graph\" transform=\"scale(1 1) rotate(0) translate(4 475)\">\n<polygon fill=\"white\" stroke=\"transparent\" points=\"-4,4 -4,-475 1329.55,-475 1329.55,4 -4,4\"/>\n<!-- 0 -->\n<g id=\"node1\" class=\"node\">\n<title>0</title>\n<ellipse fill=\"lightgrey\" stroke=\"black\" cx=\"30.55\" cy=\"-18\" rx=\"30.59\" ry=\"18\"/>\n<text text-anchor=\"middle\" x=\"30.55\" y=\"-14.3\" font-family=\"Times,serif\" font-size=\"14.00\">15.41</text>\n</g>\n<!-- 1 -->\n<g id=\"node2\" class=\"node\">\n<title>1</title>\n<ellipse fill=\"lightgrey\" stroke=\"black\" cx=\"109.55\" cy=\"-18\" rx=\"30.59\" ry=\"18\"/>\n<text text-anchor=\"middle\" x=\"109.55\" y=\"-14.3\" font-family=\"Times,serif\" font-size=\"14.00\">15.63</text>\n</g>\n<!-- 2 -->\n<g id=\"node3\" class=\"node\">\n<title>2</title>\n<path fill=\"yellow\" stroke=\"black\" d=\"M164.55,-123C164.55,-123 52.55,-123 52.55,-123 46.55,-123 40.55,-117 40.55,-111 40.55,-111 40.55,-99 40.55,-99 40.55,-93 46.55,-87 52.55,-87 52.55,-87 164.55,-87 164.55,-87 170.55,-87 176.55,-93 176.55,-99 176.55,-99 176.55,-111 176.55,-111 176.55,-117 170.55,-123 164.55,-123\"/>\n<text text-anchor=\"middle\" x=\"108.55\" y=\"-101.3\" font-family=\"Times,serif\" font-size=\"14.00\">full_all &gt; 1.389e+04?</text>\n</g>\n<!-- 2&#45;&gt;0 -->\n<g id=\"edge1\" class=\"edge\">\n<title>2&#45;&gt;0</title>\n<path fill=\"none\" stroke=\"black\" d=\"M92.76,-86.8C80.82,-73.78 64.31,-55.79 51.3,-41.61\"/>\n<polygon fill=\"black\" stroke=\"black\" points=\"53.82,-39.18 44.48,-34.18 48.66,-43.92 53.82,-39.18\"/>\n<text text-anchor=\"middle\" x=\"89.05\" y=\"-57.8\" font-family=\"Times,serif\" font-size=\"14.00\">False</text>\n</g>\n<!-- 2&#45;&gt;1 -->\n<g id=\"edge2\" class=\"edge\">\n<title>2&#45;&gt;1</title>\n<path fill=\"none\" stroke=\"black\" d=\"M108.75,-86.8C108.89,-75.16 109.07,-59.55 109.23,-46.24\"/>\n<polygon fill=\"black\" stroke=\"black\" points=\"112.73,-46.22 109.35,-36.18 105.73,-46.13 112.73,-46.22\"/>\n<text text-anchor=\"middle\" x=\"122.55\" y=\"-57.8\" font-family=\"Times,serif\" font-size=\"14.00\">True</text>\n</g>\n<!-- 3 -->\n<g id=\"node4\" class=\"node\">\n<title>3</title>\n<ellipse fill=\"lightgrey\" stroke=\"black\" cx=\"214.55\" cy=\"-18\" rx=\"30.59\" ry=\"18\"/>\n<text text-anchor=\"middle\" x=\"214.55\" y=\"-14.3\" font-family=\"Times,serif\" font-size=\"14.00\">15.58</text>\n</g>\n<!-- 4 -->\n<g id=\"node5\" class=\"node\">\n<title>4</title>\n<ellipse fill=\"lightgrey\" stroke=\"black\" cx=\"293.55\" cy=\"-18\" rx=\"30.59\" ry=\"18\"/>\n<text text-anchor=\"middle\" x=\"293.55\" y=\"-14.3\" font-family=\"Times,serif\" font-size=\"14.00\">15.76</text>\n</g>\n<!-- 5 -->\n<g id=\"node6\" class=\"node\">\n<title>5</title>\n<path fill=\"yellow\" stroke=\"black\" d=\"M312.05,-123C312.05,-123 207.05,-123 207.05,-123 201.05,-123 195.05,-117 195.05,-111 195.05,-111 195.05,-99 195.05,-99 195.05,-93 201.05,-87 207.05,-87 207.05,-87 312.05,-87 312.05,-87 318.05,-87 324.05,-93 324.05,-99 324.05,-99 324.05,-111 324.05,-111 324.05,-117 318.05,-123 312.05,-123\"/>\n<text text-anchor=\"middle\" x=\"259.55\" y=\"-101.3\" font-family=\"Times,serif\" font-size=\"14.00\">full_all &gt; 4.38e+04?</text>\n</g>\n<!-- 5&#45;&gt;3 -->\n<g id=\"edge3\" class=\"edge\">\n<title>5&#45;&gt;3</title>\n<path fill=\"none\" stroke=\"black\" d=\"M250.44,-86.8C243.97,-74.58 235.18,-57.98 227.92,-44.26\"/>\n<polygon fill=\"black\" stroke=\"black\" points=\"230.95,-42.51 223.18,-35.31 224.77,-45.79 230.95,-42.51\"/>\n<text text-anchor=\"middle\" x=\"255.05\" y=\"-57.8\" font-family=\"Times,serif\" font-size=\"14.00\">False</text>\n</g>\n<!-- 5&#45;&gt;4 -->\n<g id=\"edge4\" class=\"edge\">\n<title>5&#45;&gt;4</title>\n<path fill=\"none\" stroke=\"black\" d=\"M266.43,-86.8C271.24,-74.78 277.74,-58.51 283.18,-44.92\"/>\n<polygon fill=\"black\" stroke=\"black\" points=\"286.44,-46.18 286.91,-35.6 279.94,-43.58 286.44,-46.18\"/>\n<text text-anchor=\"middle\" x=\"292.55\" y=\"-57.8\" font-family=\"Times,serif\" font-size=\"14.00\">True</text>\n</g>\n<!-- 6 -->\n<g id=\"node7\" class=\"node\">\n<title>6</title>\n<path fill=\"yellow\" stroke=\"black\" d=\"M315.55,-210C315.55,-210 203.55,-210 203.55,-210 197.55,-210 191.55,-204 191.55,-198 191.55,-198 191.55,-186 191.55,-186 191.55,-180 197.55,-174 203.55,-174 203.55,-174 315.55,-174 315.55,-174 321.55,-174 327.55,-180 327.55,-186 327.55,-186 327.55,-198 327.55,-198 327.55,-204 321.55,-210 315.55,-210\"/>\n<text text-anchor=\"middle\" x=\"259.55\" y=\"-188.3\" font-family=\"Times,serif\" font-size=\"14.00\">full_all &gt; 2.694e+04?</text>\n</g>\n<!-- 6&#45;&gt;2 -->\n<g id=\"edge5\" class=\"edge\">\n<title>6&#45;&gt;2</title>\n<path fill=\"none\" stroke=\"black\" d=\"M228.99,-173.8C205.58,-160.62 173.11,-142.34 147.78,-128.08\"/>\n<polygon fill=\"black\" stroke=\"black\" points=\"149.23,-124.89 138.8,-123.03 145.8,-130.99 149.23,-124.89\"/>\n<text text-anchor=\"middle\" x=\"208.05\" y=\"-144.8\" font-family=\"Times,serif\" font-size=\"14.00\">False</text>\n</g>\n<!-- 6&#45;&gt;5 -->\n<g id=\"edge6\" class=\"edge\">\n<title>6&#45;&gt;5</title>\n<path fill=\"none\" stroke=\"black\" d=\"M259.55,-173.8C259.55,-162.16 259.55,-146.55 259.55,-133.24\"/>\n<polygon fill=\"black\" stroke=\"black\" points=\"263.05,-133.18 259.55,-123.18 256.05,-133.18 263.05,-133.18\"/>\n<text text-anchor=\"middle\" x=\"272.55\" y=\"-144.8\" font-family=\"Times,serif\" font-size=\"14.00\">True</text>\n</g>\n<!-- 7 -->\n<g id=\"node8\" class=\"node\">\n<title>7</title>\n<ellipse fill=\"lightgrey\" stroke=\"black\" cx=\"385.55\" cy=\"-18\" rx=\"30.59\" ry=\"18\"/>\n<text text-anchor=\"middle\" x=\"385.55\" y=\"-14.3\" font-family=\"Times,serif\" font-size=\"14.00\">15.88</text>\n</g>\n<!-- 8 -->\n<g id=\"node9\" class=\"node\">\n<title>8</title>\n<ellipse fill=\"lightgrey\" stroke=\"black\" cx=\"464.55\" cy=\"-18\" rx=\"30.59\" ry=\"18\"/>\n<text text-anchor=\"middle\" x=\"464.55\" y=\"-14.3\" font-family=\"Times,serif\" font-size=\"14.00\">15.79</text>\n</g>\n<!-- 9 -->\n<g id=\"node10\" class=\"node\">\n<title>9</title>\n<path fill=\"yellow\" stroke=\"black\" d=\"M466.55,-123C466.55,-123 354.55,-123 354.55,-123 348.55,-123 342.55,-117 342.55,-111 342.55,-111 342.55,-99 342.55,-99 342.55,-93 348.55,-87 354.55,-87 354.55,-87 466.55,-87 466.55,-87 472.55,-87 478.55,-93 478.55,-99 478.55,-99 478.55,-111 478.55,-111 478.55,-117 472.55,-123 466.55,-123\"/>\n<text text-anchor=\"middle\" x=\"410.55\" y=\"-101.3\" font-family=\"Times,serif\" font-size=\"14.00\">full_all &gt; 7.213e+04?</text>\n</g>\n<!-- 9&#45;&gt;7 -->\n<g id=\"edge7\" class=\"edge\">\n<title>9&#45;&gt;7</title>\n<path fill=\"none\" stroke=\"black\" d=\"M405.49,-86.8C402.01,-74.97 397.32,-59.03 393.36,-45.58\"/>\n<polygon fill=\"black\" stroke=\"black\" points=\"396.69,-44.49 390.51,-35.89 389.98,-46.47 396.69,-44.49\"/>\n<text text-anchor=\"middle\" x=\"414.05\" y=\"-57.8\" font-family=\"Times,serif\" font-size=\"14.00\">False</text>\n</g>\n<!-- 9&#45;&gt;8 -->\n<g id=\"edge8\" class=\"edge\">\n<title>9&#45;&gt;8</title>\n<path fill=\"none\" stroke=\"black\" d=\"M421.47,-86.8C429.36,-74.38 440.13,-57.44 448.92,-43.6\"/>\n<polygon fill=\"black\" stroke=\"black\" points=\"451.96,-45.34 454.37,-35.03 446.05,-41.59 451.96,-45.34\"/>\n<text text-anchor=\"middle\" x=\"454.55\" y=\"-57.8\" font-family=\"Times,serif\" font-size=\"14.00\">True</text>\n</g>\n<!-- 10 -->\n<g id=\"node11\" class=\"node\">\n<title>10</title>\n<ellipse fill=\"lightgrey\" stroke=\"black\" cx=\"550.55\" cy=\"-18\" rx=\"30.59\" ry=\"18\"/>\n<text text-anchor=\"middle\" x=\"550.55\" y=\"-14.3\" font-family=\"Times,serif\" font-size=\"14.00\">15.71</text>\n</g>\n<!-- 11 -->\n<g id=\"node12\" class=\"node\">\n<title>11</title>\n<ellipse fill=\"lightgrey\" stroke=\"black\" cx=\"629.55\" cy=\"-18\" rx=\"30.59\" ry=\"18\"/>\n<text text-anchor=\"middle\" x=\"629.55\" y=\"-14.3\" font-family=\"Times,serif\" font-size=\"14.00\">15.73</text>\n</g>\n<!-- 12 -->\n<g id=\"node13\" class=\"node\">\n<title>12</title>\n<path fill=\"yellow\" stroke=\"black\" d=\"M620.55,-123C620.55,-123 508.55,-123 508.55,-123 502.55,-123 496.55,-117 496.55,-111 496.55,-111 496.55,-99 496.55,-99 496.55,-93 502.55,-87 508.55,-87 508.55,-87 620.55,-87 620.55,-87 626.55,-87 632.55,-93 632.55,-99 632.55,-99 632.55,-111 632.55,-111 632.55,-117 626.55,-123 620.55,-123\"/>\n<text text-anchor=\"middle\" x=\"564.55\" y=\"-101.3\" font-family=\"Times,serif\" font-size=\"14.00\">full_all &gt; 9.696e+04?</text>\n</g>\n<!-- 12&#45;&gt;10 -->\n<g id=\"edge9\" class=\"edge\">\n<title>12&#45;&gt;10</title>\n<path fill=\"none\" stroke=\"black\" d=\"M561.71,-86.8C559.8,-75.16 557.23,-59.55 555.03,-46.24\"/>\n<polygon fill=\"black\" stroke=\"black\" points=\"558.45,-45.47 553.38,-36.18 551.55,-46.61 558.45,-45.47\"/>\n<text text-anchor=\"middle\" x=\"573.05\" y=\"-57.8\" font-family=\"Times,serif\" font-size=\"14.00\">False</text>\n</g>\n<!-- 12&#45;&gt;11 -->\n<g id=\"edge10\" class=\"edge\">\n<title>12&#45;&gt;11</title>\n<path fill=\"none\" stroke=\"black\" d=\"M577.76,-86.93C582.15,-81.23 587.07,-74.85 591.55,-69 598.04,-60.52 605.13,-51.21 611.41,-42.94\"/>\n<polygon fill=\"black\" stroke=\"black\" points=\"614.34,-44.87 617.6,-34.79 608.76,-40.64 614.34,-44.87\"/>\n<text text-anchor=\"middle\" x=\"615.55\" y=\"-57.8\" font-family=\"Times,serif\" font-size=\"14.00\">True</text>\n</g>\n<!-- 13 -->\n<g id=\"node14\" class=\"node\">\n<title>13</title>\n<path fill=\"yellow\" stroke=\"black\" d=\"M519.55,-210C519.55,-210 407.55,-210 407.55,-210 401.55,-210 395.55,-204 395.55,-198 395.55,-198 395.55,-186 395.55,-186 395.55,-180 401.55,-174 407.55,-174 407.55,-174 519.55,-174 519.55,-174 525.55,-174 531.55,-180 531.55,-186 531.55,-186 531.55,-198 531.55,-198 531.55,-204 525.55,-210 519.55,-210\"/>\n<text text-anchor=\"middle\" x=\"463.55\" y=\"-188.3\" font-family=\"Times,serif\" font-size=\"14.00\">full_all &gt; 8.337e+04?</text>\n</g>\n<!-- 13&#45;&gt;9 -->\n<g id=\"edge11\" class=\"edge\">\n<title>13&#45;&gt;9</title>\n<path fill=\"none\" stroke=\"black\" d=\"M452.82,-173.8C445.28,-161.7 435.06,-145.3 426.55,-131.67\"/>\n<polygon fill=\"black\" stroke=\"black\" points=\"429.52,-129.81 421.26,-123.18 423.58,-133.51 429.52,-129.81\"/>\n<text text-anchor=\"middle\" x=\"455.05\" y=\"-144.8\" font-family=\"Times,serif\" font-size=\"14.00\">False</text>\n</g>\n<!-- 13&#45;&gt;12 -->\n<g id=\"edge12\" class=\"edge\">\n<title>13&#45;&gt;12</title>\n<path fill=\"none\" stroke=\"black\" d=\"M483.99,-173.8C499.05,-161.13 519.71,-143.73 536.34,-129.74\"/>\n<polygon fill=\"black\" stroke=\"black\" points=\"538.74,-132.29 544.14,-123.18 534.23,-126.94 538.74,-132.29\"/>\n<text text-anchor=\"middle\" x=\"533.55\" y=\"-144.8\" font-family=\"Times,serif\" font-size=\"14.00\">True</text>\n</g>\n<!-- 14 -->\n<g id=\"node15\" class=\"node\">\n<title>14</title>\n<path fill=\"yellow\" stroke=\"black\" d=\"M519.55,-297C519.55,-297 407.55,-297 407.55,-297 401.55,-297 395.55,-291 395.55,-285 395.55,-285 395.55,-273 395.55,-273 395.55,-267 401.55,-261 407.55,-261 407.55,-261 519.55,-261 519.55,-261 525.55,-261 531.55,-267 531.55,-273 531.55,-273 531.55,-285 531.55,-285 531.55,-291 525.55,-297 519.55,-297\"/>\n<text text-anchor=\"middle\" x=\"463.55\" y=\"-275.3\" font-family=\"Times,serif\" font-size=\"14.00\">full_all &gt; 5.379e+04?</text>\n</g>\n<!-- 14&#45;&gt;6 -->\n<g id=\"edge13\" class=\"edge\">\n<title>14&#45;&gt;6</title>\n<path fill=\"none\" stroke=\"black\" d=\"M422.26,-260.8C389.81,-247.27 344.45,-228.38 309.87,-213.97\"/>\n<polygon fill=\"black\" stroke=\"black\" points=\"311,-210.65 300.42,-210.03 308.3,-217.11 311,-210.65\"/>\n<text text-anchor=\"middle\" x=\"389.05\" y=\"-231.8\" font-family=\"Times,serif\" font-size=\"14.00\">False</text>\n</g>\n<!-- 14&#45;&gt;13 -->\n<g id=\"edge14\" class=\"edge\">\n<title>14&#45;&gt;13</title>\n<path fill=\"none\" stroke=\"black\" d=\"M463.55,-260.8C463.55,-249.16 463.55,-233.55 463.55,-220.24\"/>\n<polygon fill=\"black\" stroke=\"black\" points=\"467.05,-220.18 463.55,-210.18 460.05,-220.18 467.05,-220.18\"/>\n<text text-anchor=\"middle\" x=\"476.55\" y=\"-231.8\" font-family=\"Times,serif\" font-size=\"14.00\">True</text>\n</g>\n<!-- 15 -->\n<g id=\"node16\" class=\"node\">\n<title>15</title>\n<ellipse fill=\"lightgrey\" stroke=\"black\" cx=\"711.55\" cy=\"-18\" rx=\"30.59\" ry=\"18\"/>\n<text text-anchor=\"middle\" x=\"711.55\" y=\"-14.3\" font-family=\"Times,serif\" font-size=\"14.00\">15.77</text>\n</g>\n<!-- 16 -->\n<g id=\"node17\" class=\"node\">\n<title>16</title>\n<ellipse fill=\"lightgrey\" stroke=\"black\" cx=\"790.55\" cy=\"-18\" rx=\"30.59\" ry=\"18\"/>\n<text text-anchor=\"middle\" x=\"790.55\" y=\"-14.3\" font-family=\"Times,serif\" font-size=\"14.00\">15.66</text>\n</g>\n<!-- 17 -->\n<g id=\"node18\" class=\"node\">\n<title>17</title>\n<path fill=\"yellow\" stroke=\"black\" d=\"M774.55,-123C774.55,-123 662.55,-123 662.55,-123 656.55,-123 650.55,-117 650.55,-111 650.55,-111 650.55,-99 650.55,-99 650.55,-93 656.55,-87 662.55,-87 662.55,-87 774.55,-87 774.55,-87 780.55,-87 786.55,-93 786.55,-99 786.55,-99 786.55,-111 786.55,-111 786.55,-117 780.55,-123 774.55,-123\"/>\n<text text-anchor=\"middle\" x=\"718.55\" y=\"-101.3\" font-family=\"Times,serif\" font-size=\"14.00\">full_all &gt; 1.422e+05?</text>\n</g>\n<!-- 17&#45;&gt;15 -->\n<g id=\"edge15\" class=\"edge\">\n<title>17&#45;&gt;15</title>\n<path fill=\"none\" stroke=\"black\" d=\"M717.13,-86.8C716.17,-75.16 714.89,-59.55 713.79,-46.24\"/>\n<polygon fill=\"black\" stroke=\"black\" points=\"717.27,-45.85 712.96,-36.18 710.29,-46.43 717.27,-45.85\"/>\n<text text-anchor=\"middle\" x=\"730.05\" y=\"-57.8\" font-family=\"Times,serif\" font-size=\"14.00\">False</text>\n</g>\n<!-- 17&#45;&gt;16 -->\n<g id=\"edge16\" class=\"edge\">\n<title>17&#45;&gt;16</title>\n<path fill=\"none\" stroke=\"black\" d=\"M733.23,-86.94C738.11,-81.24 743.58,-74.86 748.55,-69 756,-60.22 764.14,-50.54 771.26,-42.05\"/>\n<polygon fill=\"black\" stroke=\"black\" points=\"773.98,-44.26 777.72,-34.35 768.61,-39.77 773.98,-44.26\"/>\n<text text-anchor=\"middle\" x=\"773.55\" y=\"-57.8\" font-family=\"Times,serif\" font-size=\"14.00\">True</text>\n</g>\n<!-- 18 -->\n<g id=\"node19\" class=\"node\">\n<title>18</title>\n<ellipse fill=\"lightgrey\" stroke=\"black\" cx=\"871.55\" cy=\"-18\" rx=\"30.59\" ry=\"18\"/>\n<text text-anchor=\"middle\" x=\"871.55\" y=\"-14.3\" font-family=\"Times,serif\" font-size=\"14.00\">15.59</text>\n</g>\n<!-- 19 -->\n<g id=\"node20\" class=\"node\">\n<title>19</title>\n<ellipse fill=\"lightgrey\" stroke=\"black\" cx=\"947.55\" cy=\"-18\" rx=\"27\" ry=\"18\"/>\n<text text-anchor=\"middle\" x=\"947.55\" y=\"-14.3\" font-family=\"Times,serif\" font-size=\"14.00\">nan</text>\n</g>\n<!-- 20 -->\n<g id=\"node21\" class=\"node\">\n<title>20</title>\n<path fill=\"yellow\" stroke=\"black\" d=\"M928.55,-123C928.55,-123 816.55,-123 816.55,-123 810.55,-123 804.55,-117 804.55,-111 804.55,-111 804.55,-99 804.55,-99 804.55,-93 810.55,-87 816.55,-87 816.55,-87 928.55,-87 928.55,-87 934.55,-87 940.55,-93 940.55,-99 940.55,-99 940.55,-111 940.55,-111 940.55,-117 934.55,-123 928.55,-123\"/>\n<text text-anchor=\"middle\" x=\"872.55\" y=\"-101.3\" font-family=\"Times,serif\" font-size=\"14.00\">full_all &gt; 7.419e+05?</text>\n</g>\n<!-- 20&#45;&gt;18 -->\n<g id=\"edge17\" class=\"edge\">\n<title>20&#45;&gt;18</title>\n<path fill=\"none\" stroke=\"black\" d=\"M872.34,-86.8C872.21,-75.16 872.02,-59.55 871.87,-46.24\"/>\n<polygon fill=\"black\" stroke=\"black\" points=\"875.37,-46.13 871.75,-36.18 868.37,-46.22 875.37,-46.13\"/>\n<text text-anchor=\"middle\" x=\"887.05\" y=\"-57.8\" font-family=\"Times,serif\" font-size=\"14.00\">False</text>\n</g>\n<!-- 20&#45;&gt;19 -->\n<g id=\"edge18\" class=\"edge\">\n<title>20&#45;&gt;19</title>\n<path fill=\"none\" stroke=\"black\" d=\"M889.2,-86.74C894.49,-81.14 900.33,-74.86 905.55,-69 913.32,-60.27 921.64,-50.47 928.81,-41.87\"/>\n<polygon fill=\"black\" stroke=\"black\" points=\"931.58,-44 935.27,-34.07 926.19,-39.53 931.58,-44\"/>\n<text text-anchor=\"middle\" x=\"931.55\" y=\"-57.8\" font-family=\"Times,serif\" font-size=\"14.00\">True</text>\n</g>\n<!-- 21 -->\n<g id=\"node22\" class=\"node\">\n<title>21</title>\n<path fill=\"yellow\" stroke=\"black\" d=\"M915.55,-210C915.55,-210 803.55,-210 803.55,-210 797.55,-210 791.55,-204 791.55,-198 791.55,-198 791.55,-186 791.55,-186 791.55,-180 797.55,-174 803.55,-174 803.55,-174 915.55,-174 915.55,-174 921.55,-174 927.55,-180 927.55,-186 927.55,-186 927.55,-198 927.55,-198 927.55,-204 921.55,-210 915.55,-210\"/>\n<text text-anchor=\"middle\" x=\"859.55\" y=\"-188.3\" font-family=\"Times,serif\" font-size=\"14.00\">full_all &gt; 2.196e+05?</text>\n</g>\n<!-- 21&#45;&gt;17 -->\n<g id=\"edge19\" class=\"edge\">\n<title>21&#45;&gt;17</title>\n<path fill=\"none\" stroke=\"black\" d=\"M831.01,-173.8C809.32,-160.72 779.3,-142.62 755.73,-128.41\"/>\n<polygon fill=\"black\" stroke=\"black\" points=\"757.41,-125.34 747.04,-123.18 753.8,-131.34 757.41,-125.34\"/>\n<text text-anchor=\"middle\" x=\"812.05\" y=\"-144.8\" font-family=\"Times,serif\" font-size=\"14.00\">False</text>\n</g>\n<!-- 21&#45;&gt;20 -->\n<g id=\"edge20\" class=\"edge\">\n<title>21&#45;&gt;20</title>\n<path fill=\"none\" stroke=\"black\" d=\"M862.18,-173.8C863.96,-162.16 866.35,-146.55 868.38,-133.24\"/>\n<polygon fill=\"black\" stroke=\"black\" points=\"871.87,-133.59 869.92,-123.18 864.95,-132.53 871.87,-133.59\"/>\n<text text-anchor=\"middle\" x=\"880.55\" y=\"-144.8\" font-family=\"Times,serif\" font-size=\"14.00\">True</text>\n</g>\n<!-- 22 -->\n<g id=\"node23\" class=\"node\">\n<title>22</title>\n<ellipse fill=\"lightgrey\" stroke=\"black\" cx=\"989.55\" cy=\"-105\" rx=\"30.59\" ry=\"18\"/>\n<text text-anchor=\"middle\" x=\"989.55\" y=\"-101.3\" font-family=\"Times,serif\" font-size=\"14.00\">16.63</text>\n</g>\n<!-- 23 -->\n<g id=\"node24\" class=\"node\">\n<title>23</title>\n<ellipse fill=\"lightgrey\" stroke=\"black\" cx=\"1068.55\" cy=\"-105\" rx=\"30.59\" ry=\"18\"/>\n<text text-anchor=\"middle\" x=\"1068.55\" y=\"-101.3\" font-family=\"Times,serif\" font-size=\"14.00\">17.21</text>\n</g>\n<!-- 24 -->\n<g id=\"node25\" class=\"node\">\n<title>24</title>\n<path fill=\"yellow\" stroke=\"black\" d=\"M1029.55,-210C1029.55,-210 957.55,-210 957.55,-210 951.55,-210 945.55,-204 945.55,-198 945.55,-198 945.55,-186 945.55,-186 945.55,-180 951.55,-174 957.55,-174 957.55,-174 1029.55,-174 1029.55,-174 1035.55,-174 1041.55,-180 1041.55,-186 1041.55,-186 1041.55,-198 1041.55,-198 1041.55,-204 1035.55,-210 1029.55,-210\"/>\n<text text-anchor=\"middle\" x=\"993.55\" y=\"-188.3\" font-family=\"Times,serif\" font-size=\"14.00\">full_sq &gt; 155?</text>\n</g>\n<!-- 24&#45;&gt;22 -->\n<g id=\"edge21\" class=\"edge\">\n<title>24&#45;&gt;22</title>\n<path fill=\"none\" stroke=\"black\" d=\"M992.74,-173.8C992.19,-162.16 991.46,-146.55 990.83,-133.24\"/>\n<polygon fill=\"black\" stroke=\"black\" points=\"994.32,-133 990.36,-123.18 987.33,-133.33 994.32,-133\"/>\n<text text-anchor=\"middle\" x=\"1007.05\" y=\"-144.8\" font-family=\"Times,serif\" font-size=\"14.00\">False</text>\n</g>\n<!-- 24&#45;&gt;23 -->\n<g id=\"edge22\" class=\"edge\">\n<title>24&#45;&gt;23</title>\n<path fill=\"none\" stroke=\"black\" d=\"M1009.6,-173.65C1014.73,-168.05 1020.41,-161.79 1025.55,-156 1033.26,-147.3 1041.62,-137.64 1048.9,-129.14\"/>\n<polygon fill=\"black\" stroke=\"black\" points=\"1051.66,-131.3 1055.49,-121.42 1046.34,-126.75 1051.66,-131.3\"/>\n<text text-anchor=\"middle\" x=\"1050.55\" y=\"-144.8\" font-family=\"Times,serif\" font-size=\"14.00\">True</text>\n</g>\n<!-- 25 -->\n<g id=\"node26\" class=\"node\">\n<title>25</title>\n<path fill=\"yellow\" stroke=\"black\" d=\"M967.55,-297C967.55,-297 855.55,-297 855.55,-297 849.55,-297 843.55,-291 843.55,-285 843.55,-285 843.55,-273 843.55,-273 843.55,-267 849.55,-261 855.55,-261 855.55,-261 967.55,-261 967.55,-261 973.55,-261 979.55,-267 979.55,-273 979.55,-273 979.55,-285 979.55,-285 979.55,-291 973.55,-297 967.55,-297\"/>\n<text text-anchor=\"middle\" x=\"911.55\" y=\"-275.3\" font-family=\"Times,serif\" font-size=\"14.00\">full_all &gt; 7.419e+05?</text>\n</g>\n<!-- 25&#45;&gt;21 -->\n<g id=\"edge23\" class=\"edge\">\n<title>25&#45;&gt;21</title>\n<path fill=\"none\" stroke=\"black\" d=\"M901.02,-260.8C893.69,-248.82 883.78,-232.62 875.49,-219.06\"/>\n<polygon fill=\"black\" stroke=\"black\" points=\"878.26,-216.88 870.05,-210.18 872.29,-220.53 878.26,-216.88\"/>\n<text text-anchor=\"middle\" x=\"904.05\" y=\"-231.8\" font-family=\"Times,serif\" font-size=\"14.00\">False</text>\n</g>\n<!-- 25&#45;&gt;24 -->\n<g id=\"edge24\" class=\"edge\">\n<title>25&#45;&gt;24</title>\n<path fill=\"none\" stroke=\"black\" d=\"M928.14,-260.8C940.14,-248.36 956.54,-231.36 969.91,-217.5\"/>\n<polygon fill=\"black\" stroke=\"black\" points=\"972.55,-219.8 976.98,-210.18 967.52,-214.94 972.55,-219.8\"/>\n<text text-anchor=\"middle\" x=\"970.55\" y=\"-231.8\" font-family=\"Times,serif\" font-size=\"14.00\">True</text>\n</g>\n<!-- 26 -->\n<g id=\"node27\" class=\"node\">\n<title>26</title>\n<path fill=\"yellow\" stroke=\"black\" d=\"M967.55,-384C967.55,-384 855.55,-384 855.55,-384 849.55,-384 843.55,-378 843.55,-372 843.55,-372 843.55,-360 843.55,-360 843.55,-354 849.55,-348 855.55,-348 855.55,-348 967.55,-348 967.55,-348 973.55,-348 979.55,-354 979.55,-360 979.55,-360 979.55,-372 979.55,-372 979.55,-378 973.55,-384 967.55,-384\"/>\n<text text-anchor=\"middle\" x=\"911.55\" y=\"-362.3\" font-family=\"Times,serif\" font-size=\"14.00\">full_all &gt; 1.082e+05?</text>\n</g>\n<!-- 26&#45;&gt;14 -->\n<g id=\"edge25\" class=\"edge\">\n<title>26&#45;&gt;14</title>\n<path fill=\"none\" stroke=\"black\" d=\"M843.51,-352.09C762.39,-336.7 627.11,-311.03 541.76,-294.84\"/>\n<polygon fill=\"black\" stroke=\"black\" points=\"542.34,-291.39 531.86,-292.96 541.03,-298.26 542.34,-291.39\"/>\n<text text-anchor=\"middle\" x=\"729.05\" y=\"-318.8\" font-family=\"Times,serif\" font-size=\"14.00\">False</text>\n</g>\n<!-- 26&#45;&gt;25 -->\n<g id=\"edge26\" class=\"edge\">\n<title>26&#45;&gt;25</title>\n<path fill=\"none\" stroke=\"black\" d=\"M911.55,-347.8C911.55,-336.16 911.55,-320.55 911.55,-307.24\"/>\n<polygon fill=\"black\" stroke=\"black\" points=\"915.05,-307.18 911.55,-297.18 908.05,-307.18 915.05,-307.18\"/>\n<text text-anchor=\"middle\" x=\"924.55\" y=\"-318.8\" font-family=\"Times,serif\" font-size=\"14.00\">True</text>\n</g>\n<!-- 27 -->\n<g id=\"node28\" class=\"node\">\n<title>27</title>\n<ellipse fill=\"lightgrey\" stroke=\"black\" cx=\"1147.55\" cy=\"-18\" rx=\"30.59\" ry=\"18\"/>\n<text text-anchor=\"middle\" x=\"1147.55\" y=\"-14.3\" font-family=\"Times,serif\" font-size=\"14.00\">15.66</text>\n</g>\n<!-- 28 -->\n<g id=\"node29\" class=\"node\">\n<title>28</title>\n<ellipse fill=\"lightgrey\" stroke=\"black\" cx=\"1223.55\" cy=\"-18\" rx=\"27\" ry=\"18\"/>\n<text text-anchor=\"middle\" x=\"1223.55\" y=\"-14.3\" font-family=\"Times,serif\" font-size=\"14.00\">nan</text>\n</g>\n<!-- 29 -->\n<g id=\"node30\" class=\"node\">\n<title>29</title>\n<path fill=\"yellow\" stroke=\"black\" d=\"M1241.55,-123C1241.55,-123 1129.55,-123 1129.55,-123 1123.55,-123 1117.55,-117 1117.55,-111 1117.55,-111 1117.55,-99 1117.55,-99 1117.55,-93 1123.55,-87 1129.55,-87 1129.55,-87 1241.55,-87 1241.55,-87 1247.55,-87 1253.55,-93 1253.55,-99 1253.55,-99 1253.55,-111 1253.55,-111 1253.55,-117 1247.55,-123 1241.55,-123\"/>\n<text text-anchor=\"middle\" x=\"1185.55\" y=\"-101.3\" font-family=\"Times,serif\" font-size=\"14.00\">full_all &gt; 1.717e+06?</text>\n</g>\n<!-- 29&#45;&gt;27 -->\n<g id=\"edge27\" class=\"edge\">\n<title>29&#45;&gt;27</title>\n<path fill=\"none\" stroke=\"black\" d=\"M1177.86,-86.8C1172.48,-74.78 1165.21,-58.51 1159.13,-44.92\"/>\n<polygon fill=\"black\" stroke=\"black\" points=\"1162.24,-43.3 1154.97,-35.6 1155.85,-46.15 1162.24,-43.3\"/>\n<text text-anchor=\"middle\" x=\"1184.05\" y=\"-57.8\" font-family=\"Times,serif\" font-size=\"14.00\">False</text>\n</g>\n<!-- 29&#45;&gt;28 -->\n<g id=\"edge28\" class=\"edge\">\n<title>29&#45;&gt;28</title>\n<path fill=\"none\" stroke=\"black\" d=\"M1193.41,-86.93C1196.02,-81.24 1198.92,-74.85 1201.55,-69 1205.04,-61.21 1208.8,-52.72 1212.2,-44.98\"/>\n<polygon fill=\"black\" stroke=\"black\" points=\"1215.46,-46.26 1216.27,-35.69 1209.05,-43.45 1215.46,-46.26\"/>\n<text text-anchor=\"middle\" x=\"1221.55\" y=\"-57.8\" font-family=\"Times,serif\" font-size=\"14.00\">True</text>\n</g>\n<!-- 30 -->\n<g id=\"node31\" class=\"node\">\n<title>30</title>\n<ellipse fill=\"lightgrey\" stroke=\"black\" cx=\"1298.55\" cy=\"-105\" rx=\"27\" ry=\"18\"/>\n<text text-anchor=\"middle\" x=\"1298.55\" y=\"-101.3\" font-family=\"Times,serif\" font-size=\"14.00\">nan</text>\n</g>\n<!-- 31 -->\n<g id=\"node32\" class=\"node\">\n<title>31</title>\n<path fill=\"yellow\" stroke=\"black\" d=\"M1241.55,-210C1241.55,-210 1129.55,-210 1129.55,-210 1123.55,-210 1117.55,-204 1117.55,-198 1117.55,-198 1117.55,-186 1117.55,-186 1117.55,-180 1123.55,-174 1129.55,-174 1129.55,-174 1241.55,-174 1241.55,-174 1247.55,-174 1253.55,-180 1253.55,-186 1253.55,-186 1253.55,-198 1253.55,-198 1253.55,-204 1247.55,-210 1241.55,-210\"/>\n<text text-anchor=\"middle\" x=\"1185.55\" y=\"-188.3\" font-family=\"Times,serif\" font-size=\"14.00\">full_all &gt; 1.717e+06?</text>\n</g>\n<!-- 31&#45;&gt;29 -->\n<g id=\"edge29\" class=\"edge\">\n<title>31&#45;&gt;29</title>\n<path fill=\"none\" stroke=\"black\" d=\"M1185.55,-173.8C1185.55,-162.16 1185.55,-146.55 1185.55,-133.24\"/>\n<polygon fill=\"black\" stroke=\"black\" points=\"1189.05,-133.18 1185.55,-123.18 1182.05,-133.18 1189.05,-133.18\"/>\n<text text-anchor=\"middle\" x=\"1200.05\" y=\"-144.8\" font-family=\"Times,serif\" font-size=\"14.00\">False</text>\n</g>\n<!-- 31&#45;&gt;30 -->\n<g id=\"edge30\" class=\"edge\">\n<title>31&#45;&gt;30</title>\n<path fill=\"none\" stroke=\"black\" d=\"M1208.41,-173.8C1227.18,-159.69 1253.72,-139.72 1273.14,-125.11\"/>\n<polygon fill=\"black\" stroke=\"black\" points=\"1275.36,-127.82 1281.25,-119.01 1271.15,-122.23 1275.36,-127.82\"/>\n<text text-anchor=\"middle\" x=\"1262.55\" y=\"-144.8\" font-family=\"Times,serif\" font-size=\"14.00\">True</text>\n</g>\n<!-- 32 -->\n<g id=\"node33\" class=\"node\">\n<title>32</title>\n<ellipse fill=\"lightgrey\" stroke=\"black\" cx=\"1298.55\" cy=\"-192\" rx=\"27\" ry=\"18\"/>\n<text text-anchor=\"middle\" x=\"1298.55\" y=\"-188.3\" font-family=\"Times,serif\" font-size=\"14.00\">nan</text>\n</g>\n<!-- 33 -->\n<g id=\"node34\" class=\"node\">\n<title>33</title>\n<path fill=\"yellow\" stroke=\"black\" d=\"M1241.55,-297C1241.55,-297 1129.55,-297 1129.55,-297 1123.55,-297 1117.55,-291 1117.55,-285 1117.55,-285 1117.55,-273 1117.55,-273 1117.55,-267 1123.55,-261 1129.55,-261 1129.55,-261 1241.55,-261 1241.55,-261 1247.55,-261 1253.55,-267 1253.55,-273 1253.55,-273 1253.55,-285 1253.55,-285 1253.55,-291 1247.55,-297 1241.55,-297\"/>\n<text text-anchor=\"middle\" x=\"1185.55\" y=\"-275.3\" font-family=\"Times,serif\" font-size=\"14.00\">full_all &gt; 1.717e+06?</text>\n</g>\n<!-- 33&#45;&gt;31 -->\n<g id=\"edge31\" class=\"edge\">\n<title>33&#45;&gt;31</title>\n<path fill=\"none\" stroke=\"black\" d=\"M1185.55,-260.8C1185.55,-249.16 1185.55,-233.55 1185.55,-220.24\"/>\n<polygon fill=\"black\" stroke=\"black\" points=\"1189.05,-220.18 1185.55,-210.18 1182.05,-220.18 1189.05,-220.18\"/>\n<text text-anchor=\"middle\" x=\"1200.05\" y=\"-231.8\" font-family=\"Times,serif\" font-size=\"14.00\">False</text>\n</g>\n<!-- 33&#45;&gt;32 -->\n<g id=\"edge32\" class=\"edge\">\n<title>33&#45;&gt;32</title>\n<path fill=\"none\" stroke=\"black\" d=\"M1208.41,-260.8C1227.18,-246.69 1253.72,-226.72 1273.14,-212.11\"/>\n<polygon fill=\"black\" stroke=\"black\" points=\"1275.36,-214.82 1281.25,-206.01 1271.15,-209.23 1275.36,-214.82\"/>\n<text text-anchor=\"middle\" x=\"1262.55\" y=\"-231.8\" font-family=\"Times,serif\" font-size=\"14.00\">True</text>\n</g>\n<!-- 34 -->\n<g id=\"node35\" class=\"node\">\n<title>34</title>\n<ellipse fill=\"lightgrey\" stroke=\"black\" cx=\"1298.55\" cy=\"-279\" rx=\"27\" ry=\"18\"/>\n<text text-anchor=\"middle\" x=\"1298.55\" y=\"-275.3\" font-family=\"Times,serif\" font-size=\"14.00\">nan</text>\n</g>\n<!-- 35 -->\n<g id=\"node36\" class=\"node\">\n<title>35</title>\n<path fill=\"yellow\" stroke=\"black\" d=\"M1241.55,-384C1241.55,-384 1129.55,-384 1129.55,-384 1123.55,-384 1117.55,-378 1117.55,-372 1117.55,-372 1117.55,-360 1117.55,-360 1117.55,-354 1123.55,-348 1129.55,-348 1129.55,-348 1241.55,-348 1241.55,-348 1247.55,-348 1253.55,-354 1253.55,-360 1253.55,-360 1253.55,-372 1253.55,-372 1253.55,-378 1247.55,-384 1241.55,-384\"/>\n<text text-anchor=\"middle\" x=\"1185.55\" y=\"-362.3\" font-family=\"Times,serif\" font-size=\"14.00\">full_all &gt; 1.717e+06?</text>\n</g>\n<!-- 35&#45;&gt;33 -->\n<g id=\"edge33\" class=\"edge\">\n<title>35&#45;&gt;33</title>\n<path fill=\"none\" stroke=\"black\" d=\"M1185.55,-347.8C1185.55,-336.16 1185.55,-320.55 1185.55,-307.24\"/>\n<polygon fill=\"black\" stroke=\"black\" points=\"1189.05,-307.18 1185.55,-297.18 1182.05,-307.18 1189.05,-307.18\"/>\n<text text-anchor=\"middle\" x=\"1200.05\" y=\"-318.8\" font-family=\"Times,serif\" font-size=\"14.00\">False</text>\n</g>\n<!-- 35&#45;&gt;34 -->\n<g id=\"edge34\" class=\"edge\">\n<title>35&#45;&gt;34</title>\n<path fill=\"none\" stroke=\"black\" d=\"M1208.41,-347.8C1227.18,-333.69 1253.72,-313.72 1273.14,-299.11\"/>\n<polygon fill=\"black\" stroke=\"black\" points=\"1275.36,-301.82 1281.25,-293.01 1271.15,-296.23 1275.36,-301.82\"/>\n<text text-anchor=\"middle\" x=\"1262.55\" y=\"-318.8\" font-family=\"Times,serif\" font-size=\"14.00\">True</text>\n</g>\n<!-- 36 -->\n<g id=\"node37\" class=\"node\">\n<title>36</title>\n<path fill=\"yellow\" stroke=\"black\" d=\"M1132.55,-471C1132.55,-471 1020.55,-471 1020.55,-471 1014.55,-471 1008.55,-465 1008.55,-459 1008.55,-459 1008.55,-447 1008.55,-447 1008.55,-441 1014.55,-435 1020.55,-435 1020.55,-435 1132.55,-435 1132.55,-435 1138.55,-435 1144.55,-441 1144.55,-447 1144.55,-447 1144.55,-459 1144.55,-459 1144.55,-465 1138.55,-471 1132.55,-471\"/>\n<text text-anchor=\"middle\" x=\"1076.55\" y=\"-449.3\" font-family=\"Times,serif\" font-size=\"14.00\">full_all &gt; 9.421e+05?</text>\n</g>\n<!-- 36&#45;&gt;26 -->\n<g id=\"edge35\" class=\"edge\">\n<title>36&#45;&gt;26</title>\n<path fill=\"none\" stroke=\"black\" d=\"M1043.16,-434.8C1017.35,-421.51 981.47,-403.02 953.69,-388.71\"/>\n<polygon fill=\"black\" stroke=\"black\" points=\"955.1,-385.5 944.61,-384.03 951.89,-391.72 955.1,-385.5\"/>\n<text text-anchor=\"middle\" x=\"1019.05\" y=\"-405.8\" font-family=\"Times,serif\" font-size=\"14.00\">False</text>\n</g>\n<!-- 36&#45;&gt;35 -->\n<g id=\"edge36\" class=\"edge\">\n<title>36&#45;&gt;35</title>\n<path fill=\"none\" stroke=\"black\" d=\"M1098.61,-434.8C1115,-422.01 1137.57,-404.42 1155.6,-390.36\"/>\n<polygon fill=\"black\" stroke=\"black\" points=\"1157.79,-393.08 1163.52,-384.18 1153.48,-387.56 1157.79,-393.08\"/>\n<text text-anchor=\"middle\" x=\"1151.55\" y=\"-405.8\" font-family=\"Times,serif\" font-size=\"14.00\">True</text>\n</g>\n</g>\n</svg>\n",
            "text/plain": [
              "<graphviz.graphs.Digraph at 0x7fe30c86cdf0>"
            ]
          },
          "execution_count": 36,
          "metadata": {},
          "output_type": "execute_result"
        }
      ],
      "source": [
        "tree = TreeRegressor(max_depth= 5)\n",
        "tree.fit(Xtrain, Ytrain)\n",
        "tree.draw_tree()"
      ]
    },
    {
      "cell_type": "code",
      "execution_count": 37,
      "metadata": {
        "id": "HwHRplOK37Ry"
      },
      "outputs": [
        {
          "data": {
            "text/plain": [
              "Counter({15.774999044335733: 94,\n",
              "         15.63357245412987: 43,\n",
              "         15.585357025478482: 32,\n",
              "         15.714953359592535: 88,\n",
              "         15.66101625881264: 39,\n",
              "         15.655884154863209: 69,\n",
              "         15.790982979315274: 75,\n",
              "         15.584829355020602: 54,\n",
              "         15.409026652501758: 54,\n",
              "         15.882056742706123: 64,\n",
              "         15.726975381624214: 49,\n",
              "         15.759719119556605: 8,\n",
              "         16.63245873156029: 2})"
            ]
          },
          "execution_count": 37,
          "metadata": {},
          "output_type": "execute_result"
        }
      ],
      "source": [
        "Ypreds = tree.predict(Xtest)\n",
        "Counter(Ypreds)"
      ]
    },
    {
      "cell_type": "code",
      "execution_count": 38,
      "metadata": {
        "colab": {
          "base_uri": "https://localhost:8080/"
        },
        "id": "-mRTqC9sBAgd",
        "outputId": "5443cdb9-9aa6-4277-b11c-062cccf23009"
      },
      "outputs": [
        {
          "data": {
            "text/plain": [
              "0.34394513721679826"
            ]
          },
          "execution_count": 38,
          "metadata": {},
          "output_type": "execute_result"
        }
      ],
      "source": [
        "mean_squared_error(Ytest, Ypreds)"
      ]
    },
    {
      "cell_type": "code",
      "execution_count": 39,
      "metadata": {
        "id": "2_hf9oihBJrV"
      },
      "outputs": [
        {
          "name": "stderr",
          "output_type": "stream",
          "text": [
            "/Users/leocarlsson/opt/anaconda3/lib/python3.9/site-packages/numpy/core/fromnumeric.py:3723: RuntimeWarning: Degrees of freedom <= 0 for slice\n",
            "  return _methods._var(a, axis=axis, dtype=dtype, out=out, ddof=ddof,\n",
            "/Users/leocarlsson/opt/anaconda3/lib/python3.9/site-packages/numpy/core/_methods.py:222: RuntimeWarning: invalid value encountered in true_divide\n",
            "  arrmean = um.true_divide(arrmean, div, out=arrmean, casting='unsafe',\n",
            "/Users/leocarlsson/opt/anaconda3/lib/python3.9/site-packages/numpy/core/_methods.py:254: RuntimeWarning: invalid value encountered in double_scalars\n",
            "  ret = ret.dtype.type(ret / rcount)\n",
            "/Users/leocarlsson/opt/anaconda3/lib/python3.9/site-packages/numpy/core/fromnumeric.py:3723: RuntimeWarning: Degrees of freedom <= 0 for slice\n",
            "  return _methods._var(a, axis=axis, dtype=dtype, out=out, ddof=ddof,\n",
            "/Users/leocarlsson/opt/anaconda3/lib/python3.9/site-packages/numpy/core/_methods.py:222: RuntimeWarning: invalid value encountered in true_divide\n",
            "  arrmean = um.true_divide(arrmean, div, out=arrmean, casting='unsafe',\n",
            "/Users/leocarlsson/opt/anaconda3/lib/python3.9/site-packages/numpy/core/_methods.py:254: RuntimeWarning: invalid value encountered in double_scalars\n",
            "  ret = ret.dtype.type(ret / rcount)\n",
            "/Users/leocarlsson/opt/anaconda3/lib/python3.9/site-packages/numpy/core/fromnumeric.py:3440: RuntimeWarning: Mean of empty slice.\n",
            "  return _methods._mean(a, axis=axis, dtype=dtype,\n",
            "/Users/leocarlsson/opt/anaconda3/lib/python3.9/site-packages/numpy/core/_methods.py:189: RuntimeWarning: invalid value encountered in double_scalars\n",
            "  ret = ret.dtype.type(ret / rcount)\n",
            "/Users/leocarlsson/opt/anaconda3/lib/python3.9/site-packages/numpy/core/fromnumeric.py:3723: RuntimeWarning: Degrees of freedom <= 0 for slice\n",
            "  return _methods._var(a, axis=axis, dtype=dtype, out=out, ddof=ddof,\n",
            "/Users/leocarlsson/opt/anaconda3/lib/python3.9/site-packages/numpy/core/_methods.py:222: RuntimeWarning: invalid value encountered in true_divide\n",
            "  arrmean = um.true_divide(arrmean, div, out=arrmean, casting='unsafe',\n",
            "/Users/leocarlsson/opt/anaconda3/lib/python3.9/site-packages/numpy/core/_methods.py:254: RuntimeWarning: invalid value encountered in double_scalars\n",
            "  ret = ret.dtype.type(ret / rcount)\n",
            "/Users/leocarlsson/opt/anaconda3/lib/python3.9/site-packages/numpy/core/fromnumeric.py:3440: RuntimeWarning: Mean of empty slice.\n",
            "  return _methods._mean(a, axis=axis, dtype=dtype,\n",
            "/Users/leocarlsson/opt/anaconda3/lib/python3.9/site-packages/numpy/core/_methods.py:189: RuntimeWarning: invalid value encountered in double_scalars\n",
            "  ret = ret.dtype.type(ret / rcount)\n",
            "/Users/leocarlsson/opt/anaconda3/lib/python3.9/site-packages/numpy/core/fromnumeric.py:3723: RuntimeWarning: Degrees of freedom <= 0 for slice\n",
            "  return _methods._var(a, axis=axis, dtype=dtype, out=out, ddof=ddof,\n",
            "/Users/leocarlsson/opt/anaconda3/lib/python3.9/site-packages/numpy/core/_methods.py:222: RuntimeWarning: invalid value encountered in true_divide\n",
            "  arrmean = um.true_divide(arrmean, div, out=arrmean, casting='unsafe',\n",
            "/Users/leocarlsson/opt/anaconda3/lib/python3.9/site-packages/numpy/core/_methods.py:254: RuntimeWarning: invalid value encountered in double_scalars\n",
            "  ret = ret.dtype.type(ret / rcount)\n",
            "/Users/leocarlsson/opt/anaconda3/lib/python3.9/site-packages/numpy/core/fromnumeric.py:3440: RuntimeWarning: Mean of empty slice.\n",
            "  return _methods._mean(a, axis=axis, dtype=dtype,\n",
            "/Users/leocarlsson/opt/anaconda3/lib/python3.9/site-packages/numpy/core/_methods.py:189: RuntimeWarning: invalid value encountered in double_scalars\n",
            "  ret = ret.dtype.type(ret / rcount)\n",
            "/Users/leocarlsson/opt/anaconda3/lib/python3.9/site-packages/numpy/core/fromnumeric.py:3723: RuntimeWarning: Degrees of freedom <= 0 for slice\n",
            "  return _methods._var(a, axis=axis, dtype=dtype, out=out, ddof=ddof,\n",
            "/Users/leocarlsson/opt/anaconda3/lib/python3.9/site-packages/numpy/core/_methods.py:222: RuntimeWarning: invalid value encountered in true_divide\n",
            "  arrmean = um.true_divide(arrmean, div, out=arrmean, casting='unsafe',\n",
            "/Users/leocarlsson/opt/anaconda3/lib/python3.9/site-packages/numpy/core/_methods.py:254: RuntimeWarning: invalid value encountered in double_scalars\n",
            "  ret = ret.dtype.type(ret / rcount)\n",
            "/Users/leocarlsson/opt/anaconda3/lib/python3.9/site-packages/numpy/core/fromnumeric.py:3440: RuntimeWarning: Mean of empty slice.\n",
            "  return _methods._mean(a, axis=axis, dtype=dtype,\n",
            "/Users/leocarlsson/opt/anaconda3/lib/python3.9/site-packages/numpy/core/_methods.py:189: RuntimeWarning: invalid value encountered in double_scalars\n",
            "  ret = ret.dtype.type(ret / rcount)\n",
            "/Users/leocarlsson/opt/anaconda3/lib/python3.9/site-packages/numpy/core/fromnumeric.py:3723: RuntimeWarning: Degrees of freedom <= 0 for slice\n",
            "  return _methods._var(a, axis=axis, dtype=dtype, out=out, ddof=ddof,\n",
            "/Users/leocarlsson/opt/anaconda3/lib/python3.9/site-packages/numpy/core/_methods.py:222: RuntimeWarning: invalid value encountered in true_divide\n",
            "  arrmean = um.true_divide(arrmean, div, out=arrmean, casting='unsafe',\n",
            "/Users/leocarlsson/opt/anaconda3/lib/python3.9/site-packages/numpy/core/_methods.py:254: RuntimeWarning: invalid value encountered in double_scalars\n",
            "  ret = ret.dtype.type(ret / rcount)\n",
            "/Users/leocarlsson/opt/anaconda3/lib/python3.9/site-packages/numpy/core/fromnumeric.py:3440: RuntimeWarning: Mean of empty slice.\n",
            "  return _methods._mean(a, axis=axis, dtype=dtype,\n",
            "/Users/leocarlsson/opt/anaconda3/lib/python3.9/site-packages/numpy/core/_methods.py:189: RuntimeWarning: invalid value encountered in double_scalars\n",
            "  ret = ret.dtype.type(ret / rcount)\n",
            "/Users/leocarlsson/opt/anaconda3/lib/python3.9/site-packages/numpy/core/fromnumeric.py:3723: RuntimeWarning: Degrees of freedom <= 0 for slice\n",
            "  return _methods._var(a, axis=axis, dtype=dtype, out=out, ddof=ddof,\n",
            "/Users/leocarlsson/opt/anaconda3/lib/python3.9/site-packages/numpy/core/_methods.py:222: RuntimeWarning: invalid value encountered in true_divide\n",
            "  arrmean = um.true_divide(arrmean, div, out=arrmean, casting='unsafe',\n",
            "/Users/leocarlsson/opt/anaconda3/lib/python3.9/site-packages/numpy/core/_methods.py:254: RuntimeWarning: invalid value encountered in double_scalars\n",
            "  ret = ret.dtype.type(ret / rcount)\n",
            "/Users/leocarlsson/opt/anaconda3/lib/python3.9/site-packages/numpy/core/fromnumeric.py:3440: RuntimeWarning: Mean of empty slice.\n",
            "  return _methods._mean(a, axis=axis, dtype=dtype,\n",
            "/Users/leocarlsson/opt/anaconda3/lib/python3.9/site-packages/numpy/core/_methods.py:189: RuntimeWarning: invalid value encountered in double_scalars\n",
            "  ret = ret.dtype.type(ret / rcount)\n",
            "/Users/leocarlsson/opt/anaconda3/lib/python3.9/site-packages/numpy/core/fromnumeric.py:3723: RuntimeWarning: Degrees of freedom <= 0 for slice\n",
            "  return _methods._var(a, axis=axis, dtype=dtype, out=out, ddof=ddof,\n",
            "/Users/leocarlsson/opt/anaconda3/lib/python3.9/site-packages/numpy/core/_methods.py:222: RuntimeWarning: invalid value encountered in true_divide\n",
            "  arrmean = um.true_divide(arrmean, div, out=arrmean, casting='unsafe',\n",
            "/Users/leocarlsson/opt/anaconda3/lib/python3.9/site-packages/numpy/core/_methods.py:254: RuntimeWarning: invalid value encountered in double_scalars\n",
            "  ret = ret.dtype.type(ret / rcount)\n",
            "/Users/leocarlsson/opt/anaconda3/lib/python3.9/site-packages/numpy/core/fromnumeric.py:3440: RuntimeWarning: Mean of empty slice.\n",
            "  return _methods._mean(a, axis=axis, dtype=dtype,\n",
            "/Users/leocarlsson/opt/anaconda3/lib/python3.9/site-packages/numpy/core/_methods.py:189: RuntimeWarning: invalid value encountered in double_scalars\n",
            "  ret = ret.dtype.type(ret / rcount)\n",
            "/Users/leocarlsson/opt/anaconda3/lib/python3.9/site-packages/numpy/core/fromnumeric.py:3723: RuntimeWarning: Degrees of freedom <= 0 for slice\n",
            "  return _methods._var(a, axis=axis, dtype=dtype, out=out, ddof=ddof,\n",
            "/Users/leocarlsson/opt/anaconda3/lib/python3.9/site-packages/numpy/core/_methods.py:222: RuntimeWarning: invalid value encountered in true_divide\n",
            "  arrmean = um.true_divide(arrmean, div, out=arrmean, casting='unsafe',\n",
            "/Users/leocarlsson/opt/anaconda3/lib/python3.9/site-packages/numpy/core/_methods.py:254: RuntimeWarning: invalid value encountered in double_scalars\n",
            "  ret = ret.dtype.type(ret / rcount)\n",
            "/Users/leocarlsson/opt/anaconda3/lib/python3.9/site-packages/numpy/core/fromnumeric.py:3440: RuntimeWarning: Mean of empty slice.\n",
            "  return _methods._mean(a, axis=axis, dtype=dtype,\n",
            "/Users/leocarlsson/opt/anaconda3/lib/python3.9/site-packages/numpy/core/_methods.py:189: RuntimeWarning: invalid value encountered in double_scalars\n",
            "  ret = ret.dtype.type(ret / rcount)\n",
            "/Users/leocarlsson/opt/anaconda3/lib/python3.9/site-packages/numpy/core/fromnumeric.py:3723: RuntimeWarning: Degrees of freedom <= 0 for slice\n",
            "  return _methods._var(a, axis=axis, dtype=dtype, out=out, ddof=ddof,\n",
            "/Users/leocarlsson/opt/anaconda3/lib/python3.9/site-packages/numpy/core/_methods.py:222: RuntimeWarning: invalid value encountered in true_divide\n",
            "  arrmean = um.true_divide(arrmean, div, out=arrmean, casting='unsafe',\n",
            "/Users/leocarlsson/opt/anaconda3/lib/python3.9/site-packages/numpy/core/_methods.py:254: RuntimeWarning: invalid value encountered in double_scalars\n",
            "  ret = ret.dtype.type(ret / rcount)\n",
            "/Users/leocarlsson/opt/anaconda3/lib/python3.9/site-packages/numpy/core/fromnumeric.py:3440: RuntimeWarning: Mean of empty slice.\n",
            "  return _methods._mean(a, axis=axis, dtype=dtype,\n",
            "/Users/leocarlsson/opt/anaconda3/lib/python3.9/site-packages/numpy/core/_methods.py:189: RuntimeWarning: invalid value encountered in double_scalars\n",
            "  ret = ret.dtype.type(ret / rcount)\n",
            "/Users/leocarlsson/opt/anaconda3/lib/python3.9/site-packages/numpy/core/fromnumeric.py:3723: RuntimeWarning: Degrees of freedom <= 0 for slice\n",
            "  return _methods._var(a, axis=axis, dtype=dtype, out=out, ddof=ddof,\n",
            "/Users/leocarlsson/opt/anaconda3/lib/python3.9/site-packages/numpy/core/_methods.py:222: RuntimeWarning: invalid value encountered in true_divide\n",
            "  arrmean = um.true_divide(arrmean, div, out=arrmean, casting='unsafe',\n",
            "/Users/leocarlsson/opt/anaconda3/lib/python3.9/site-packages/numpy/core/_methods.py:254: RuntimeWarning: invalid value encountered in double_scalars\n",
            "  ret = ret.dtype.type(ret / rcount)\n",
            "/Users/leocarlsson/opt/anaconda3/lib/python3.9/site-packages/numpy/core/fromnumeric.py:3440: RuntimeWarning: Mean of empty slice.\n",
            "  return _methods._mean(a, axis=axis, dtype=dtype,\n",
            "/Users/leocarlsson/opt/anaconda3/lib/python3.9/site-packages/numpy/core/_methods.py:189: RuntimeWarning: invalid value encountered in double_scalars\n",
            "  ret = ret.dtype.type(ret / rcount)\n",
            "/Users/leocarlsson/opt/anaconda3/lib/python3.9/site-packages/numpy/core/fromnumeric.py:3723: RuntimeWarning: Degrees of freedom <= 0 for slice\n",
            "  return _methods._var(a, axis=axis, dtype=dtype, out=out, ddof=ddof,\n",
            "/Users/leocarlsson/opt/anaconda3/lib/python3.9/site-packages/numpy/core/_methods.py:222: RuntimeWarning: invalid value encountered in true_divide\n",
            "  arrmean = um.true_divide(arrmean, div, out=arrmean, casting='unsafe',\n",
            "/Users/leocarlsson/opt/anaconda3/lib/python3.9/site-packages/numpy/core/_methods.py:254: RuntimeWarning: invalid value encountered in double_scalars\n",
            "  ret = ret.dtype.type(ret / rcount)\n",
            "/Users/leocarlsson/opt/anaconda3/lib/python3.9/site-packages/numpy/core/fromnumeric.py:3440: RuntimeWarning: Mean of empty slice.\n",
            "  return _methods._mean(a, axis=axis, dtype=dtype,\n",
            "/Users/leocarlsson/opt/anaconda3/lib/python3.9/site-packages/numpy/core/_methods.py:189: RuntimeWarning: invalid value encountered in double_scalars\n",
            "  ret = ret.dtype.type(ret / rcount)\n",
            "/Users/leocarlsson/opt/anaconda3/lib/python3.9/site-packages/numpy/core/fromnumeric.py:3723: RuntimeWarning: Degrees of freedom <= 0 for slice\n",
            "  return _methods._var(a, axis=axis, dtype=dtype, out=out, ddof=ddof,\n",
            "/Users/leocarlsson/opt/anaconda3/lib/python3.9/site-packages/numpy/core/_methods.py:222: RuntimeWarning: invalid value encountered in true_divide\n",
            "  arrmean = um.true_divide(arrmean, div, out=arrmean, casting='unsafe',\n",
            "/Users/leocarlsson/opt/anaconda3/lib/python3.9/site-packages/numpy/core/_methods.py:254: RuntimeWarning: invalid value encountered in double_scalars\n",
            "  ret = ret.dtype.type(ret / rcount)\n",
            "/Users/leocarlsson/opt/anaconda3/lib/python3.9/site-packages/numpy/core/fromnumeric.py:3723: RuntimeWarning: Degrees of freedom <= 0 for slice\n",
            "  return _methods._var(a, axis=axis, dtype=dtype, out=out, ddof=ddof,\n",
            "/Users/leocarlsson/opt/anaconda3/lib/python3.9/site-packages/numpy/core/_methods.py:222: RuntimeWarning: invalid value encountered in true_divide\n",
            "  arrmean = um.true_divide(arrmean, div, out=arrmean, casting='unsafe',\n",
            "/Users/leocarlsson/opt/anaconda3/lib/python3.9/site-packages/numpy/core/_methods.py:254: RuntimeWarning: invalid value encountered in double_scalars\n",
            "  ret = ret.dtype.type(ret / rcount)\n",
            "/Users/leocarlsson/opt/anaconda3/lib/python3.9/site-packages/numpy/core/fromnumeric.py:3440: RuntimeWarning: Mean of empty slice.\n",
            "  return _methods._mean(a, axis=axis, dtype=dtype,\n",
            "/Users/leocarlsson/opt/anaconda3/lib/python3.9/site-packages/numpy/core/_methods.py:189: RuntimeWarning: invalid value encountered in double_scalars\n",
            "  ret = ret.dtype.type(ret / rcount)\n",
            "/Users/leocarlsson/opt/anaconda3/lib/python3.9/site-packages/numpy/core/fromnumeric.py:3723: RuntimeWarning: Degrees of freedom <= 0 for slice\n",
            "  return _methods._var(a, axis=axis, dtype=dtype, out=out, ddof=ddof,\n",
            "/Users/leocarlsson/opt/anaconda3/lib/python3.9/site-packages/numpy/core/_methods.py:222: RuntimeWarning: invalid value encountered in true_divide\n",
            "  arrmean = um.true_divide(arrmean, div, out=arrmean, casting='unsafe',\n",
            "/Users/leocarlsson/opt/anaconda3/lib/python3.9/site-packages/numpy/core/_methods.py:254: RuntimeWarning: invalid value encountered in double_scalars\n",
            "  ret = ret.dtype.type(ret / rcount)\n",
            "/Users/leocarlsson/opt/anaconda3/lib/python3.9/site-packages/numpy/core/fromnumeric.py:3440: RuntimeWarning: Mean of empty slice.\n",
            "  return _methods._mean(a, axis=axis, dtype=dtype,\n",
            "/Users/leocarlsson/opt/anaconda3/lib/python3.9/site-packages/numpy/core/_methods.py:189: RuntimeWarning: invalid value encountered in double_scalars\n",
            "  ret = ret.dtype.type(ret / rcount)\n",
            "/Users/leocarlsson/opt/anaconda3/lib/python3.9/site-packages/numpy/core/fromnumeric.py:3723: RuntimeWarning: Degrees of freedom <= 0 for slice\n",
            "  return _methods._var(a, axis=axis, dtype=dtype, out=out, ddof=ddof,\n",
            "/Users/leocarlsson/opt/anaconda3/lib/python3.9/site-packages/numpy/core/_methods.py:222: RuntimeWarning: invalid value encountered in true_divide\n",
            "  arrmean = um.true_divide(arrmean, div, out=arrmean, casting='unsafe',\n",
            "/Users/leocarlsson/opt/anaconda3/lib/python3.9/site-packages/numpy/core/_methods.py:254: RuntimeWarning: invalid value encountered in double_scalars\n",
            "  ret = ret.dtype.type(ret / rcount)\n",
            "/Users/leocarlsson/opt/anaconda3/lib/python3.9/site-packages/numpy/core/fromnumeric.py:3440: RuntimeWarning: Mean of empty slice.\n",
            "  return _methods._mean(a, axis=axis, dtype=dtype,\n",
            "/Users/leocarlsson/opt/anaconda3/lib/python3.9/site-packages/numpy/core/_methods.py:189: RuntimeWarning: invalid value encountered in double_scalars\n",
            "  ret = ret.dtype.type(ret / rcount)\n",
            "/Users/leocarlsson/opt/anaconda3/lib/python3.9/site-packages/numpy/core/fromnumeric.py:3723: RuntimeWarning: Degrees of freedom <= 0 for slice\n",
            "  return _methods._var(a, axis=axis, dtype=dtype, out=out, ddof=ddof,\n",
            "/Users/leocarlsson/opt/anaconda3/lib/python3.9/site-packages/numpy/core/_methods.py:222: RuntimeWarning: invalid value encountered in true_divide\n",
            "  arrmean = um.true_divide(arrmean, div, out=arrmean, casting='unsafe',\n",
            "/Users/leocarlsson/opt/anaconda3/lib/python3.9/site-packages/numpy/core/_methods.py:254: RuntimeWarning: invalid value encountered in double_scalars\n",
            "  ret = ret.dtype.type(ret / rcount)\n",
            "/Users/leocarlsson/opt/anaconda3/lib/python3.9/site-packages/numpy/core/fromnumeric.py:3440: RuntimeWarning: Mean of empty slice.\n",
            "  return _methods._mean(a, axis=axis, dtype=dtype,\n",
            "/Users/leocarlsson/opt/anaconda3/lib/python3.9/site-packages/numpy/core/_methods.py:189: RuntimeWarning: invalid value encountered in double_scalars\n",
            "  ret = ret.dtype.type(ret / rcount)\n",
            "/Users/leocarlsson/opt/anaconda3/lib/python3.9/site-packages/numpy/core/fromnumeric.py:3723: RuntimeWarning: Degrees of freedom <= 0 for slice\n",
            "  return _methods._var(a, axis=axis, dtype=dtype, out=out, ddof=ddof,\n",
            "/Users/leocarlsson/opt/anaconda3/lib/python3.9/site-packages/numpy/core/_methods.py:222: RuntimeWarning: invalid value encountered in true_divide\n",
            "  arrmean = um.true_divide(arrmean, div, out=arrmean, casting='unsafe',\n",
            "/Users/leocarlsson/opt/anaconda3/lib/python3.9/site-packages/numpy/core/_methods.py:254: RuntimeWarning: invalid value encountered in double_scalars\n",
            "  ret = ret.dtype.type(ret / rcount)\n",
            "/Users/leocarlsson/opt/anaconda3/lib/python3.9/site-packages/numpy/core/fromnumeric.py:3440: RuntimeWarning: Mean of empty slice.\n",
            "  return _methods._mean(a, axis=axis, dtype=dtype,\n",
            "/Users/leocarlsson/opt/anaconda3/lib/python3.9/site-packages/numpy/core/_methods.py:189: RuntimeWarning: invalid value encountered in double_scalars\n",
            "  ret = ret.dtype.type(ret / rcount)\n",
            "/Users/leocarlsson/opt/anaconda3/lib/python3.9/site-packages/numpy/core/fromnumeric.py:3723: RuntimeWarning: Degrees of freedom <= 0 for slice\n",
            "  return _methods._var(a, axis=axis, dtype=dtype, out=out, ddof=ddof,\n",
            "/Users/leocarlsson/opt/anaconda3/lib/python3.9/site-packages/numpy/core/_methods.py:222: RuntimeWarning: invalid value encountered in true_divide\n",
            "  arrmean = um.true_divide(arrmean, div, out=arrmean, casting='unsafe',\n",
            "/Users/leocarlsson/opt/anaconda3/lib/python3.9/site-packages/numpy/core/_methods.py:254: RuntimeWarning: invalid value encountered in double_scalars\n",
            "  ret = ret.dtype.type(ret / rcount)\n",
            "/Users/leocarlsson/opt/anaconda3/lib/python3.9/site-packages/numpy/core/fromnumeric.py:3440: RuntimeWarning: Mean of empty slice.\n",
            "  return _methods._mean(a, axis=axis, dtype=dtype,\n",
            "/Users/leocarlsson/opt/anaconda3/lib/python3.9/site-packages/numpy/core/_methods.py:189: RuntimeWarning: invalid value encountered in double_scalars\n",
            "  ret = ret.dtype.type(ret / rcount)\n",
            "/Users/leocarlsson/opt/anaconda3/lib/python3.9/site-packages/numpy/core/fromnumeric.py:3723: RuntimeWarning: Degrees of freedom <= 0 for slice\n",
            "  return _methods._var(a, axis=axis, dtype=dtype, out=out, ddof=ddof,\n",
            "/Users/leocarlsson/opt/anaconda3/lib/python3.9/site-packages/numpy/core/_methods.py:222: RuntimeWarning: invalid value encountered in true_divide\n",
            "  arrmean = um.true_divide(arrmean, div, out=arrmean, casting='unsafe',\n",
            "/Users/leocarlsson/opt/anaconda3/lib/python3.9/site-packages/numpy/core/_methods.py:254: RuntimeWarning: invalid value encountered in double_scalars\n",
            "  ret = ret.dtype.type(ret / rcount)\n",
            "/Users/leocarlsson/opt/anaconda3/lib/python3.9/site-packages/numpy/core/fromnumeric.py:3440: RuntimeWarning: Mean of empty slice.\n",
            "  return _methods._mean(a, axis=axis, dtype=dtype,\n",
            "/Users/leocarlsson/opt/anaconda3/lib/python3.9/site-packages/numpy/core/_methods.py:189: RuntimeWarning: invalid value encountered in double_scalars\n",
            "  ret = ret.dtype.type(ret / rcount)\n",
            "/Users/leocarlsson/opt/anaconda3/lib/python3.9/site-packages/numpy/core/fromnumeric.py:3723: RuntimeWarning: Degrees of freedom <= 0 for slice\n",
            "  return _methods._var(a, axis=axis, dtype=dtype, out=out, ddof=ddof,\n",
            "/Users/leocarlsson/opt/anaconda3/lib/python3.9/site-packages/numpy/core/_methods.py:222: RuntimeWarning: invalid value encountered in true_divide\n",
            "  arrmean = um.true_divide(arrmean, div, out=arrmean, casting='unsafe',\n",
            "/Users/leocarlsson/opt/anaconda3/lib/python3.9/site-packages/numpy/core/_methods.py:254: RuntimeWarning: invalid value encountered in double_scalars\n",
            "  ret = ret.dtype.type(ret / rcount)\n",
            "/Users/leocarlsson/opt/anaconda3/lib/python3.9/site-packages/numpy/core/fromnumeric.py:3440: RuntimeWarning: Mean of empty slice.\n",
            "  return _methods._mean(a, axis=axis, dtype=dtype,\n",
            "/Users/leocarlsson/opt/anaconda3/lib/python3.9/site-packages/numpy/core/_methods.py:189: RuntimeWarning: invalid value encountered in double_scalars\n",
            "  ret = ret.dtype.type(ret / rcount)\n",
            "/Users/leocarlsson/opt/anaconda3/lib/python3.9/site-packages/numpy/core/fromnumeric.py:3723: RuntimeWarning: Degrees of freedom <= 0 for slice\n",
            "  return _methods._var(a, axis=axis, dtype=dtype, out=out, ddof=ddof,\n",
            "/Users/leocarlsson/opt/anaconda3/lib/python3.9/site-packages/numpy/core/_methods.py:222: RuntimeWarning: invalid value encountered in true_divide\n",
            "  arrmean = um.true_divide(arrmean, div, out=arrmean, casting='unsafe',\n",
            "/Users/leocarlsson/opt/anaconda3/lib/python3.9/site-packages/numpy/core/_methods.py:254: RuntimeWarning: invalid value encountered in double_scalars\n",
            "  ret = ret.dtype.type(ret / rcount)\n",
            "/Users/leocarlsson/opt/anaconda3/lib/python3.9/site-packages/numpy/core/fromnumeric.py:3440: RuntimeWarning: Mean of empty slice.\n",
            "  return _methods._mean(a, axis=axis, dtype=dtype,\n",
            "/Users/leocarlsson/opt/anaconda3/lib/python3.9/site-packages/numpy/core/_methods.py:189: RuntimeWarning: invalid value encountered in double_scalars\n",
            "  ret = ret.dtype.type(ret / rcount)\n",
            "/Users/leocarlsson/opt/anaconda3/lib/python3.9/site-packages/numpy/core/fromnumeric.py:3723: RuntimeWarning: Degrees of freedom <= 0 for slice\n",
            "  return _methods._var(a, axis=axis, dtype=dtype, out=out, ddof=ddof,\n",
            "/Users/leocarlsson/opt/anaconda3/lib/python3.9/site-packages/numpy/core/_methods.py:222: RuntimeWarning: invalid value encountered in true_divide\n",
            "  arrmean = um.true_divide(arrmean, div, out=arrmean, casting='unsafe',\n",
            "/Users/leocarlsson/opt/anaconda3/lib/python3.9/site-packages/numpy/core/_methods.py:254: RuntimeWarning: invalid value encountered in double_scalars\n",
            "  ret = ret.dtype.type(ret / rcount)\n",
            "/Users/leocarlsson/opt/anaconda3/lib/python3.9/site-packages/numpy/core/fromnumeric.py:3440: RuntimeWarning: Mean of empty slice.\n",
            "  return _methods._mean(a, axis=axis, dtype=dtype,\n",
            "/Users/leocarlsson/opt/anaconda3/lib/python3.9/site-packages/numpy/core/_methods.py:189: RuntimeWarning: invalid value encountered in double_scalars\n",
            "  ret = ret.dtype.type(ret / rcount)\n",
            "/Users/leocarlsson/opt/anaconda3/lib/python3.9/site-packages/numpy/core/fromnumeric.py:3723: RuntimeWarning: Degrees of freedom <= 0 for slice\n",
            "  return _methods._var(a, axis=axis, dtype=dtype, out=out, ddof=ddof,\n",
            "/Users/leocarlsson/opt/anaconda3/lib/python3.9/site-packages/numpy/core/_methods.py:222: RuntimeWarning: invalid value encountered in true_divide\n",
            "  arrmean = um.true_divide(arrmean, div, out=arrmean, casting='unsafe',\n",
            "/Users/leocarlsson/opt/anaconda3/lib/python3.9/site-packages/numpy/core/_methods.py:254: RuntimeWarning: invalid value encountered in double_scalars\n",
            "  ret = ret.dtype.type(ret / rcount)\n",
            "/Users/leocarlsson/opt/anaconda3/lib/python3.9/site-packages/numpy/core/fromnumeric.py:3440: RuntimeWarning: Mean of empty slice.\n",
            "  return _methods._mean(a, axis=axis, dtype=dtype,\n",
            "/Users/leocarlsson/opt/anaconda3/lib/python3.9/site-packages/numpy/core/_methods.py:189: RuntimeWarning: invalid value encountered in double_scalars\n",
            "  ret = ret.dtype.type(ret / rcount)\n"
          ]
        },
        {
          "data": {
            "text/plain": [
              "Text(0.5, 1.0, 'Train and test Mean Squared Errors')"
            ]
          },
          "execution_count": 39,
          "metadata": {},
          "output_type": "execute_result"
        },
        {
          "data": {
            "image/png": "[encoded data removed]",
            "text/plain": [
              "<Figure size 640x480 with 1 Axes>"
            ]
          },
          "metadata": {},
          "output_type": "display_data"
        }
      ],
      "source": [
        "def evaluate_model(max_depth,x_test, y_test):\n",
        "  evaluation = []\n",
        "  for n in range(max_depth+1):\n",
        "    eval_tree = TreeRegressor(max_depth=n)\n",
        "    eval_tree.fit(Xtrain, Ytrain)\n",
        "    eval_preds = eval_tree.predict(x_test)\n",
        "    evaluation.append(mean_squared_error(y_test, eval_preds))\n",
        "\n",
        "  return evaluation\n",
        "\n",
        "train_evaluation = evaluate_model(12, Xtrain, Ytrain)\n",
        "test_evaluation = evaluate_model(12, Xtest, Ytest)\n",
        "\n",
        "plt.plot(train_evaluation)\n",
        "plt.plot(test_evaluation)\n",
        "plt.legend(['Train', 'Test'])\n",
        "plt.xlabel('Maximum depth')\n",
        "plt.ylabel('MSE')\n",
        "plt.title('Train and test Mean Squared Errors')"
      ]
    },
    {
      "attachments": {},
      "cell_type": "markdown",
      "metadata": {
        "id": "3CyZiiIdEITN"
      },
      "source": [
        "As the maximum depth of the tree is changed, the two curves in the plot show the mean squared error (MSE) of the decision tree regressor model. The MSE on the training dataset is represented by the train curve, and the MSE on the test dataset is represented by the test curve.\n",
        "\n",
        "On this subset, the model is underfitting at low depth, and overfitting at a higher depth. This indicates that the model cannot generalize well to new data and cannot sufficiently reflect the underlying patterns in the data. This can occur when the model is overly simplistic or is not given enough detail to learn from the data. We are experimenting in searching for the maximum depth whose ideal value has the lowest test error curve, which in our case would be 12, as we have tested for values from 0 to 12 and we see MSE declining as the depth is increasing. \n",
        "\n",
        "In summary, the plot shows that the model is underfitting when the maximum depth is low and overfitting when the maximum depth is high, which can be observed by the difference between the train and test MSE curves. In the end, it is an optimization problem, balancing the depth of the tree so it fits our dataset the best. It should be noted that this is a simplistic example as we are only tuning the depth of the tree, an no other hyperparameters. We could also experiment with increasing the quantity of training data points, applying regularization strategies like pruning, or even rejecting this specific model/algorithm for the this data set.\n",
        "\n",
        "Given that we had the time to train this in the entire dataset, our predictions is that the test curve always would be above the train curve, but both would be slowly decreasing. However, given the small number in the Test set at this level, there's not enough data for this pattern to emerge.\n",
        "\n",
        "# Appendix\n",
        "The following class is the furtherst we got to a functioning class using the alternative variance calculation method. It works okay on the toy data, but breaks on the larger dataset where it somewhere spawns a NaN. We would greatly apprechiate feedback on where we've made a mistake, since we cant find it and want to learn. "
      ]
    },
    {
      "cell_type": "code",
      "execution_count": 40,
      "metadata": {},
      "outputs": [
        {
          "data": {
            "image/svg+xml": "<?xml version=\"1.0\" encoding=\"UTF-8\" standalone=\"no\"?>\n<!DOCTYPE svg PUBLIC \"-//W3C//DTD SVG 1.1//EN\"\n \"http://www.w3.org/Graphics/SVG/1.1/DTD/svg11.dtd\">\n<!-- Generated by graphviz version 2.50.0 (0)\n -->\n<!-- Pages: 1 -->\n<svg width=\"176pt\" height=\"131pt\"\n viewBox=\"0.00 0.00 175.74 131.00\" xmlns=\"http://www.w3.org/2000/svg\" xmlns:xlink=\"http://www.w3.org/1999/xlink\">\n<g id=\"graph0\" class=\"graph\" transform=\"scale(1 1) rotate(0) translate(4 127)\">\n<polygon fill=\"white\" stroke=\"transparent\" points=\"-4,4 -4,-127 171.74,-127 171.74,4 -4,4\"/>\n<!-- 0 -->\n<g id=\"node1\" class=\"node\">\n<title>0</title>\n<ellipse fill=\"lightgrey\" stroke=\"black\" cx=\"39.65\" cy=\"-18\" rx=\"39.79\" ry=\"18\"/>\n<text text-anchor=\"middle\" x=\"39.65\" y=\"-14.3\" font-family=\"Times,serif\" font-size=\"14.00\">0.01716</text>\n</g>\n<!-- 1 -->\n<g id=\"node2\" class=\"node\">\n<title>1</title>\n<ellipse fill=\"lightgrey\" stroke=\"black\" cx=\"132.65\" cy=\"-18\" rx=\"35.19\" ry=\"18\"/>\n<text text-anchor=\"middle\" x=\"132.65\" y=\"-14.3\" font-family=\"Times,serif\" font-size=\"14.00\">0.9687</text>\n</g>\n<!-- 2 -->\n<g id=\"node3\" class=\"node\">\n<title>2</title>\n<path fill=\"yellow\" stroke=\"black\" d=\"M115.15,-123C115.15,-123 56.15,-123 56.15,-123 50.15,-123 44.15,-117 44.15,-111 44.15,-111 44.15,-99 44.15,-99 44.15,-93 50.15,-87 56.15,-87 56.15,-87 115.15,-87 115.15,-87 121.15,-87 127.15,-93 127.15,-99 127.15,-99 127.15,-111 127.15,-111 127.15,-117 121.15,-123 115.15,-123\"/>\n<text text-anchor=\"middle\" x=\"85.65\" y=\"-101.3\" font-family=\"Times,serif\" font-size=\"14.00\">F0 &gt; 1.049?</text>\n</g>\n<!-- 2&#45;&gt;0 -->\n<g id=\"edge1\" class=\"edge\">\n<title>2&#45;&gt;0</title>\n<path fill=\"none\" stroke=\"black\" d=\"M76.34,-86.8C69.77,-74.66 60.86,-58.19 53.46,-44.52\"/>\n<polygon fill=\"black\" stroke=\"black\" points=\"56.47,-42.73 48.63,-35.6 50.31,-46.06 56.47,-42.73\"/>\n<text text-anchor=\"middle\" x=\"80.15\" y=\"-57.8\" font-family=\"Times,serif\" font-size=\"14.00\">False</text>\n</g>\n<!-- 2&#45;&gt;1 -->\n<g id=\"edge2\" class=\"edge\">\n<title>2&#45;&gt;1</title>\n<path fill=\"none\" stroke=\"black\" d=\"M95.16,-86.8C101.87,-74.66 110.98,-58.19 118.53,-44.52\"/>\n<polygon fill=\"black\" stroke=\"black\" points=\"121.69,-46.04 123.47,-35.6 115.57,-42.65 121.69,-46.04\"/>\n<text text-anchor=\"middle\" x=\"124.65\" y=\"-57.8\" font-family=\"Times,serif\" font-size=\"14.00\">True</text>\n</g>\n</g>\n</svg>\n",
            "text/plain": [
              "<graphviz.graphs.Digraph at 0x7fe30c8a6c70>"
            ]
          },
          "execution_count": 40,
          "metadata": {},
          "output_type": "execute_result"
        }
      ],
      "source": [
        "from sklearn.base import RegressorMixin\n",
        "import numpy as np\n",
        "\n",
        "def get_variance(n, sum_of_x, sum_of_sqr):\n",
        "    return ((1/n)*sum_of_sqr/n) - 1/n**2*sum_of_x**2\n",
        "\n",
        "def variance_reduction(var_all, var_l, var_h, n_all, n_l, n_h):\n",
        "    return var_all - (n_h / n_all * var_h) - (n_l / n_all * var_l)\n",
        "\n",
        "\n",
        "class TreeRegressor(DecisionTree, RegressorMixin):\n",
        "    def __init__(self, max_depth=10, min_var = 0.000001):\n",
        "        super().__init__(max_depth)\n",
        "        self.min_var = min_var\n",
        "        \n",
        "    def fit(self, X, Y):\n",
        "        super().fit(X, Y)\n",
        "        self.classes_ = sorted(set(Y))\n",
        "\n",
        "    # Select a default value that is going to be used if we decide to make a leaf, using the mean\n",
        "    def get_default_value(self, Y):\n",
        "        return np.mean(Y)\n",
        "    \n",
        "    # Checks whether a set of output values is homogeneous. \n",
        "    def is_homogeneous(self, Y):\n",
        "        return np.var(Y) < self.min_var\n",
        "\n",
        "    # Finds the best splitting point for a given feature using minimising variance\n",
        "    def best_split(self, X, Y, feature):\n",
        "\n",
        "        # Create a list of input-output pairs, where we have sorted\n",
        "        # in ascending order by the input feature we're considering.\n",
        "        sorted_indices = np.argsort(X[:, feature])        \n",
        "        X_sorted = list(X[sorted_indices, feature])\n",
        "        Y_sorted = list(Y[sorted_indices])\n",
        "\n",
        "        n = len(Y)\n",
        "\n",
        "        # Keep track of the best result we've seen so far.\n",
        "        max_score = -np.inf\n",
        "        max_i = None\n",
        "\n",
        "        # Split in High and low parts at index of the set\n",
        "        S_all = Y_sorted\n",
        "        S_h = Y_sorted[1:]\n",
        "        S_l = Y_sorted[:1]\n",
        "\n",
        "        sum_high = np.sum(S_h)\n",
        "        sum_low = np.sum(S_l)\n",
        "        sum_all = np.sum(S_all)\n",
        "\n",
        "        sq_high = np.sum(np.power(S_h, 2))\n",
        "        sq_low = np.sum(np.power(S_l, 2))\n",
        "        sq_all = np.sum(np.power(S_all, 2))\n",
        "\n",
        "        n_high = np.size(S_h)\n",
        "        n_low = np.size(S_l)\n",
        "        n = np.size(S_all)\n",
        "\n",
        "        var = np.var(Y_sorted)\n",
        "\n",
        "        # Go through all the positions (excluding the last position).\n",
        "        for i in range(0, n-1):\n",
        "\n",
        "            var_high = get_variance(n_high, sum_high, sq_high)\n",
        "            var_low = get_variance(n_low, sum_low, sq_low)\n",
        "\n",
        "            score = variance_reduction(var_all=var, var_l=var_low, var_h=var_high, n_all=n, n_l=n_low, n_h=n_high)\n",
        "\n",
        "            # If this is the best split, remember it.\n",
        "            if score > max_score:\n",
        "                max_score = score\n",
        "                max_i = i\n",
        "\n",
        "            sq_high -= S_all[i]**2\n",
        "            sq_low += S_all[i]**2\n",
        "            sum_high -= S_all[i]\n",
        "            sum_low += S_all[i]\n",
        "            n_high -= 1\n",
        "            n_low += 1\n",
        "\n",
        "\n",
        "        # If we didn't find any split (meaning that all inputs are identical), return\n",
        "        # a dummy value.\n",
        "        if max_i is None:\n",
        "            return -np.inf, None, None\n",
        "\n",
        "        # Otherwise, return the best split we found and its score.\n",
        "        split_point = 0.5*(X_sorted[max_i] + X_sorted[max_i+1])\n",
        "        return max_score, feature, split_point\n",
        "\n",
        "def make_some_data(n):\n",
        "    x = np.random.uniform(-5, 5, size=n)\n",
        "    Y = (x > 1) + 0.1*np.random.normal(size=n)\n",
        "    X = x.reshape(n, 1) # X needs to be a 2-dimensional matrix\n",
        "    return X, Y\n",
        "\n",
        "X, Y = make_some_data(100)\n",
        "tree_reg = TreeRegressor(max_depth=1)\n",
        "tree_reg.fit(X, Y)\n",
        "tree_reg.draw_tree()"
      ]
    },
    {
      "cell_type": "code",
      "execution_count": 41,
      "metadata": {},
      "outputs": [
        {
          "name": "stderr",
          "output_type": "stream",
          "text": [
            "/Users/leocarlsson/opt/anaconda3/lib/python3.9/site-packages/numpy/core/fromnumeric.py:3440: RuntimeWarning: Mean of empty slice.\n",
            "  return _methods._mean(a, axis=axis, dtype=dtype,\n",
            "/Users/leocarlsson/opt/anaconda3/lib/python3.9/site-packages/numpy/core/_methods.py:189: RuntimeWarning: invalid value encountered in double_scalars\n",
            "  ret = ret.dtype.type(ret / rcount)\n",
            "/Users/leocarlsson/opt/anaconda3/lib/python3.9/site-packages/numpy/core/fromnumeric.py:3723: RuntimeWarning: Degrees of freedom <= 0 for slice\n",
            "  return _methods._var(a, axis=axis, dtype=dtype, out=out, ddof=ddof,\n",
            "/Users/leocarlsson/opt/anaconda3/lib/python3.9/site-packages/numpy/core/_methods.py:222: RuntimeWarning: invalid value encountered in true_divide\n",
            "  arrmean = um.true_divide(arrmean, div, out=arrmean, casting='unsafe',\n",
            "/Users/leocarlsson/opt/anaconda3/lib/python3.9/site-packages/numpy/core/_methods.py:254: RuntimeWarning: invalid value encountered in double_scalars\n",
            "  ret = ret.dtype.type(ret / rcount)\n"
          ]
        },
        {
          "data": {
            "image/svg+xml": "<?xml version=\"1.0\" encoding=\"UTF-8\" standalone=\"no\"?>\n<!DOCTYPE svg PUBLIC \"-//W3C//DTD SVG 1.1//EN\"\n \"http://www.w3.org/Graphics/SVG/1.1/DTD/svg11.dtd\">\n<!-- Generated by graphviz version 2.50.0 (0)\n -->\n<!-- Pages: 1 -->\n<svg width=\"766pt\" height=\"479pt\"\n viewBox=\"0.00 0.00 765.55 479.00\" xmlns=\"http://www.w3.org/2000/svg\" xmlns:xlink=\"http://www.w3.org/1999/xlink\">\n<g id=\"graph0\" class=\"graph\" transform=\"scale(1 1) rotate(0) translate(4 475)\">\n<polygon fill=\"white\" stroke=\"transparent\" points=\"-4,4 -4,-475 761.55,-475 761.55,4 -4,4\"/>\n<!-- 0 -->\n<g id=\"node1\" class=\"node\">\n<title>0</title>\n<ellipse fill=\"lightgrey\" stroke=\"black\" cx=\"30.55\" cy=\"-18\" rx=\"30.59\" ry=\"18\"/>\n<text text-anchor=\"middle\" x=\"30.55\" y=\"-14.3\" font-family=\"Times,serif\" font-size=\"14.00\">15.55</text>\n</g>\n<!-- 1 -->\n<g id=\"node2\" class=\"node\">\n<title>1</title>\n<ellipse fill=\"lightgrey\" stroke=\"black\" cx=\"106.55\" cy=\"-18\" rx=\"27\" ry=\"18\"/>\n<text text-anchor=\"middle\" x=\"106.55\" y=\"-14.3\" font-family=\"Times,serif\" font-size=\"14.00\">nan</text>\n</g>\n<!-- 2 -->\n<g id=\"node3\" class=\"node\">\n<title>2</title>\n<path fill=\"yellow\" stroke=\"black\" d=\"M101.05,-123C101.05,-123 36.05,-123 36.05,-123 30.05,-123 24.05,-117 24.05,-111 24.05,-111 24.05,-99 24.05,-99 24.05,-93 30.05,-87 36.05,-87 36.05,-87 101.05,-87 101.05,-87 107.05,-87 113.05,-93 113.05,-99 113.05,-99 113.05,-111 113.05,-111 113.05,-117 107.05,-123 101.05,-123\"/>\n<text text-anchor=\"middle\" x=\"68.55\" y=\"-101.3\" font-family=\"Times,serif\" font-size=\"14.00\">year &gt; 2015?</text>\n</g>\n<!-- 2&#45;&gt;0 -->\n<g id=\"edge1\" class=\"edge\">\n<title>2&#45;&gt;0</title>\n<path fill=\"none\" stroke=\"black\" d=\"M60.86,-86.8C55.48,-74.78 48.21,-58.51 42.13,-44.92\"/>\n<polygon fill=\"black\" stroke=\"black\" points=\"45.24,-43.3 37.97,-35.6 38.85,-46.15 45.24,-43.3\"/>\n<text text-anchor=\"middle\" x=\"67.05\" y=\"-57.8\" font-family=\"Times,serif\" font-size=\"14.00\">False</text>\n</g>\n<!-- 2&#45;&gt;1 -->\n<g id=\"edge2\" class=\"edge\">\n<title>2&#45;&gt;1</title>\n<path fill=\"none\" stroke=\"black\" d=\"M76.41,-86.93C79.02,-81.24 81.92,-74.85 84.55,-69 88.04,-61.21 91.8,-52.72 95.2,-44.98\"/>\n<polygon fill=\"black\" stroke=\"black\" points=\"98.46,-46.26 99.27,-35.69 92.05,-43.45 98.46,-46.26\"/>\n<text text-anchor=\"middle\" x=\"104.55\" y=\"-57.8\" font-family=\"Times,serif\" font-size=\"14.00\">True</text>\n</g>\n<!-- 3 -->\n<g id=\"node4\" class=\"node\">\n<title>3</title>\n<ellipse fill=\"lightgrey\" stroke=\"black\" cx=\"158.55\" cy=\"-105\" rx=\"27\" ry=\"18\"/>\n<text text-anchor=\"middle\" x=\"158.55\" y=\"-101.3\" font-family=\"Times,serif\" font-size=\"14.00\">nan</text>\n</g>\n<!-- 4 -->\n<g id=\"node5\" class=\"node\">\n<title>4</title>\n<path fill=\"yellow\" stroke=\"black\" d=\"M184.05,-210C184.05,-210 119.05,-210 119.05,-210 113.05,-210 107.05,-204 107.05,-198 107.05,-198 107.05,-186 107.05,-186 107.05,-180 113.05,-174 119.05,-174 119.05,-174 184.05,-174 184.05,-174 190.05,-174 196.05,-180 196.05,-186 196.05,-186 196.05,-198 196.05,-198 196.05,-204 190.05,-210 184.05,-210\"/>\n<text text-anchor=\"middle\" x=\"151.55\" y=\"-188.3\" font-family=\"Times,serif\" font-size=\"14.00\">year &gt; 2015?</text>\n</g>\n<!-- 4&#45;&gt;2 -->\n<g id=\"edge3\" class=\"edge\">\n<title>4&#45;&gt;2</title>\n<path fill=\"none\" stroke=\"black\" d=\"M134.75,-173.8C122.6,-161.36 106.01,-144.36 92.48,-130.5\"/>\n<polygon fill=\"black\" stroke=\"black\" points=\"94.81,-127.88 85.32,-123.18 89.8,-132.78 94.81,-127.88\"/>\n<text text-anchor=\"middle\" x=\"130.05\" y=\"-144.8\" font-family=\"Times,serif\" font-size=\"14.00\">False</text>\n</g>\n<!-- 4&#45;&gt;3 -->\n<g id=\"edge4\" class=\"edge\">\n<title>4&#45;&gt;3</title>\n<path fill=\"none\" stroke=\"black\" d=\"M152.96,-173.8C153.92,-162.16 155.21,-146.55 156.3,-133.24\"/>\n<polygon fill=\"black\" stroke=\"black\" points=\"159.8,-133.43 157.13,-123.18 152.82,-132.85 159.8,-133.43\"/>\n<text text-anchor=\"middle\" x=\"168.55\" y=\"-144.8\" font-family=\"Times,serif\" font-size=\"14.00\">True</text>\n</g>\n<!-- 5 -->\n<g id=\"node6\" class=\"node\">\n<title>5</title>\n<ellipse fill=\"lightgrey\" stroke=\"black\" cx=\"241.55\" cy=\"-192\" rx=\"27\" ry=\"18\"/>\n<text text-anchor=\"middle\" x=\"241.55\" y=\"-188.3\" font-family=\"Times,serif\" font-size=\"14.00\">nan</text>\n</g>\n<!-- 6 -->\n<g id=\"node7\" class=\"node\">\n<title>6</title>\n<path fill=\"yellow\" stroke=\"black\" d=\"M270.05,-297C270.05,-297 205.05,-297 205.05,-297 199.05,-297 193.05,-291 193.05,-285 193.05,-285 193.05,-273 193.05,-273 193.05,-267 199.05,-261 205.05,-261 205.05,-261 270.05,-261 270.05,-261 276.05,-261 282.05,-267 282.05,-273 282.05,-273 282.05,-285 282.05,-285 282.05,-291 276.05,-297 270.05,-297\"/>\n<text text-anchor=\"middle\" x=\"237.55\" y=\"-275.3\" font-family=\"Times,serif\" font-size=\"14.00\">year &gt; 2015?</text>\n</g>\n<!-- 6&#45;&gt;4 -->\n<g id=\"edge5\" class=\"edge\">\n<title>6&#45;&gt;4</title>\n<path fill=\"none\" stroke=\"black\" d=\"M220.14,-260.8C207.55,-248.36 190.36,-231.36 176.34,-217.5\"/>\n<polygon fill=\"black\" stroke=\"black\" points=\"178.5,-214.72 168.92,-210.18 173.58,-219.69 178.5,-214.72\"/>\n<text text-anchor=\"middle\" x=\"215.05\" y=\"-231.8\" font-family=\"Times,serif\" font-size=\"14.00\">False</text>\n</g>\n<!-- 6&#45;&gt;5 -->\n<g id=\"edge6\" class=\"edge\">\n<title>6&#45;&gt;5</title>\n<path fill=\"none\" stroke=\"black\" d=\"M238.36,-260.8C238.9,-249.16 239.64,-233.55 240.27,-220.24\"/>\n<polygon fill=\"black\" stroke=\"black\" points=\"243.77,-220.33 240.74,-210.18 236.77,-220 243.77,-220.33\"/>\n<text text-anchor=\"middle\" x=\"253.55\" y=\"-231.8\" font-family=\"Times,serif\" font-size=\"14.00\">True</text>\n</g>\n<!-- 7 -->\n<g id=\"node8\" class=\"node\">\n<title>7</title>\n<ellipse fill=\"lightgrey\" stroke=\"black\" cx=\"327.55\" cy=\"-279\" rx=\"27\" ry=\"18\"/>\n<text text-anchor=\"middle\" x=\"327.55\" y=\"-275.3\" font-family=\"Times,serif\" font-size=\"14.00\">nan</text>\n</g>\n<!-- 8 -->\n<g id=\"node9\" class=\"node\">\n<title>8</title>\n<path fill=\"yellow\" stroke=\"black\" d=\"M355.05,-384C355.05,-384 290.05,-384 290.05,-384 284.05,-384 278.05,-378 278.05,-372 278.05,-372 278.05,-360 278.05,-360 278.05,-354 284.05,-348 290.05,-348 290.05,-348 355.05,-348 355.05,-348 361.05,-348 367.05,-354 367.05,-360 367.05,-360 367.05,-372 367.05,-372 367.05,-378 361.05,-384 355.05,-384\"/>\n<text text-anchor=\"middle\" x=\"322.55\" y=\"-362.3\" font-family=\"Times,serif\" font-size=\"14.00\">year &gt; 2015?</text>\n</g>\n<!-- 8&#45;&gt;6 -->\n<g id=\"edge7\" class=\"edge\">\n<title>8&#45;&gt;6</title>\n<path fill=\"none\" stroke=\"black\" d=\"M305.35,-347.8C292.9,-335.36 275.91,-318.36 262.05,-304.5\"/>\n<polygon fill=\"black\" stroke=\"black\" points=\"264.27,-301.77 254.72,-297.18 259.32,-306.72 264.27,-301.77\"/>\n<text text-anchor=\"middle\" x=\"300.05\" y=\"-318.8\" font-family=\"Times,serif\" font-size=\"14.00\">False</text>\n</g>\n<!-- 8&#45;&gt;7 -->\n<g id=\"edge8\" class=\"edge\">\n<title>8&#45;&gt;7</title>\n<path fill=\"none\" stroke=\"black\" d=\"M323.56,-347.8C324.24,-336.16 325.16,-320.55 325.95,-307.24\"/>\n<polygon fill=\"black\" stroke=\"black\" points=\"329.44,-307.36 326.54,-297.18 322.46,-306.95 329.44,-307.36\"/>\n<text text-anchor=\"middle\" x=\"338.55\" y=\"-318.8\" font-family=\"Times,serif\" font-size=\"14.00\">True</text>\n</g>\n<!-- 9 -->\n<g id=\"node10\" class=\"node\">\n<title>9</title>\n<ellipse fill=\"lightgrey\" stroke=\"black\" cx=\"218.55\" cy=\"-18\" rx=\"30.59\" ry=\"18\"/>\n<text text-anchor=\"middle\" x=\"218.55\" y=\"-14.3\" font-family=\"Times,serif\" font-size=\"14.00\">15.34</text>\n</g>\n<!-- 10 -->\n<g id=\"node11\" class=\"node\">\n<title>10</title>\n<ellipse fill=\"lightgrey\" stroke=\"black\" cx=\"294.55\" cy=\"-18\" rx=\"27\" ry=\"18\"/>\n<text text-anchor=\"middle\" x=\"294.55\" y=\"-14.3\" font-family=\"Times,serif\" font-size=\"14.00\">nan</text>\n</g>\n<!-- 11 -->\n<g id=\"node12\" class=\"node\">\n<title>11</title>\n<path fill=\"yellow\" stroke=\"black\" d=\"M267.05,-123C267.05,-123 220.05,-123 220.05,-123 214.05,-123 208.05,-117 208.05,-111 208.05,-111 208.05,-99 208.05,-99 208.05,-93 214.05,-87 220.05,-87 220.05,-87 267.05,-87 267.05,-87 273.05,-87 279.05,-93 279.05,-99 279.05,-99 279.05,-111 279.05,-111 279.05,-117 273.05,-123 267.05,-123\"/>\n<text text-anchor=\"middle\" x=\"243.55\" y=\"-101.3\" font-family=\"Times,serif\" font-size=\"14.00\">floor &gt; 9?</text>\n</g>\n<!-- 11&#45;&gt;9 -->\n<g id=\"edge9\" class=\"edge\">\n<title>11&#45;&gt;9</title>\n<path fill=\"none\" stroke=\"black\" d=\"M238.49,-86.8C235.01,-74.97 230.32,-59.03 226.36,-45.58\"/>\n<polygon fill=\"black\" stroke=\"black\" points=\"229.69,-44.49 223.51,-35.89 222.98,-46.47 229.69,-44.49\"/>\n<text text-anchor=\"middle\" x=\"247.05\" y=\"-57.8\" font-family=\"Times,serif\" font-size=\"14.00\">False</text>\n</g>\n<!-- 11&#45;&gt;10 -->\n<g id=\"edge10\" class=\"edge\">\n<title>11&#45;&gt;10</title>\n<path fill=\"none\" stroke=\"black\" d=\"M254.41,-86.99C258,-81.29 261.98,-74.9 265.55,-69 270.4,-60.97 275.57,-52.15 280.18,-44.17\"/>\n<polygon fill=\"black\" stroke=\"black\" points=\"283.33,-45.71 285.29,-35.3 277.27,-42.22 283.33,-45.71\"/>\n<text text-anchor=\"middle\" x=\"287.55\" y=\"-57.8\" font-family=\"Times,serif\" font-size=\"14.00\">True</text>\n</g>\n<!-- 12 -->\n<g id=\"node13\" class=\"node\">\n<title>12</title>\n<ellipse fill=\"lightgrey\" stroke=\"black\" cx=\"324.55\" cy=\"-105\" rx=\"27\" ry=\"18\"/>\n<text text-anchor=\"middle\" x=\"324.55\" y=\"-101.3\" font-family=\"Times,serif\" font-size=\"14.00\">nan</text>\n</g>\n<!-- 13 -->\n<g id=\"node14\" class=\"node\">\n<title>13</title>\n<path fill=\"yellow\" stroke=\"black\" d=\"M348.05,-210C348.05,-210 301.05,-210 301.05,-210 295.05,-210 289.05,-204 289.05,-198 289.05,-198 289.05,-186 289.05,-186 289.05,-180 295.05,-174 301.05,-174 301.05,-174 348.05,-174 348.05,-174 354.05,-174 360.05,-180 360.05,-186 360.05,-186 360.05,-198 360.05,-198 360.05,-204 354.05,-210 348.05,-210\"/>\n<text text-anchor=\"middle\" x=\"324.55\" y=\"-188.3\" font-family=\"Times,serif\" font-size=\"14.00\">floor &gt; 9?</text>\n</g>\n<!-- 13&#45;&gt;11 -->\n<g id=\"edge11\" class=\"edge\">\n<title>13&#45;&gt;11</title>\n<path fill=\"none\" stroke=\"black\" d=\"M308.16,-173.8C296.3,-161.36 280.11,-144.36 266.9,-130.5\"/>\n<polygon fill=\"black\" stroke=\"black\" points=\"269.35,-128 259.91,-123.18 264.28,-132.83 269.35,-128\"/>\n<text text-anchor=\"middle\" x=\"304.05\" y=\"-144.8\" font-family=\"Times,serif\" font-size=\"14.00\">False</text>\n</g>\n<!-- 13&#45;&gt;12 -->\n<g id=\"edge12\" class=\"edge\">\n<title>13&#45;&gt;12</title>\n<path fill=\"none\" stroke=\"black\" d=\"M324.55,-173.8C324.55,-162.16 324.55,-146.55 324.55,-133.24\"/>\n<polygon fill=\"black\" stroke=\"black\" points=\"328.05,-133.18 324.55,-123.18 321.05,-133.18 328.05,-133.18\"/>\n<text text-anchor=\"middle\" x=\"337.55\" y=\"-144.8\" font-family=\"Times,serif\" font-size=\"14.00\">True</text>\n</g>\n<!-- 14 -->\n<g id=\"node15\" class=\"node\">\n<title>14</title>\n<ellipse fill=\"lightgrey\" stroke=\"black\" cx=\"395.55\" cy=\"-18\" rx=\"30.59\" ry=\"18\"/>\n<text text-anchor=\"middle\" x=\"395.55\" y=\"-14.3\" font-family=\"Times,serif\" font-size=\"14.00\">15.76</text>\n</g>\n<!-- 15 -->\n<g id=\"node16\" class=\"node\">\n<title>15</title>\n<ellipse fill=\"lightgrey\" stroke=\"black\" cx=\"471.55\" cy=\"-18\" rx=\"27\" ry=\"18\"/>\n<text text-anchor=\"middle\" x=\"471.55\" y=\"-14.3\" font-family=\"Times,serif\" font-size=\"14.00\">nan</text>\n</g>\n<!-- 16 -->\n<g id=\"node17\" class=\"node\">\n<title>16</title>\n<path fill=\"yellow\" stroke=\"black\" d=\"M447.05,-123C447.05,-123 382.05,-123 382.05,-123 376.05,-123 370.05,-117 370.05,-111 370.05,-111 370.05,-99 370.05,-99 370.05,-93 376.05,-87 382.05,-87 382.05,-87 447.05,-87 447.05,-87 453.05,-87 459.05,-93 459.05,-99 459.05,-99 459.05,-111 459.05,-111 459.05,-117 453.05,-123 447.05,-123\"/>\n<text text-anchor=\"middle\" x=\"414.55\" y=\"-101.3\" font-family=\"Times,serif\" font-size=\"14.00\">year &gt; 2015?</text>\n</g>\n<!-- 16&#45;&gt;14 -->\n<g id=\"edge13\" class=\"edge\">\n<title>16&#45;&gt;14</title>\n<path fill=\"none\" stroke=\"black\" d=\"M410.7,-86.8C408.08,-75.09 404.56,-59.34 401.58,-45.97\"/>\n<polygon fill=\"black\" stroke=\"black\" points=\"404.92,-44.88 399.32,-35.89 398.09,-46.41 404.92,-44.88\"/>\n<text text-anchor=\"middle\" x=\"421.05\" y=\"-57.8\" font-family=\"Times,serif\" font-size=\"14.00\">False</text>\n</g>\n<!-- 16&#45;&gt;15 -->\n<g id=\"edge14\" class=\"edge\">\n<title>16&#45;&gt;15</title>\n<path fill=\"none\" stroke=\"black\" d=\"M427.19,-86.68C431.2,-81.08 435.61,-74.81 439.55,-69 445.09,-60.81 450.97,-51.74 456.15,-43.6\"/>\n<polygon fill=\"black\" stroke=\"black\" points=\"459.27,-45.22 461.66,-34.9 453.36,-41.48 459.27,-45.22\"/>\n<text text-anchor=\"middle\" x=\"462.55\" y=\"-57.8\" font-family=\"Times,serif\" font-size=\"14.00\">True</text>\n</g>\n<!-- 17 -->\n<g id=\"node18\" class=\"node\">\n<title>17</title>\n<ellipse fill=\"lightgrey\" stroke=\"black\" cx=\"504.55\" cy=\"-105\" rx=\"27\" ry=\"18\"/>\n<text text-anchor=\"middle\" x=\"504.55\" y=\"-101.3\" font-family=\"Times,serif\" font-size=\"14.00\">nan</text>\n</g>\n<!-- 18 -->\n<g id=\"node19\" class=\"node\">\n<title>18</title>\n<path fill=\"yellow\" stroke=\"black\" d=\"M474.05,-210C474.05,-210 409.05,-210 409.05,-210 403.05,-210 397.05,-204 397.05,-198 397.05,-198 397.05,-186 397.05,-186 397.05,-180 403.05,-174 409.05,-174 409.05,-174 474.05,-174 474.05,-174 480.05,-174 486.05,-180 486.05,-186 486.05,-186 486.05,-198 486.05,-198 486.05,-204 480.05,-210 474.05,-210\"/>\n<text text-anchor=\"middle\" x=\"441.55\" y=\"-188.3\" font-family=\"Times,serif\" font-size=\"14.00\">year &gt; 2015?</text>\n</g>\n<!-- 18&#45;&gt;16 -->\n<g id=\"edge15\" class=\"edge\">\n<title>18&#45;&gt;16</title>\n<path fill=\"none\" stroke=\"black\" d=\"M436.08,-173.8C432.35,-162.05 427.33,-146.24 423.07,-132.84\"/>\n<polygon fill=\"black\" stroke=\"black\" points=\"426.37,-131.65 420,-123.18 419.69,-133.77 426.37,-131.65\"/>\n<text text-anchor=\"middle\" x=\"445.05\" y=\"-144.8\" font-family=\"Times,serif\" font-size=\"14.00\">False</text>\n</g>\n<!-- 18&#45;&gt;17 -->\n<g id=\"edge16\" class=\"edge\">\n<title>18&#45;&gt;17</title>\n<path fill=\"none\" stroke=\"black\" d=\"M454.3,-173.8C463.71,-161.1 476.62,-143.68 487.01,-129.67\"/>\n<polygon fill=\"black\" stroke=\"black\" points=\"489.95,-131.58 493.09,-121.46 484.32,-127.41 489.95,-131.58\"/>\n<text text-anchor=\"middle\" x=\"490.55\" y=\"-144.8\" font-family=\"Times,serif\" font-size=\"14.00\">True</text>\n</g>\n<!-- 19 -->\n<g id=\"node20\" class=\"node\">\n<title>19</title>\n<path fill=\"yellow\" stroke=\"black\" d=\"M481.55,-297C481.55,-297 401.55,-297 401.55,-297 395.55,-297 389.55,-291 389.55,-285 389.55,-285 389.55,-273 389.55,-273 389.55,-267 395.55,-261 401.55,-261 401.55,-261 481.55,-261 481.55,-261 487.55,-261 493.55,-267 493.55,-273 493.55,-273 493.55,-285 493.55,-285 493.55,-291 487.55,-297 481.55,-297\"/>\n<text text-anchor=\"middle\" x=\"441.55\" y=\"-275.3\" font-family=\"Times,serif\" font-size=\"14.00\">full_all &gt; 2942?</text>\n</g>\n<!-- 19&#45;&gt;13 -->\n<g id=\"edge17\" class=\"edge\">\n<title>19&#45;&gt;13</title>\n<path fill=\"none\" stroke=\"black\" d=\"M417.87,-260.8C400.19,-247.95 375.83,-230.26 356.44,-216.17\"/>\n<polygon fill=\"black\" stroke=\"black\" points=\"358.34,-213.22 348.19,-210.18 354.22,-218.88 358.34,-213.22\"/>\n<text text-anchor=\"middle\" x=\"405.05\" y=\"-231.8\" font-family=\"Times,serif\" font-size=\"14.00\">False</text>\n</g>\n<!-- 19&#45;&gt;18 -->\n<g id=\"edge18\" class=\"edge\">\n<title>19&#45;&gt;18</title>\n<path fill=\"none\" stroke=\"black\" d=\"M441.55,-260.8C441.55,-249.16 441.55,-233.55 441.55,-220.24\"/>\n<polygon fill=\"black\" stroke=\"black\" points=\"445.05,-220.18 441.55,-210.18 438.05,-220.18 445.05,-220.18\"/>\n<text text-anchor=\"middle\" x=\"454.55\" y=\"-231.8\" font-family=\"Times,serif\" font-size=\"14.00\">True</text>\n</g>\n<!-- 20 -->\n<g id=\"node21\" class=\"node\">\n<title>20</title>\n<ellipse fill=\"lightgrey\" stroke=\"black\" cx=\"560.55\" cy=\"-18\" rx=\"30.59\" ry=\"18\"/>\n<text text-anchor=\"middle\" x=\"560.55\" y=\"-14.3\" font-family=\"Times,serif\" font-size=\"14.00\">16.22</text>\n</g>\n<!-- 21 -->\n<g id=\"node22\" class=\"node\">\n<title>21</title>\n<ellipse fill=\"lightgrey\" stroke=\"black\" cx=\"636.55\" cy=\"-18\" rx=\"27\" ry=\"18\"/>\n<text text-anchor=\"middle\" x=\"636.55\" y=\"-14.3\" font-family=\"Times,serif\" font-size=\"14.00\">nan</text>\n</g>\n<!-- 22 -->\n<g id=\"node23\" class=\"node\">\n<title>22</title>\n<path fill=\"yellow\" stroke=\"black\" d=\"M673.55,-123C673.55,-123 561.55,-123 561.55,-123 555.55,-123 549.55,-117 549.55,-111 549.55,-111 549.55,-99 549.55,-99 549.55,-93 555.55,-87 561.55,-87 561.55,-87 673.55,-87 673.55,-87 679.55,-87 685.55,-93 685.55,-99 685.55,-99 685.55,-111 685.55,-111 685.55,-117 679.55,-123 673.55,-123\"/>\n<text text-anchor=\"middle\" x=\"617.55\" y=\"-101.3\" font-family=\"Times,serif\" font-size=\"14.00\">full_all &gt; 1.453e+06?</text>\n</g>\n<!-- 22&#45;&gt;20 -->\n<g id=\"edge19\" class=\"edge\">\n<title>22&#45;&gt;20</title>\n<path fill=\"none\" stroke=\"black\" d=\"M605.77,-86.95C601.86,-81.26 597.5,-74.87 593.55,-69 588.06,-60.85 582.13,-51.91 576.83,-43.87\"/>\n<polygon fill=\"black\" stroke=\"black\" points=\"579.59,-41.69 571.18,-35.26 573.75,-45.54 579.59,-41.69\"/>\n<text text-anchor=\"middle\" x=\"608.05\" y=\"-57.8\" font-family=\"Times,serif\" font-size=\"14.00\">False</text>\n</g>\n<!-- 22&#45;&gt;21 -->\n<g id=\"edge20\" class=\"edge\">\n<title>22&#45;&gt;21</title>\n<path fill=\"none\" stroke=\"black\" d=\"M621.39,-86.8C624.01,-75.09 627.53,-59.34 630.52,-45.97\"/>\n<polygon fill=\"black\" stroke=\"black\" points=\"634.01,-46.41 632.77,-35.89 627.18,-44.88 634.01,-46.41\"/>\n<text text-anchor=\"middle\" x=\"641.55\" y=\"-57.8\" font-family=\"Times,serif\" font-size=\"14.00\">True</text>\n</g>\n<!-- 23 -->\n<g id=\"node24\" class=\"node\">\n<title>23</title>\n<ellipse fill=\"lightgrey\" stroke=\"black\" cx=\"730.55\" cy=\"-105\" rx=\"27\" ry=\"18\"/>\n<text text-anchor=\"middle\" x=\"730.55\" y=\"-101.3\" font-family=\"Times,serif\" font-size=\"14.00\">nan</text>\n</g>\n<!-- 24 -->\n<g id=\"node25\" class=\"node\">\n<title>24</title>\n<path fill=\"yellow\" stroke=\"black\" d=\"M673.55,-210C673.55,-210 561.55,-210 561.55,-210 555.55,-210 549.55,-204 549.55,-198 549.55,-198 549.55,-186 549.55,-186 549.55,-180 555.55,-174 561.55,-174 561.55,-174 673.55,-174 673.55,-174 679.55,-174 685.55,-180 685.55,-186 685.55,-186 685.55,-198 685.55,-198 685.55,-204 679.55,-210 673.55,-210\"/>\n<text text-anchor=\"middle\" x=\"617.55\" y=\"-188.3\" font-family=\"Times,serif\" font-size=\"14.00\">full_all &gt; 1.453e+06?</text>\n</g>\n<!-- 24&#45;&gt;22 -->\n<g id=\"edge21\" class=\"edge\">\n<title>24&#45;&gt;22</title>\n<path fill=\"none\" stroke=\"black\" d=\"M617.55,-173.8C617.55,-162.16 617.55,-146.55 617.55,-133.24\"/>\n<polygon fill=\"black\" stroke=\"black\" points=\"621.05,-133.18 617.55,-123.18 614.05,-133.18 621.05,-133.18\"/>\n<text text-anchor=\"middle\" x=\"632.05\" y=\"-144.8\" font-family=\"Times,serif\" font-size=\"14.00\">False</text>\n</g>\n<!-- 24&#45;&gt;23 -->\n<g id=\"edge22\" class=\"edge\">\n<title>24&#45;&gt;23</title>\n<path fill=\"none\" stroke=\"black\" d=\"M640.41,-173.8C659.18,-159.69 685.72,-139.72 705.14,-125.11\"/>\n<polygon fill=\"black\" stroke=\"black\" points=\"707.36,-127.82 713.25,-119.01 703.15,-122.23 707.36,-127.82\"/>\n<text text-anchor=\"middle\" x=\"694.55\" y=\"-144.8\" font-family=\"Times,serif\" font-size=\"14.00\">True</text>\n</g>\n<!-- 25 -->\n<g id=\"node26\" class=\"node\">\n<title>25</title>\n<ellipse fill=\"lightgrey\" stroke=\"black\" cx=\"730.55\" cy=\"-192\" rx=\"27\" ry=\"18\"/>\n<text text-anchor=\"middle\" x=\"730.55\" y=\"-188.3\" font-family=\"Times,serif\" font-size=\"14.00\">nan</text>\n</g>\n<!-- 26 -->\n<g id=\"node27\" class=\"node\">\n<title>26</title>\n<path fill=\"yellow\" stroke=\"black\" d=\"M673.55,-297C673.55,-297 561.55,-297 561.55,-297 555.55,-297 549.55,-291 549.55,-285 549.55,-285 549.55,-273 549.55,-273 549.55,-267 555.55,-261 561.55,-261 561.55,-261 673.55,-261 673.55,-261 679.55,-261 685.55,-267 685.55,-273 685.55,-273 685.55,-285 685.55,-285 685.55,-291 679.55,-297 673.55,-297\"/>\n<text text-anchor=\"middle\" x=\"617.55\" y=\"-275.3\" font-family=\"Times,serif\" font-size=\"14.00\">full_all &gt; 1.453e+06?</text>\n</g>\n<!-- 26&#45;&gt;24 -->\n<g id=\"edge23\" class=\"edge\">\n<title>26&#45;&gt;24</title>\n<path fill=\"none\" stroke=\"black\" d=\"M617.55,-260.8C617.55,-249.16 617.55,-233.55 617.55,-220.24\"/>\n<polygon fill=\"black\" stroke=\"black\" points=\"621.05,-220.18 617.55,-210.18 614.05,-220.18 621.05,-220.18\"/>\n<text text-anchor=\"middle\" x=\"632.05\" y=\"-231.8\" font-family=\"Times,serif\" font-size=\"14.00\">False</text>\n</g>\n<!-- 26&#45;&gt;25 -->\n<g id=\"edge24\" class=\"edge\">\n<title>26&#45;&gt;25</title>\n<path fill=\"none\" stroke=\"black\" d=\"M640.41,-260.8C659.18,-246.69 685.72,-226.72 705.14,-212.11\"/>\n<polygon fill=\"black\" stroke=\"black\" points=\"707.36,-214.82 713.25,-206.01 703.15,-209.23 707.36,-214.82\"/>\n<text text-anchor=\"middle\" x=\"694.55\" y=\"-231.8\" font-family=\"Times,serif\" font-size=\"14.00\">True</text>\n</g>\n<!-- 27 -->\n<g id=\"node28\" class=\"node\">\n<title>27</title>\n<path fill=\"yellow\" stroke=\"black\" d=\"M509.55,-384C509.55,-384 397.55,-384 397.55,-384 391.55,-384 385.55,-378 385.55,-372 385.55,-372 385.55,-360 385.55,-360 385.55,-354 391.55,-348 397.55,-348 397.55,-348 509.55,-348 509.55,-348 515.55,-348 521.55,-354 521.55,-360 521.55,-360 521.55,-372 521.55,-372 521.55,-378 515.55,-384 509.55,-384\"/>\n<text text-anchor=\"middle\" x=\"453.55\" y=\"-362.3\" font-family=\"Times,serif\" font-size=\"14.00\">full_all &gt; 1.942e+04?</text>\n</g>\n<!-- 27&#45;&gt;19 -->\n<g id=\"edge25\" class=\"edge\">\n<title>27&#45;&gt;19</title>\n<path fill=\"none\" stroke=\"black\" d=\"M451.12,-347.8C449.48,-336.16 447.27,-320.55 445.39,-307.24\"/>\n<polygon fill=\"black\" stroke=\"black\" points=\"448.84,-306.59 443.97,-297.18 441.9,-307.57 448.84,-306.59\"/>\n<text text-anchor=\"middle\" x=\"463.05\" y=\"-318.8\" font-family=\"Times,serif\" font-size=\"14.00\">False</text>\n</g>\n<!-- 27&#45;&gt;26 -->\n<g id=\"edge26\" class=\"edge\">\n<title>27&#45;&gt;26</title>\n<path fill=\"none\" stroke=\"black\" d=\"M486.74,-347.8C512.38,-334.51 548.05,-316.02 575.66,-301.71\"/>\n<polygon fill=\"black\" stroke=\"black\" points=\"577.42,-304.74 584.69,-297.03 574.2,-298.52 577.42,-304.74\"/>\n<text text-anchor=\"middle\" x=\"558.55\" y=\"-318.8\" font-family=\"Times,serif\" font-size=\"14.00\">True</text>\n</g>\n<!-- 28 -->\n<g id=\"node29\" class=\"node\">\n<title>28</title>\n<path fill=\"yellow\" stroke=\"black\" d=\"M420.05,-471C420.05,-471 355.05,-471 355.05,-471 349.05,-471 343.05,-465 343.05,-459 343.05,-459 343.05,-447 343.05,-447 343.05,-441 349.05,-435 355.05,-435 355.05,-435 420.05,-435 420.05,-435 426.05,-435 432.05,-441 432.05,-447 432.05,-447 432.05,-459 432.05,-459 432.05,-465 426.05,-471 420.05,-471\"/>\n<text text-anchor=\"middle\" x=\"387.55\" y=\"-449.3\" font-family=\"Times,serif\" font-size=\"14.00\">full_sq &gt; 63?</text>\n</g>\n<!-- 28&#45;&gt;8 -->\n<g id=\"edge27\" class=\"edge\">\n<title>28&#45;&gt;8</title>\n<path fill=\"none\" stroke=\"black\" d=\"M374.39,-434.8C365.05,-422.59 352.36,-405.99 341.88,-392.28\"/>\n<polygon fill=\"black\" stroke=\"black\" points=\"344.54,-389.99 335.68,-384.18 338.98,-394.25 344.54,-389.99\"/>\n<text text-anchor=\"middle\" x=\"374.05\" y=\"-405.8\" font-family=\"Times,serif\" font-size=\"14.00\">False</text>\n</g>\n<!-- 28&#45;&gt;27 -->\n<g id=\"edge28\" class=\"edge\">\n<title>28&#45;&gt;27</title>\n<path fill=\"none\" stroke=\"black\" d=\"M400.9,-434.8C410.39,-422.59 423.27,-405.99 433.92,-392.28\"/>\n<polygon fill=\"black\" stroke=\"black\" points=\"436.84,-394.22 440.21,-384.18 431.31,-389.93 436.84,-394.22\"/>\n<text text-anchor=\"middle\" x=\"437.55\" y=\"-405.8\" font-family=\"Times,serif\" font-size=\"14.00\">True</text>\n</g>\n</g>\n</svg>\n",
            "text/plain": [
              "<graphviz.graphs.Digraph at 0x7fe30c8852e0>"
            ]
          },
          "execution_count": 41,
          "metadata": {},
          "output_type": "execute_result"
        }
      ],
      "source": [
        "tree_reg = TreeRegressor(max_depth=5)\n",
        "tree_reg.fit(Xtrain, Ytrain)\n",
        "tree_reg.draw_tree()"
      ]
    },
    {
      "cell_type": "code",
      "execution_count": 42,
      "metadata": {},
      "outputs": [
        {
          "name": "stderr",
          "output_type": "stream",
          "text": [
            "/Users/leocarlsson/opt/anaconda3/lib/python3.9/site-packages/numpy/core/fromnumeric.py:3440: RuntimeWarning: Mean of empty slice.\n",
            "  return _methods._mean(a, axis=axis, dtype=dtype,\n",
            "/Users/leocarlsson/opt/anaconda3/lib/python3.9/site-packages/numpy/core/_methods.py:189: RuntimeWarning: invalid value encountered in double_scalars\n",
            "  ret = ret.dtype.type(ret / rcount)\n",
            "/Users/leocarlsson/opt/anaconda3/lib/python3.9/site-packages/numpy/core/fromnumeric.py:3440: RuntimeWarning: Mean of empty slice.\n",
            "  return _methods._mean(a, axis=axis, dtype=dtype,\n",
            "/Users/leocarlsson/opt/anaconda3/lib/python3.9/site-packages/numpy/core/_methods.py:189: RuntimeWarning: invalid value encountered in double_scalars\n",
            "  ret = ret.dtype.type(ret / rcount)\n",
            "/Users/leocarlsson/opt/anaconda3/lib/python3.9/site-packages/numpy/core/fromnumeric.py:3723: RuntimeWarning: Degrees of freedom <= 0 for slice\n",
            "  return _methods._var(a, axis=axis, dtype=dtype, out=out, ddof=ddof,\n",
            "/Users/leocarlsson/opt/anaconda3/lib/python3.9/site-packages/numpy/core/_methods.py:222: RuntimeWarning: invalid value encountered in true_divide\n",
            "  arrmean = um.true_divide(arrmean, div, out=arrmean, casting='unsafe',\n",
            "/Users/leocarlsson/opt/anaconda3/lib/python3.9/site-packages/numpy/core/_methods.py:254: RuntimeWarning: invalid value encountered in double_scalars\n",
            "  ret = ret.dtype.type(ret / rcount)\n",
            "/Users/leocarlsson/opt/anaconda3/lib/python3.9/site-packages/numpy/core/fromnumeric.py:3440: RuntimeWarning: Mean of empty slice.\n",
            "  return _methods._mean(a, axis=axis, dtype=dtype,\n",
            "/Users/leocarlsson/opt/anaconda3/lib/python3.9/site-packages/numpy/core/_methods.py:189: RuntimeWarning: invalid value encountered in double_scalars\n",
            "  ret = ret.dtype.type(ret / rcount)\n",
            "/Users/leocarlsson/opt/anaconda3/lib/python3.9/site-packages/numpy/core/fromnumeric.py:3723: RuntimeWarning: Degrees of freedom <= 0 for slice\n",
            "  return _methods._var(a, axis=axis, dtype=dtype, out=out, ddof=ddof,\n",
            "/Users/leocarlsson/opt/anaconda3/lib/python3.9/site-packages/numpy/core/_methods.py:222: RuntimeWarning: invalid value encountered in true_divide\n",
            "  arrmean = um.true_divide(arrmean, div, out=arrmean, casting='unsafe',\n",
            "/Users/leocarlsson/opt/anaconda3/lib/python3.9/site-packages/numpy/core/_methods.py:254: RuntimeWarning: invalid value encountered in double_scalars\n",
            "  ret = ret.dtype.type(ret / rcount)\n",
            "/Users/leocarlsson/opt/anaconda3/lib/python3.9/site-packages/numpy/core/fromnumeric.py:3440: RuntimeWarning: Mean of empty slice.\n",
            "  return _methods._mean(a, axis=axis, dtype=dtype,\n",
            "/Users/leocarlsson/opt/anaconda3/lib/python3.9/site-packages/numpy/core/_methods.py:189: RuntimeWarning: invalid value encountered in double_scalars\n",
            "  ret = ret.dtype.type(ret / rcount)\n",
            "/Users/leocarlsson/opt/anaconda3/lib/python3.9/site-packages/numpy/core/fromnumeric.py:3723: RuntimeWarning: Degrees of freedom <= 0 for slice\n",
            "  return _methods._var(a, axis=axis, dtype=dtype, out=out, ddof=ddof,\n",
            "/Users/leocarlsson/opt/anaconda3/lib/python3.9/site-packages/numpy/core/_methods.py:222: RuntimeWarning: invalid value encountered in true_divide\n",
            "  arrmean = um.true_divide(arrmean, div, out=arrmean, casting='unsafe',\n",
            "/Users/leocarlsson/opt/anaconda3/lib/python3.9/site-packages/numpy/core/_methods.py:254: RuntimeWarning: invalid value encountered in double_scalars\n",
            "  ret = ret.dtype.type(ret / rcount)\n",
            "/Users/leocarlsson/opt/anaconda3/lib/python3.9/site-packages/numpy/core/fromnumeric.py:3440: RuntimeWarning: Mean of empty slice.\n",
            "  return _methods._mean(a, axis=axis, dtype=dtype,\n",
            "/Users/leocarlsson/opt/anaconda3/lib/python3.9/site-packages/numpy/core/_methods.py:189: RuntimeWarning: invalid value encountered in double_scalars\n",
            "  ret = ret.dtype.type(ret / rcount)\n",
            "/Users/leocarlsson/opt/anaconda3/lib/python3.9/site-packages/numpy/core/fromnumeric.py:3723: RuntimeWarning: Degrees of freedom <= 0 for slice\n",
            "  return _methods._var(a, axis=axis, dtype=dtype, out=out, ddof=ddof,\n",
            "/Users/leocarlsson/opt/anaconda3/lib/python3.9/site-packages/numpy/core/_methods.py:222: RuntimeWarning: invalid value encountered in true_divide\n",
            "  arrmean = um.true_divide(arrmean, div, out=arrmean, casting='unsafe',\n",
            "/Users/leocarlsson/opt/anaconda3/lib/python3.9/site-packages/numpy/core/_methods.py:254: RuntimeWarning: invalid value encountered in double_scalars\n",
            "  ret = ret.dtype.type(ret / rcount)\n",
            "/Users/leocarlsson/opt/anaconda3/lib/python3.9/site-packages/numpy/core/fromnumeric.py:3440: RuntimeWarning: Mean of empty slice.\n",
            "  return _methods._mean(a, axis=axis, dtype=dtype,\n",
            "/Users/leocarlsson/opt/anaconda3/lib/python3.9/site-packages/numpy/core/_methods.py:189: RuntimeWarning: invalid value encountered in double_scalars\n",
            "  ret = ret.dtype.type(ret / rcount)\n",
            "/Users/leocarlsson/opt/anaconda3/lib/python3.9/site-packages/numpy/core/fromnumeric.py:3723: RuntimeWarning: Degrees of freedom <= 0 for slice\n",
            "  return _methods._var(a, axis=axis, dtype=dtype, out=out, ddof=ddof,\n",
            "/Users/leocarlsson/opt/anaconda3/lib/python3.9/site-packages/numpy/core/_methods.py:222: RuntimeWarning: invalid value encountered in true_divide\n",
            "  arrmean = um.true_divide(arrmean, div, out=arrmean, casting='unsafe',\n",
            "/Users/leocarlsson/opt/anaconda3/lib/python3.9/site-packages/numpy/core/_methods.py:254: RuntimeWarning: invalid value encountered in double_scalars\n",
            "  ret = ret.dtype.type(ret / rcount)\n",
            "/Users/leocarlsson/opt/anaconda3/lib/python3.9/site-packages/numpy/core/fromnumeric.py:3440: RuntimeWarning: Mean of empty slice.\n",
            "  return _methods._mean(a, axis=axis, dtype=dtype,\n",
            "/Users/leocarlsson/opt/anaconda3/lib/python3.9/site-packages/numpy/core/_methods.py:189: RuntimeWarning: invalid value encountered in double_scalars\n",
            "  ret = ret.dtype.type(ret / rcount)\n",
            "/Users/leocarlsson/opt/anaconda3/lib/python3.9/site-packages/numpy/core/fromnumeric.py:3723: RuntimeWarning: Degrees of freedom <= 0 for slice\n",
            "  return _methods._var(a, axis=axis, dtype=dtype, out=out, ddof=ddof,\n",
            "/Users/leocarlsson/opt/anaconda3/lib/python3.9/site-packages/numpy/core/_methods.py:222: RuntimeWarning: invalid value encountered in true_divide\n",
            "  arrmean = um.true_divide(arrmean, div, out=arrmean, casting='unsafe',\n",
            "/Users/leocarlsson/opt/anaconda3/lib/python3.9/site-packages/numpy/core/_methods.py:254: RuntimeWarning: invalid value encountered in double_scalars\n",
            "  ret = ret.dtype.type(ret / rcount)\n",
            "/Users/leocarlsson/opt/anaconda3/lib/python3.9/site-packages/numpy/core/fromnumeric.py:3440: RuntimeWarning: Mean of empty slice.\n",
            "  return _methods._mean(a, axis=axis, dtype=dtype,\n",
            "/Users/leocarlsson/opt/anaconda3/lib/python3.9/site-packages/numpy/core/_methods.py:189: RuntimeWarning: invalid value encountered in double_scalars\n",
            "  ret = ret.dtype.type(ret / rcount)\n",
            "/Users/leocarlsson/opt/anaconda3/lib/python3.9/site-packages/numpy/core/fromnumeric.py:3723: RuntimeWarning: Degrees of freedom <= 0 for slice\n",
            "  return _methods._var(a, axis=axis, dtype=dtype, out=out, ddof=ddof,\n",
            "/Users/leocarlsson/opt/anaconda3/lib/python3.9/site-packages/numpy/core/_methods.py:222: RuntimeWarning: invalid value encountered in true_divide\n",
            "  arrmean = um.true_divide(arrmean, div, out=arrmean, casting='unsafe',\n",
            "/Users/leocarlsson/opt/anaconda3/lib/python3.9/site-packages/numpy/core/_methods.py:254: RuntimeWarning: invalid value encountered in double_scalars\n",
            "  ret = ret.dtype.type(ret / rcount)\n",
            "/Users/leocarlsson/opt/anaconda3/lib/python3.9/site-packages/numpy/core/fromnumeric.py:3440: RuntimeWarning: Mean of empty slice.\n",
            "  return _methods._mean(a, axis=axis, dtype=dtype,\n",
            "/Users/leocarlsson/opt/anaconda3/lib/python3.9/site-packages/numpy/core/_methods.py:189: RuntimeWarning: invalid value encountered in double_scalars\n",
            "  ret = ret.dtype.type(ret / rcount)\n",
            "/Users/leocarlsson/opt/anaconda3/lib/python3.9/site-packages/numpy/core/fromnumeric.py:3723: RuntimeWarning: Degrees of freedom <= 0 for slice\n",
            "  return _methods._var(a, axis=axis, dtype=dtype, out=out, ddof=ddof,\n",
            "/Users/leocarlsson/opt/anaconda3/lib/python3.9/site-packages/numpy/core/_methods.py:222: RuntimeWarning: invalid value encountered in true_divide\n",
            "  arrmean = um.true_divide(arrmean, div, out=arrmean, casting='unsafe',\n",
            "/Users/leocarlsson/opt/anaconda3/lib/python3.9/site-packages/numpy/core/_methods.py:254: RuntimeWarning: invalid value encountered in double_scalars\n",
            "  ret = ret.dtype.type(ret / rcount)\n",
            "/Users/leocarlsson/opt/anaconda3/lib/python3.9/site-packages/numpy/core/fromnumeric.py:3440: RuntimeWarning: Mean of empty slice.\n",
            "  return _methods._mean(a, axis=axis, dtype=dtype,\n",
            "/Users/leocarlsson/opt/anaconda3/lib/python3.9/site-packages/numpy/core/_methods.py:189: RuntimeWarning: invalid value encountered in double_scalars\n",
            "  ret = ret.dtype.type(ret / rcount)\n",
            "/Users/leocarlsson/opt/anaconda3/lib/python3.9/site-packages/numpy/core/fromnumeric.py:3723: RuntimeWarning: Degrees of freedom <= 0 for slice\n",
            "  return _methods._var(a, axis=axis, dtype=dtype, out=out, ddof=ddof,\n",
            "/Users/leocarlsson/opt/anaconda3/lib/python3.9/site-packages/numpy/core/_methods.py:222: RuntimeWarning: invalid value encountered in true_divide\n",
            "  arrmean = um.true_divide(arrmean, div, out=arrmean, casting='unsafe',\n",
            "/Users/leocarlsson/opt/anaconda3/lib/python3.9/site-packages/numpy/core/_methods.py:254: RuntimeWarning: invalid value encountered in double_scalars\n",
            "  ret = ret.dtype.type(ret / rcount)\n",
            "/Users/leocarlsson/opt/anaconda3/lib/python3.9/site-packages/numpy/core/fromnumeric.py:3440: RuntimeWarning: Mean of empty slice.\n",
            "  return _methods._mean(a, axis=axis, dtype=dtype,\n",
            "/Users/leocarlsson/opt/anaconda3/lib/python3.9/site-packages/numpy/core/_methods.py:189: RuntimeWarning: invalid value encountered in double_scalars\n",
            "  ret = ret.dtype.type(ret / rcount)\n",
            "/Users/leocarlsson/opt/anaconda3/lib/python3.9/site-packages/numpy/core/fromnumeric.py:3723: RuntimeWarning: Degrees of freedom <= 0 for slice\n",
            "  return _methods._var(a, axis=axis, dtype=dtype, out=out, ddof=ddof,\n",
            "/Users/leocarlsson/opt/anaconda3/lib/python3.9/site-packages/numpy/core/_methods.py:222: RuntimeWarning: invalid value encountered in true_divide\n",
            "  arrmean = um.true_divide(arrmean, div, out=arrmean, casting='unsafe',\n",
            "/Users/leocarlsson/opt/anaconda3/lib/python3.9/site-packages/numpy/core/_methods.py:254: RuntimeWarning: invalid value encountered in double_scalars\n",
            "  ret = ret.dtype.type(ret / rcount)\n",
            "/Users/leocarlsson/opt/anaconda3/lib/python3.9/site-packages/numpy/core/fromnumeric.py:3440: RuntimeWarning: Mean of empty slice.\n",
            "  return _methods._mean(a, axis=axis, dtype=dtype,\n",
            "/Users/leocarlsson/opt/anaconda3/lib/python3.9/site-packages/numpy/core/_methods.py:189: RuntimeWarning: invalid value encountered in double_scalars\n",
            "  ret = ret.dtype.type(ret / rcount)\n",
            "/Users/leocarlsson/opt/anaconda3/lib/python3.9/site-packages/numpy/core/fromnumeric.py:3440: RuntimeWarning: Mean of empty slice.\n",
            "  return _methods._mean(a, axis=axis, dtype=dtype,\n",
            "/Users/leocarlsson/opt/anaconda3/lib/python3.9/site-packages/numpy/core/_methods.py:189: RuntimeWarning: invalid value encountered in double_scalars\n",
            "  ret = ret.dtype.type(ret / rcount)\n",
            "/Users/leocarlsson/opt/anaconda3/lib/python3.9/site-packages/numpy/core/fromnumeric.py:3723: RuntimeWarning: Degrees of freedom <= 0 for slice\n",
            "  return _methods._var(a, axis=axis, dtype=dtype, out=out, ddof=ddof,\n",
            "/Users/leocarlsson/opt/anaconda3/lib/python3.9/site-packages/numpy/core/_methods.py:222: RuntimeWarning: invalid value encountered in true_divide\n",
            "  arrmean = um.true_divide(arrmean, div, out=arrmean, casting='unsafe',\n",
            "/Users/leocarlsson/opt/anaconda3/lib/python3.9/site-packages/numpy/core/_methods.py:254: RuntimeWarning: invalid value encountered in double_scalars\n",
            "  ret = ret.dtype.type(ret / rcount)\n"
          ]
        },
        {
          "ename": "ValueError",
          "evalue": "Input contains NaN.",
          "output_type": "error",
          "traceback": [
            "\u001b[0;31m---------------------------------------------------------------------------\u001b[0m",
            "\u001b[0;31mValueError\u001b[0m                                Traceback (most recent call last)",
            "\u001b[0;32m/var/folders/d1/1d37c5pd1fl8jsmjz3ry2f0c0000gn/T/ipykernel_63238/1527266875.py\u001b[0m in \u001b[0;36m<module>\u001b[0;34m\u001b[0m\n\u001b[1;32m     12\u001b[0m \u001b[0;34m\u001b[0m\u001b[0m\n\u001b[1;32m     13\u001b[0m \u001b[0mtrain_evaluation\u001b[0m \u001b[0;34m=\u001b[0m \u001b[0mevaluate_model\u001b[0m\u001b[0;34m(\u001b[0m\u001b[0;36m12\u001b[0m\u001b[0;34m,\u001b[0m \u001b[0mXtrain\u001b[0m\u001b[0;34m,\u001b[0m \u001b[0mYtrain\u001b[0m\u001b[0;34m)\u001b[0m\u001b[0;34m\u001b[0m\u001b[0;34m\u001b[0m\u001b[0m\n\u001b[0;32m---> 14\u001b[0;31m \u001b[0mtest_evaluation\u001b[0m \u001b[0;34m=\u001b[0m \u001b[0mevaluate_model\u001b[0m\u001b[0;34m(\u001b[0m\u001b[0;36m12\u001b[0m\u001b[0;34m,\u001b[0m \u001b[0mXtest\u001b[0m\u001b[0;34m,\u001b[0m \u001b[0mYtest\u001b[0m\u001b[0;34m)\u001b[0m\u001b[0;34m\u001b[0m\u001b[0;34m\u001b[0m\u001b[0m\n\u001b[0m\u001b[1;32m     15\u001b[0m \u001b[0;34m\u001b[0m\u001b[0m\n\u001b[1;32m     16\u001b[0m \u001b[0mplt\u001b[0m\u001b[0;34m.\u001b[0m\u001b[0mplot\u001b[0m\u001b[0;34m(\u001b[0m\u001b[0mtrain_evaluation\u001b[0m\u001b[0;34m)\u001b[0m\u001b[0;34m\u001b[0m\u001b[0;34m\u001b[0m\u001b[0m\n",
            "\u001b[0;32m/var/folders/d1/1d37c5pd1fl8jsmjz3ry2f0c0000gn/T/ipykernel_63238/1527266875.py\u001b[0m in \u001b[0;36mevaluate_model\u001b[0;34m(max_depth, x_test, y_test)\u001b[0m\n\u001b[1;32m      7\u001b[0m     \u001b[0meval_tree\u001b[0m\u001b[0;34m.\u001b[0m\u001b[0mfit\u001b[0m\u001b[0;34m(\u001b[0m\u001b[0mXtrain\u001b[0m\u001b[0;34m,\u001b[0m \u001b[0mYtrain\u001b[0m\u001b[0;34m)\u001b[0m\u001b[0;34m\u001b[0m\u001b[0;34m\u001b[0m\u001b[0m\n\u001b[1;32m      8\u001b[0m     \u001b[0meval_preds\u001b[0m \u001b[0;34m=\u001b[0m \u001b[0meval_tree\u001b[0m\u001b[0;34m.\u001b[0m\u001b[0mpredict\u001b[0m\u001b[0;34m(\u001b[0m\u001b[0mx_test\u001b[0m\u001b[0;34m)\u001b[0m\u001b[0;34m\u001b[0m\u001b[0;34m\u001b[0m\u001b[0m\n\u001b[0;32m----> 9\u001b[0;31m     \u001b[0mevaluation\u001b[0m\u001b[0;34m.\u001b[0m\u001b[0mappend\u001b[0m\u001b[0;34m(\u001b[0m\u001b[0mmean_squared_error\u001b[0m\u001b[0;34m(\u001b[0m\u001b[0my_test\u001b[0m\u001b[0;34m,\u001b[0m \u001b[0meval_preds\u001b[0m\u001b[0;34m)\u001b[0m\u001b[0;34m)\u001b[0m\u001b[0;34m\u001b[0m\u001b[0;34m\u001b[0m\u001b[0m\n\u001b[0m\u001b[1;32m     10\u001b[0m \u001b[0;34m\u001b[0m\u001b[0m\n\u001b[1;32m     11\u001b[0m   \u001b[0;32mreturn\u001b[0m \u001b[0mevaluation\u001b[0m\u001b[0;34m\u001b[0m\u001b[0;34m\u001b[0m\u001b[0m\n",
            "\u001b[0;32m~/opt/anaconda3/lib/python3.9/site-packages/sklearn/metrics/_regression.py\u001b[0m in \u001b[0;36mmean_squared_error\u001b[0;34m(y_true, y_pred, sample_weight, multioutput, squared)\u001b[0m\n\u001b[1;32m    440\u001b[0m     \u001b[0;36m0.825\u001b[0m\u001b[0;34m...\u001b[0m\u001b[0;34m\u001b[0m\u001b[0;34m\u001b[0m\u001b[0m\n\u001b[1;32m    441\u001b[0m     \"\"\"\n\u001b[0;32m--> 442\u001b[0;31m     y_type, y_true, y_pred, multioutput = _check_reg_targets(\n\u001b[0m\u001b[1;32m    443\u001b[0m         \u001b[0my_true\u001b[0m\u001b[0;34m,\u001b[0m \u001b[0my_pred\u001b[0m\u001b[0;34m,\u001b[0m \u001b[0mmultioutput\u001b[0m\u001b[0;34m\u001b[0m\u001b[0;34m\u001b[0m\u001b[0m\n\u001b[1;32m    444\u001b[0m     )\n",
            "\u001b[0;32m~/opt/anaconda3/lib/python3.9/site-packages/sklearn/metrics/_regression.py\u001b[0m in \u001b[0;36m_check_reg_targets\u001b[0;34m(y_true, y_pred, multioutput, dtype)\u001b[0m\n\u001b[1;32m    100\u001b[0m     \u001b[0mcheck_consistent_length\u001b[0m\u001b[0;34m(\u001b[0m\u001b[0my_true\u001b[0m\u001b[0;34m,\u001b[0m \u001b[0my_pred\u001b[0m\u001b[0;34m)\u001b[0m\u001b[0;34m\u001b[0m\u001b[0;34m\u001b[0m\u001b[0m\n\u001b[1;32m    101\u001b[0m     \u001b[0my_true\u001b[0m \u001b[0;34m=\u001b[0m \u001b[0mcheck_array\u001b[0m\u001b[0;34m(\u001b[0m\u001b[0my_true\u001b[0m\u001b[0;34m,\u001b[0m \u001b[0mensure_2d\u001b[0m\u001b[0;34m=\u001b[0m\u001b[0;32mFalse\u001b[0m\u001b[0;34m,\u001b[0m \u001b[0mdtype\u001b[0m\u001b[0;34m=\u001b[0m\u001b[0mdtype\u001b[0m\u001b[0;34m)\u001b[0m\u001b[0;34m\u001b[0m\u001b[0;34m\u001b[0m\u001b[0m\n\u001b[0;32m--> 102\u001b[0;31m     \u001b[0my_pred\u001b[0m \u001b[0;34m=\u001b[0m \u001b[0mcheck_array\u001b[0m\u001b[0;34m(\u001b[0m\u001b[0my_pred\u001b[0m\u001b[0;34m,\u001b[0m \u001b[0mensure_2d\u001b[0m\u001b[0;34m=\u001b[0m\u001b[0;32mFalse\u001b[0m\u001b[0;34m,\u001b[0m \u001b[0mdtype\u001b[0m\u001b[0;34m=\u001b[0m\u001b[0mdtype\u001b[0m\u001b[0;34m)\u001b[0m\u001b[0;34m\u001b[0m\u001b[0;34m\u001b[0m\u001b[0m\n\u001b[0m\u001b[1;32m    103\u001b[0m \u001b[0;34m\u001b[0m\u001b[0m\n\u001b[1;32m    104\u001b[0m     \u001b[0;32mif\u001b[0m \u001b[0my_true\u001b[0m\u001b[0;34m.\u001b[0m\u001b[0mndim\u001b[0m \u001b[0;34m==\u001b[0m \u001b[0;36m1\u001b[0m\u001b[0;34m:\u001b[0m\u001b[0;34m\u001b[0m\u001b[0;34m\u001b[0m\u001b[0m\n",
            "\u001b[0;32m~/opt/anaconda3/lib/python3.9/site-packages/sklearn/utils/validation.py\u001b[0m in \u001b[0;36mcheck_array\u001b[0;34m(array, accept_sparse, accept_large_sparse, dtype, order, copy, force_all_finite, ensure_2d, allow_nd, ensure_min_samples, ensure_min_features, estimator, input_name)\u001b[0m\n\u001b[1;32m    897\u001b[0m \u001b[0;34m\u001b[0m\u001b[0m\n\u001b[1;32m    898\u001b[0m         \u001b[0;32mif\u001b[0m \u001b[0mforce_all_finite\u001b[0m\u001b[0;34m:\u001b[0m\u001b[0;34m\u001b[0m\u001b[0;34m\u001b[0m\u001b[0m\n\u001b[0;32m--> 899\u001b[0;31m             _assert_all_finite(\n\u001b[0m\u001b[1;32m    900\u001b[0m                 \u001b[0marray\u001b[0m\u001b[0;34m,\u001b[0m\u001b[0;34m\u001b[0m\u001b[0;34m\u001b[0m\u001b[0m\n\u001b[1;32m    901\u001b[0m                 \u001b[0minput_name\u001b[0m\u001b[0;34m=\u001b[0m\u001b[0minput_name\u001b[0m\u001b[0;34m,\u001b[0m\u001b[0;34m\u001b[0m\u001b[0;34m\u001b[0m\u001b[0m\n",
            "\u001b[0;32m~/opt/anaconda3/lib/python3.9/site-packages/sklearn/utils/validation.py\u001b[0m in \u001b[0;36m_assert_all_finite\u001b[0;34m(X, allow_nan, msg_dtype, estimator_name, input_name)\u001b[0m\n\u001b[1;32m    144\u001b[0m                     \u001b[0;34m\"#estimators-that-handle-nan-values\"\u001b[0m\u001b[0;34m\u001b[0m\u001b[0;34m\u001b[0m\u001b[0m\n\u001b[1;32m    145\u001b[0m                 )\n\u001b[0;32m--> 146\u001b[0;31m             \u001b[0;32mraise\u001b[0m \u001b[0mValueError\u001b[0m\u001b[0;34m(\u001b[0m\u001b[0mmsg_err\u001b[0m\u001b[0;34m)\u001b[0m\u001b[0;34m\u001b[0m\u001b[0;34m\u001b[0m\u001b[0m\n\u001b[0m\u001b[1;32m    147\u001b[0m \u001b[0;34m\u001b[0m\u001b[0m\n\u001b[1;32m    148\u001b[0m     \u001b[0;31m# for object dtype data, we only check for NaNs (GH-13254)\u001b[0m\u001b[0;34m\u001b[0m\u001b[0;34m\u001b[0m\u001b[0m\n",
            "\u001b[0;31mValueError\u001b[0m: Input contains NaN."
          ]
        }
      ],
      "source": [
        "from sklearn.metrics import mean_squared_error\n",
        "\n",
        "def evaluate_model(max_depth,x_test, y_test):\n",
        "  evaluation = []\n",
        "  for n in range(max_depth+1):\n",
        "    eval_tree = TreeRegressor(max_depth=n)\n",
        "    eval_tree.fit(Xtrain, Ytrain)\n",
        "    eval_preds = eval_tree.predict(x_test)\n",
        "    evaluation.append(mean_squared_error(y_test, eval_preds))\n",
        "\n",
        "  return evaluation\n",
        "\n",
        "train_evaluation = evaluate_model(12, Xtrain, Ytrain)\n",
        "test_evaluation = evaluate_model(12, Xtest, Ytest)\n",
        "\n",
        "plt.plot(train_evaluation)\n",
        "plt.plot(test_evaluation)\n",
        "plt.legend(['Train', 'Test'])\n",
        "plt.xlabel('Maximum depth')\n",
        "plt.ylabel('MSE')\n",
        "plt.title('Train and test Mean Squared Errors')"
      ]
    }
  ],
  "metadata": {
    "colab": {
      "provenance": []
    },
    "kernelspec": {
      "display_name": "base",
      "language": "python",
      "name": "python3"
    },
    "language_info": {
      "codemirror_mode": {
        "name": "ipython",
        "version": 3
      },
      "file_extension": ".py",
      "mimetype": "text/x-python",
      "name": "python",
      "nbconvert_exporter": "python",
      "pygments_lexer": "ipython3",
      "version": "3.9.13"
    },
    "orig_nbformat": 4,
    "vscode": {
      "interpreter": {
        "hash": "a664d1040e594a137764b6ee589969765522618c5bd601b757865d94053fd831"
      }
    }
  },
  "nbformat": 4,
  "nbformat_minor": 0
}
